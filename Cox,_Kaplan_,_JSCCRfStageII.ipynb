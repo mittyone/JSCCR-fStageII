{
  "nbformat": 4,
  "nbformat_minor": 0,
  "metadata": {
    "colab": {
      "provenance": [],
      "authorship_tag": "ABX9TyNkB+1sYeOC76LITAG8za7g",
      "include_colab_link": true
    },
    "kernelspec": {
      "name": "python3",
      "display_name": "Python 3"
    },
    "language_info": {
      "name": "python"
    }
  },
  "cells": [
    {
      "cell_type": "markdown",
      "metadata": {
        "id": "view-in-github",
        "colab_type": "text"
      },
      "source": [
        "<a href=\"https://colab.research.google.com/github/mittyone/JSCCR-fStageII/blob/main/Cox%2C_Kaplan_%2C_JSCCRfStageII.ipynb\" target=\"_parent\"><img src=\"https://colab.research.google.com/assets/colab-badge.svg\" alt=\"Open In Colab\"/></a>"
      ]
    },
    {
      "cell_type": "code",
      "source": [
        "!pip install lifelines\n"
      ],
      "metadata": {
        "id": "diQI4Cztpyy8",
        "colab": {
          "base_uri": "https://localhost:8080/"
        },
        "outputId": "71e3bd99-b3d8-4b8b-8b42-07e9c717ad49"
      },
      "execution_count": null,
      "outputs": [
        {
          "output_type": "stream",
          "name": "stdout",
          "text": [
            "Collecting lifelines\n",
            "  Downloading lifelines-0.28.0-py3-none-any.whl (349 kB)\n",
            "\u001b[?25l     \u001b[90m━━━━━━━━━━━━━━━━━━━━━━━━━━━━━━━━━━━━━━━━\u001b[0m \u001b[32m0.0/349.2 kB\u001b[0m \u001b[31m?\u001b[0m eta \u001b[36m-:--:--\u001b[0m\r\u001b[2K     \u001b[91m━━━━━━━━━━━━━━━━━━\u001b[0m\u001b[91m╸\u001b[0m\u001b[90m━━━━━━━━━━━━━━━━━━━━━\u001b[0m \u001b[32m163.8/349.2 kB\u001b[0m \u001b[31m4.7 MB/s\u001b[0m eta \u001b[36m0:00:01\u001b[0m\r\u001b[2K     \u001b[90m━━━━━━━━━━━━━━━━━━━━━━━━━━━━━━━━━━━━━━━━\u001b[0m \u001b[32m349.2/349.2 kB\u001b[0m \u001b[31m7.1 MB/s\u001b[0m eta \u001b[36m0:00:00\u001b[0m\n",
            "\u001b[?25hRequirement already satisfied: numpy<2.0,>=1.14.0 in /usr/local/lib/python3.10/dist-packages (from lifelines) (1.23.5)\n",
            "Requirement already satisfied: scipy>=1.2.0 in /usr/local/lib/python3.10/dist-packages (from lifelines) (1.11.4)\n",
            "Requirement already satisfied: pandas>=1.2.0 in /usr/local/lib/python3.10/dist-packages (from lifelines) (1.5.3)\n",
            "Requirement already satisfied: matplotlib>=3.0 in /usr/local/lib/python3.10/dist-packages (from lifelines) (3.7.1)\n",
            "Requirement already satisfied: autograd>=1.5 in /usr/local/lib/python3.10/dist-packages (from lifelines) (1.6.2)\n",
            "Collecting autograd-gamma>=0.3 (from lifelines)\n",
            "  Downloading autograd-gamma-0.5.0.tar.gz (4.0 kB)\n",
            "  Preparing metadata (setup.py) ... \u001b[?25l\u001b[?25hdone\n",
            "Collecting formulaic>=0.2.2 (from lifelines)\n",
            "  Downloading formulaic-1.0.1-py3-none-any.whl (94 kB)\n",
            "\u001b[2K     \u001b[90m━━━━━━━━━━━━━━━━━━━━━━━━━━━━━━━━━━━━━━━━\u001b[0m \u001b[32m94.2/94.2 kB\u001b[0m \u001b[31m11.0 MB/s\u001b[0m eta \u001b[36m0:00:00\u001b[0m\n",
            "\u001b[?25hRequirement already satisfied: future>=0.15.2 in /usr/local/lib/python3.10/dist-packages (from autograd>=1.5->lifelines) (0.18.3)\n",
            "Collecting interface-meta>=1.2.0 (from formulaic>=0.2.2->lifelines)\n",
            "  Downloading interface_meta-1.3.0-py3-none-any.whl (14 kB)\n",
            "Requirement already satisfied: typing-extensions>=4.2.0 in /usr/local/lib/python3.10/dist-packages (from formulaic>=0.2.2->lifelines) (4.5.0)\n",
            "Requirement already satisfied: wrapt>=1.0 in /usr/local/lib/python3.10/dist-packages (from formulaic>=0.2.2->lifelines) (1.14.1)\n",
            "Requirement already satisfied: contourpy>=1.0.1 in /usr/local/lib/python3.10/dist-packages (from matplotlib>=3.0->lifelines) (1.2.0)\n",
            "Requirement already satisfied: cycler>=0.10 in /usr/local/lib/python3.10/dist-packages (from matplotlib>=3.0->lifelines) (0.12.1)\n",
            "Requirement already satisfied: fonttools>=4.22.0 in /usr/local/lib/python3.10/dist-packages (from matplotlib>=3.0->lifelines) (4.47.2)\n",
            "Requirement already satisfied: kiwisolver>=1.0.1 in /usr/local/lib/python3.10/dist-packages (from matplotlib>=3.0->lifelines) (1.4.5)\n",
            "Requirement already satisfied: packaging>=20.0 in /usr/local/lib/python3.10/dist-packages (from matplotlib>=3.0->lifelines) (23.2)\n",
            "Requirement already satisfied: pillow>=6.2.0 in /usr/local/lib/python3.10/dist-packages (from matplotlib>=3.0->lifelines) (9.4.0)\n",
            "Requirement already satisfied: pyparsing>=2.3.1 in /usr/local/lib/python3.10/dist-packages (from matplotlib>=3.0->lifelines) (3.1.1)\n",
            "Requirement already satisfied: python-dateutil>=2.7 in /usr/local/lib/python3.10/dist-packages (from matplotlib>=3.0->lifelines) (2.8.2)\n",
            "Requirement already satisfied: pytz>=2020.1 in /usr/local/lib/python3.10/dist-packages (from pandas>=1.2.0->lifelines) (2023.3.post1)\n",
            "Requirement already satisfied: six>=1.5 in /usr/local/lib/python3.10/dist-packages (from python-dateutil>=2.7->matplotlib>=3.0->lifelines) (1.16.0)\n",
            "Building wheels for collected packages: autograd-gamma\n",
            "  Building wheel for autograd-gamma (setup.py) ... \u001b[?25l\u001b[?25hdone\n",
            "  Created wheel for autograd-gamma: filename=autograd_gamma-0.5.0-py3-none-any.whl size=4031 sha256=ad5ee0f70ead7b0d03aad70fef2a280b5fc38614ed5456cef24a56dfd1e1c53c\n",
            "  Stored in directory: /root/.cache/pip/wheels/25/cc/e0/ef2969164144c899fedb22b338f6703e2b9cf46eeebf254991\n",
            "Successfully built autograd-gamma\n",
            "Installing collected packages: interface-meta, autograd-gamma, formulaic, lifelines\n",
            "Successfully installed autograd-gamma-0.5.0 formulaic-1.0.1 interface-meta-1.3.0 lifelines-0.28.0\n"
          ]
        }
      ]
    },
    {
      "cell_type": "code",
      "source": [
        "import pandas as pd\n",
        "from lifelines import CoxPHFitter\n",
        "\n",
        "df = pd.read_excel('JSCCR fStageII pathology.xlsx')"
      ],
      "metadata": {
        "id": "ovJMHM7Mvm8z"
      },
      "execution_count": null,
      "outputs": []
    },
    {
      "cell_type": "code",
      "source": [
        "# 'pDepth' と 'ly' のダミー変数を作成\n",
        "df_dummies = pd.get_dummies(df, columns=['pDepth', 'ly','v', 'CEA', 'LN number', 'Pathology'], drop_first=True)\n",
        "\n",
        "# Cox比例ハザードモデルの適用\n",
        "cph = CoxPHFitter()\n",
        "cph.fit(df_dummies, duration_col='DFS', event_col='Event')\n",
        "result = cph.summary\n",
        "\n",
        "# 結果の表示\n",
        "print(result)"
      ],
      "metadata": {
        "id": "rcr8OTB1z7e6",
        "colab": {
          "base_uri": "https://localhost:8080/"
        },
        "outputId": "85142bfe-ddd8-4379-d177-c9a5c2986275"
      },
      "execution_count": null,
      "outputs": [
        {
          "output_type": "stream",
          "name": "stdout",
          "text": [
            "                 coef  exp(coef)  se(coef)  coef lower 95%  coef upper 95%  \\\n",
            "covariate                                                                    \n",
            "pDepth_2     0.169755   1.185015  0.054528        0.062883        0.276627   \n",
            "pDepth_3     0.077813   1.080921  0.100807       -0.119764        0.275391   \n",
            "ly_2        -0.024799   0.975506  0.043447       -0.109954        0.060357   \n",
            "ly_3         0.007352   1.007380  0.078800       -0.147093        0.161798   \n",
            "ly_4        -0.041709   0.959149  0.205047       -0.443595        0.360177   \n",
            "v_2          0.031243   1.031736  0.046229       -0.059363        0.121850   \n",
            "v_3          0.079953   1.083236  0.064401       -0.046271        0.206176   \n",
            "v_4          0.182733   1.200493  0.111044       -0.034909        0.400374   \n",
            "CEA_2        0.061638   1.063577  0.045678       -0.027890        0.151165   \n",
            "CEA_3        0.119627   1.127076  0.071683       -0.020870        0.260123   \n",
            "LN number_2  0.098605   1.103630  0.044456        0.011473        0.185736   \n",
            "Pathology_2  0.024152   1.024446  0.041914       -0.057999        0.106303   \n",
            "Pathology_3  0.031973   1.032490  0.084852       -0.134334        0.198280   \n",
            "\n",
            "             exp(coef) lower 95%  exp(coef) upper 95%  cmp to         z  \\\n",
            "covariate                                                                 \n",
            "pDepth_2                1.064903             1.318675     0.0  3.113206   \n",
            "pDepth_3                0.887130             1.317046     0.0  0.771908   \n",
            "ly_2                    0.895876             1.062215     0.0 -0.570772   \n",
            "ly_3                    0.863214             1.175622     0.0  0.093306   \n",
            "ly_4                    0.641725             1.433583     0.0 -0.203412   \n",
            "v_2                     0.942364             1.129585     0.0  0.675841   \n",
            "v_3                     0.954784             1.228970     0.0  1.241485   \n",
            "v_4                     0.965694             1.492383     0.0  1.645594   \n",
            "CEA_2                   0.972496             1.163189     0.0  1.349392   \n",
            "CEA_3                   0.979347             1.297090     0.0  1.668828   \n",
            "LN number_2             1.011539             1.204105     0.0  2.218044   \n",
            "Pathology_2             0.943651             1.112159     0.0  0.576227   \n",
            "Pathology_3             0.874298             1.219304     0.0  0.376808   \n",
            "\n",
            "                    p  -log2(p)  \n",
            "covariate                        \n",
            "pDepth_2     0.001851  9.077737  \n",
            "pDepth_3     0.440169  1.183870  \n",
            "ly_2         0.568154  0.815646  \n",
            "ly_3         0.925661  0.111444  \n",
            "ly_4         0.838813  0.253579  \n",
            "v_2          0.499142  1.002478  \n",
            "v_3          0.214427  2.221444  \n",
            "v_4          0.099847  3.324132  \n",
            "CEA_2        0.177211  2.496460  \n",
            "CEA_3        0.095151  3.393630  \n",
            "LN number_2  0.026552  5.235044  \n",
            "Pathology_2  0.564462  0.825051  \n",
            "Pathology_3  0.706317  0.501613  \n"
          ]
        }
      ]
    },
    {
      "cell_type": "code",
      "source": [
        "# Cox比例ハザードモデルの適用\n",
        "cph = CoxPHFitter()\n",
        "cph.fit(df_dummies, duration_col='DFS', event_col='Event')\n",
        "result = cph.summary\n",
        "\n",
        "# 結果をExcelファイルに出力\n",
        "result.to_excel('cox_model_multivariate_analysis_results.xlsx')\n"
      ],
      "metadata": {
        "id": "UyZRsx8vV7wn"
      },
      "execution_count": null,
      "outputs": []
    },
    {
      "cell_type": "code",
      "source": [
        "import numpy as np\n",
        "\n",
        "# Cox比例ハザードモデルの初期化\n",
        "cph = CoxPHFitter()\n",
        "\n",
        "# 結果を格納するための空のデータフレーム\n",
        "summary_df = pd.DataFrame()\n",
        "\n",
        "# 変数のリスト\n",
        "variables = ['pDepth', 'ly', 'v', 'CEA', 'LN number', 'Pathology']\n",
        "\n",
        "# 全てのカテゴリカル変数のダミー変数を作成\n",
        "df_dummy = pd.get_dummies(df, columns=variables, drop_first=True)\n",
        "\n",
        "# 単変量解析の実行\n",
        "for var in df_dummy.columns.drop(['DFS', 'Event']):\n",
        "    cph.fit(df_dummy[['DFS', 'Event', var]], 'DFS', event_col='Event')\n",
        "    # 結果の抽出\n",
        "    coef = cph.summary.loc[var, 'coef']\n",
        "    coef_lower_95 = cph.summary.loc[var, 'coef lower 95%']\n",
        "    coef_upper_95 = cph.summary.loc[var, 'coef upper 95%']\n",
        "    row = cph.summary.loc[var, ['exp(coef)', 'p']]\n",
        "    row['exp(coef) lower 95%'] = np.exp(coef_lower_95)\n",
        "    row['exp(coef) upper 95%'] = np.exp(coef_upper_95)\n",
        "    row.name = var\n",
        "    summary_df = summary_df.append(row)\n",
        "\n",
        "# 要約表の表示\n",
        "print(summary_df)\n"
      ],
      "metadata": {
        "id": "J1Zr-Xdrz7iC",
        "colab": {
          "base_uri": "https://localhost:8080/"
        },
        "outputId": "b5405267-4125-4b99-fd59-fdf92604526e"
      },
      "execution_count": null,
      "outputs": [
        {
          "output_type": "stream",
          "name": "stderr",
          "text": [
            "<ipython-input-5-552a4dad2553>:26: FutureWarning: The frame.append method is deprecated and will be removed from pandas in a future version. Use pandas.concat instead.\n",
            "  summary_df = summary_df.append(row)\n",
            "<ipython-input-5-552a4dad2553>:26: FutureWarning: The frame.append method is deprecated and will be removed from pandas in a future version. Use pandas.concat instead.\n",
            "  summary_df = summary_df.append(row)\n",
            "<ipython-input-5-552a4dad2553>:26: FutureWarning: The frame.append method is deprecated and will be removed from pandas in a future version. Use pandas.concat instead.\n",
            "  summary_df = summary_df.append(row)\n",
            "<ipython-input-5-552a4dad2553>:26: FutureWarning: The frame.append method is deprecated and will be removed from pandas in a future version. Use pandas.concat instead.\n",
            "  summary_df = summary_df.append(row)\n",
            "<ipython-input-5-552a4dad2553>:26: FutureWarning: The frame.append method is deprecated and will be removed from pandas in a future version. Use pandas.concat instead.\n",
            "  summary_df = summary_df.append(row)\n",
            "<ipython-input-5-552a4dad2553>:26: FutureWarning: The frame.append method is deprecated and will be removed from pandas in a future version. Use pandas.concat instead.\n",
            "  summary_df = summary_df.append(row)\n",
            "<ipython-input-5-552a4dad2553>:26: FutureWarning: The frame.append method is deprecated and will be removed from pandas in a future version. Use pandas.concat instead.\n",
            "  summary_df = summary_df.append(row)\n",
            "<ipython-input-5-552a4dad2553>:26: FutureWarning: The frame.append method is deprecated and will be removed from pandas in a future version. Use pandas.concat instead.\n",
            "  summary_df = summary_df.append(row)\n",
            "<ipython-input-5-552a4dad2553>:26: FutureWarning: The frame.append method is deprecated and will be removed from pandas in a future version. Use pandas.concat instead.\n",
            "  summary_df = summary_df.append(row)\n",
            "<ipython-input-5-552a4dad2553>:26: FutureWarning: The frame.append method is deprecated and will be removed from pandas in a future version. Use pandas.concat instead.\n",
            "  summary_df = summary_df.append(row)\n",
            "<ipython-input-5-552a4dad2553>:26: FutureWarning: The frame.append method is deprecated and will be removed from pandas in a future version. Use pandas.concat instead.\n",
            "  summary_df = summary_df.append(row)\n"
          ]
        },
        {
          "output_type": "stream",
          "name": "stdout",
          "text": [
            "             exp(coef)         p  exp(coef) lower 95%  exp(coef) upper 95%\n",
            "pDepth_2      1.190938  0.001127             1.072054             1.323004\n",
            "pDepth_3      1.062138  0.541881             0.875096             1.289158\n",
            "ly_2          0.977319  0.568041             0.903303             1.057401\n",
            "ly_3          1.080814  0.281300             0.938323             1.244943\n",
            "ly_4          1.031575  0.877104             0.695648             1.529720\n",
            "v_2           0.992092  0.843955             0.916686             1.073701\n",
            "v_3           1.067204  0.250117             0.955229             1.192306\n",
            "v_4           1.163350  0.152320             0.945659             1.431153\n",
            "CEA_2         1.051592  0.258128             0.963788             1.147395\n",
            "CEA_3         1.110405  0.133403             0.968469             1.273143\n",
            "LN number_2   1.094782  0.039965             1.004159             1.193583\n",
            "Pathology_2   1.017734  0.662626             0.940455             1.101364\n",
            "Pathology_3   1.004370  0.957337             0.856087             1.178336\n"
          ]
        },
        {
          "output_type": "stream",
          "name": "stderr",
          "text": [
            "<ipython-input-5-552a4dad2553>:26: FutureWarning: The frame.append method is deprecated and will be removed from pandas in a future version. Use pandas.concat instead.\n",
            "  summary_df = summary_df.append(row)\n",
            "<ipython-input-5-552a4dad2553>:26: FutureWarning: The frame.append method is deprecated and will be removed from pandas in a future version. Use pandas.concat instead.\n",
            "  summary_df = summary_df.append(row)\n"
          ]
        }
      ]
    },
    {
      "cell_type": "code",
      "source": [
        "summary_df.to_excel('cox_model_univariate_analysis.xlsx')"
      ],
      "metadata": {
        "id": "jyXmdjXBXrjn"
      },
      "execution_count": null,
      "outputs": []
    },
    {
      "cell_type": "code",
      "source": [],
      "metadata": {
        "id": "LTQcrdDTXrnF"
      },
      "execution_count": null,
      "outputs": []
    },
    {
      "cell_type": "code",
      "source": [],
      "metadata": {
        "id": "9fjfd5-fwPnB"
      },
      "execution_count": null,
      "outputs": []
    },
    {
      "cell_type": "code",
      "source": [
        "import pandas as pd\n",
        "from lifelines import CoxPHFitter\n",
        "\n",
        "df = pd.read_excel('JSCCR fStageII all var.xlsx')"
      ],
      "metadata": {
        "id": "qCXFVlYmcMmY"
      },
      "execution_count": null,
      "outputs": []
    },
    {
      "cell_type": "code",
      "source": [
        "print(df.columns)"
      ],
      "metadata": {
        "colab": {
          "base_uri": "https://localhost:8080/"
        },
        "id": "Xmawad4IcMyH",
        "outputId": "be051804-71d7-47e0-c125-1d1d2e570389"
      },
      "execution_count": null,
      "outputs": [
        {
          "output_type": "stream",
          "name": "stdout",
          "text": [
            "Index(['gender', 'age', 'Approach', 'operation', 'LN dissection', 'Pathology',\n",
            "       'pDepth', 'ly', 'v', 'CEA', 'LN number', 'Location', 'Obstruction',\n",
            "       'Event', 'DFS'],\n",
            "      dtype='object')\n"
          ]
        }
      ]
    },
    {
      "cell_type": "code",
      "source": [
        "import numpy as np\n",
        "\n",
        "# Cox比例ハザードモデルの初期化\n",
        "cph = CoxPHFitter()\n",
        "\n",
        "# 結果を格納するための空のデータフレーム\n",
        "summary_df = pd.DataFrame()\n",
        "\n",
        "# 変数のリスト\n",
        "variables = ['gender', 'age', 'Approach', 'operation', 'LN dissection', 'Location',\n",
        "       'Obstruction', 'Pathology', 'pDepth', 'ly', 'v', 'CEA', 'LN number']\n",
        "\n",
        "# 全てのカテゴリカル変数のダミー変数を作成\n",
        "df_dummy = pd.get_dummies(df, columns=variables, drop_first=True)\n",
        "\n",
        "# 単変量解析の実行\n",
        "for var in df_dummy.columns.drop(['DFS', 'Event']):\n",
        "    cph.fit(df_dummy[['DFS', 'Event', var]], 'DFS', event_col='Event')\n",
        "    # 結果の抽出\n",
        "    coef = cph.summary.loc[var, 'coef']\n",
        "    coef_lower_95 = cph.summary.loc[var, 'coef lower 95%']\n",
        "    coef_upper_95 = cph.summary.loc[var, 'coef upper 95%']\n",
        "    row = cph.summary.loc[var, ['exp(coef)', 'p']]\n",
        "    row['exp(coef) lower 95%'] = np.exp(coef_lower_95)\n",
        "    row['exp(coef) upper 95%'] = np.exp(coef_upper_95)\n",
        "    row.name = var\n",
        "    summary_df = summary_df.append(row)\n",
        "\n",
        "# 要約表の表示\n",
        "print(summary_df)\n"
      ],
      "metadata": {
        "colab": {
          "base_uri": "https://localhost:8080/"
        },
        "id": "_jPmFMuAcM4r",
        "outputId": "e10d7d5e-16a8-4bff-a966-232716356a4e"
      },
      "execution_count": null,
      "outputs": [
        {
          "output_type": "stream",
          "name": "stderr",
          "text": [
            "<ipython-input-4-a3c2200fd531>:27: FutureWarning: The frame.append method is deprecated and will be removed from pandas in a future version. Use pandas.concat instead.\n",
            "  summary_df = summary_df.append(row)\n",
            "<ipython-input-4-a3c2200fd531>:27: FutureWarning: The frame.append method is deprecated and will be removed from pandas in a future version. Use pandas.concat instead.\n",
            "  summary_df = summary_df.append(row)\n",
            "<ipython-input-4-a3c2200fd531>:27: FutureWarning: The frame.append method is deprecated and will be removed from pandas in a future version. Use pandas.concat instead.\n",
            "  summary_df = summary_df.append(row)\n",
            "<ipython-input-4-a3c2200fd531>:27: FutureWarning: The frame.append method is deprecated and will be removed from pandas in a future version. Use pandas.concat instead.\n",
            "  summary_df = summary_df.append(row)\n",
            "<ipython-input-4-a3c2200fd531>:27: FutureWarning: The frame.append method is deprecated and will be removed from pandas in a future version. Use pandas.concat instead.\n",
            "  summary_df = summary_df.append(row)\n",
            "<ipython-input-4-a3c2200fd531>:27: FutureWarning: The frame.append method is deprecated and will be removed from pandas in a future version. Use pandas.concat instead.\n",
            "  summary_df = summary_df.append(row)\n",
            "<ipython-input-4-a3c2200fd531>:27: FutureWarning: The frame.append method is deprecated and will be removed from pandas in a future version. Use pandas.concat instead.\n",
            "  summary_df = summary_df.append(row)\n",
            "<ipython-input-4-a3c2200fd531>:27: FutureWarning: The frame.append method is deprecated and will be removed from pandas in a future version. Use pandas.concat instead.\n",
            "  summary_df = summary_df.append(row)\n",
            "<ipython-input-4-a3c2200fd531>:27: FutureWarning: The frame.append method is deprecated and will be removed from pandas in a future version. Use pandas.concat instead.\n",
            "  summary_df = summary_df.append(row)\n",
            "<ipython-input-4-a3c2200fd531>:27: FutureWarning: The frame.append method is deprecated and will be removed from pandas in a future version. Use pandas.concat instead.\n",
            "  summary_df = summary_df.append(row)\n",
            "<ipython-input-4-a3c2200fd531>:27: FutureWarning: The frame.append method is deprecated and will be removed from pandas in a future version. Use pandas.concat instead.\n",
            "  summary_df = summary_df.append(row)\n",
            "<ipython-input-4-a3c2200fd531>:27: FutureWarning: The frame.append method is deprecated and will be removed from pandas in a future version. Use pandas.concat instead.\n",
            "  summary_df = summary_df.append(row)\n",
            "<ipython-input-4-a3c2200fd531>:27: FutureWarning: The frame.append method is deprecated and will be removed from pandas in a future version. Use pandas.concat instead.\n",
            "  summary_df = summary_df.append(row)\n",
            "<ipython-input-4-a3c2200fd531>:27: FutureWarning: The frame.append method is deprecated and will be removed from pandas in a future version. Use pandas.concat instead.\n",
            "  summary_df = summary_df.append(row)\n",
            "<ipython-input-4-a3c2200fd531>:27: FutureWarning: The frame.append method is deprecated and will be removed from pandas in a future version. Use pandas.concat instead.\n",
            "  summary_df = summary_df.append(row)\n",
            "<ipython-input-4-a3c2200fd531>:27: FutureWarning: The frame.append method is deprecated and will be removed from pandas in a future version. Use pandas.concat instead.\n",
            "  summary_df = summary_df.append(row)\n",
            "<ipython-input-4-a3c2200fd531>:27: FutureWarning: The frame.append method is deprecated and will be removed from pandas in a future version. Use pandas.concat instead.\n",
            "  summary_df = summary_df.append(row)\n",
            "<ipython-input-4-a3c2200fd531>:27: FutureWarning: The frame.append method is deprecated and will be removed from pandas in a future version. Use pandas.concat instead.\n",
            "  summary_df = summary_df.append(row)\n",
            "<ipython-input-4-a3c2200fd531>:27: FutureWarning: The frame.append method is deprecated and will be removed from pandas in a future version. Use pandas.concat instead.\n",
            "  summary_df = summary_df.append(row)\n",
            "<ipython-input-4-a3c2200fd531>:27: FutureWarning: The frame.append method is deprecated and will be removed from pandas in a future version. Use pandas.concat instead.\n",
            "  summary_df = summary_df.append(row)\n",
            "<ipython-input-4-a3c2200fd531>:27: FutureWarning: The frame.append method is deprecated and will be removed from pandas in a future version. Use pandas.concat instead.\n",
            "  summary_df = summary_df.append(row)\n",
            "<ipython-input-4-a3c2200fd531>:27: FutureWarning: The frame.append method is deprecated and will be removed from pandas in a future version. Use pandas.concat instead.\n",
            "  summary_df = summary_df.append(row)\n",
            "<ipython-input-4-a3c2200fd531>:27: FutureWarning: The frame.append method is deprecated and will be removed from pandas in a future version. Use pandas.concat instead.\n",
            "  summary_df = summary_df.append(row)\n",
            "<ipython-input-4-a3c2200fd531>:27: FutureWarning: The frame.append method is deprecated and will be removed from pandas in a future version. Use pandas.concat instead.\n",
            "  summary_df = summary_df.append(row)\n",
            "<ipython-input-4-a3c2200fd531>:27: FutureWarning: The frame.append method is deprecated and will be removed from pandas in a future version. Use pandas.concat instead.\n",
            "  summary_df = summary_df.append(row)\n",
            "<ipython-input-4-a3c2200fd531>:27: FutureWarning: The frame.append method is deprecated and will be removed from pandas in a future version. Use pandas.concat instead.\n",
            "  summary_df = summary_df.append(row)\n",
            "<ipython-input-4-a3c2200fd531>:27: FutureWarning: The frame.append method is deprecated and will be removed from pandas in a future version. Use pandas.concat instead.\n",
            "  summary_df = summary_df.append(row)\n",
            "<ipython-input-4-a3c2200fd531>:27: FutureWarning: The frame.append method is deprecated and will be removed from pandas in a future version. Use pandas.concat instead.\n",
            "  summary_df = summary_df.append(row)\n",
            "<ipython-input-4-a3c2200fd531>:27: FutureWarning: The frame.append method is deprecated and will be removed from pandas in a future version. Use pandas.concat instead.\n",
            "  summary_df = summary_df.append(row)\n"
          ]
        },
        {
          "output_type": "stream",
          "name": "stdout",
          "text": [
            "                 exp(coef)             p  exp(coef) lower 95%  \\\n",
            "gender_2          0.976044  5.473167e-01             0.901930   \n",
            "age_2             0.987853  7.700913e-01             0.910116   \n",
            "age_3             1.514021  1.350018e-16             1.372260   \n",
            "Approach_2        1.072592  1.775611e-01             0.968709   \n",
            "Approach_99       0.839857  7.613950e-02             0.692538   \n",
            "operation_2       1.023496  7.474731e-01             0.888563   \n",
            "operation_3       1.008175  8.531294e-01             0.924917   \n",
            "operation_4       1.013338  8.640812e-01             0.870706   \n",
            "operation_5       0.972121  5.191207e-01             0.892050   \n",
            "operation_6       1.470576  6.422210e-03             1.114396   \n",
            "operation_7       0.931532  2.279552e-01             0.830088   \n",
            "LN dissection_2   1.168550  2.171521e-04             1.075958   \n",
            "LN dissection_3   0.847339  4.513771e-05             0.782515   \n",
            "Location_2        0.969222  4.365118e-01             0.895828   \n",
            "Obstruction_2     0.997074  9.561516e-01             0.898187   \n",
            "Obstruction_3     1.061344  1.514218e-01             0.978429   \n",
            "Obstruction_99    1.120348  1.550001e-01             0.957929   \n",
            "Pathology_2       1.017734  6.626262e-01             0.940455   \n",
            "Pathology_3       1.004370  9.573369e-01             0.856087   \n",
            "pDepth_2          1.190938  1.127262e-03             1.072054   \n",
            "pDepth_3          1.062138  5.418806e-01             0.875096   \n",
            "ly_2              0.977319  5.680409e-01             0.903303   \n",
            "ly_3              1.080814  2.813004e-01             0.938323   \n",
            "ly_4              1.031575  8.771041e-01             0.695648   \n",
            "v_2               0.992092  8.439550e-01             0.916686   \n",
            "v_3               1.067204  2.501171e-01             0.955229   \n",
            "v_4               1.163350  1.523197e-01             0.945659   \n",
            "CEA_2             1.051592  2.581284e-01             0.963788   \n",
            "CEA_3             1.110405  1.334025e-01             0.968469   \n",
            "LN number_2       1.094782  3.996467e-02             1.004159   \n",
            "\n",
            "                 exp(coef) upper 95%  \n",
            "gender_2                    1.056249  \n",
            "age_2                       1.072229  \n",
            "age_3                       1.670427  \n",
            "Approach_2                  1.187616  \n",
            "Approach_99                 1.018514  \n",
            "operation_2                 1.178920  \n",
            "operation_3                 1.098927  \n",
            "operation_4                 1.179334  \n",
            "operation_5                 1.059380  \n",
            "operation_6                 1.940598  \n",
            "operation_7                 1.045374  \n",
            "LN dissection_2             1.269109  \n",
            "LN dissection_3             0.917533  \n",
            "Location_2                  1.048629  \n",
            "Obstruction_2               1.106848  \n",
            "Obstruction_3               1.151284  \n",
            "Obstruction_99              1.310305  \n",
            "Pathology_2                 1.101364  \n",
            "Pathology_3                 1.178336  \n",
            "pDepth_2                    1.323004  \n",
            "pDepth_3                    1.289158  \n",
            "ly_2                        1.057401  \n",
            "ly_3                        1.244943  \n",
            "ly_4                        1.529720  \n",
            "v_2                         1.073701  \n",
            "v_3                         1.192306  \n",
            "v_4                         1.431153  \n",
            "CEA_2                       1.147395  \n",
            "CEA_3                       1.273143  \n",
            "LN number_2                 1.193583  \n"
          ]
        },
        {
          "output_type": "stream",
          "name": "stderr",
          "text": [
            "<ipython-input-4-a3c2200fd531>:27: FutureWarning: The frame.append method is deprecated and will be removed from pandas in a future version. Use pandas.concat instead.\n",
            "  summary_df = summary_df.append(row)\n"
          ]
        }
      ]
    },
    {
      "cell_type": "code",
      "source": [
        "summary_df.to_excel('cox_model_univariate_analysis_all var.xlsx')"
      ],
      "metadata": {
        "id": "1GsncOeRcM7p"
      },
      "execution_count": null,
      "outputs": []
    },
    {
      "cell_type": "code",
      "source": [],
      "metadata": {
        "id": "u63_-XDMcM-w"
      },
      "execution_count": null,
      "outputs": []
    },
    {
      "cell_type": "code",
      "source": [
        "import pandas as pd\n",
        "from lifelines import CoxPHFitter\n",
        "\n",
        "df = pd.read_excel('JSCCR fStageII all var.xlsx')"
      ],
      "metadata": {
        "id": "DWPUMrSTcNBT"
      },
      "execution_count": null,
      "outputs": []
    },
    {
      "cell_type": "code",
      "source": [
        "import pandas as pd\n",
        "from lifelines import CoxPHFitter\n",
        "\n",
        "# データフレーム 'df' が既に存在すると仮定しています。\n",
        "# 必要なカラムだけを選択します\n",
        "df_selected = df[['age', 'pDepth', 'LN number', 'DFS', 'Event']]\n",
        "\n",
        "# 'age', 'pDepth', 'LN number' はカテゴリ変数なのでダミー変数に変換します\n",
        "df_dummies = pd.get_dummies(df_selected, columns=['age', 'pDepth', 'LN number'], drop_first=True)\n",
        "\n",
        "# Cox比例ハザードモデルの適用\n",
        "cph = CoxPHFitter()\n",
        "cph.fit(df_dummies, duration_col='DFS', event_col='Event')\n",
        "result = cph.summary\n",
        "\n",
        "# 結果の表示\n",
        "print(result)\n"
      ],
      "metadata": {
        "id": "zHe3xcbGcNEK",
        "colab": {
          "base_uri": "https://localhost:8080/"
        },
        "outputId": "033c1927-22d6-46df-ce3a-522562eabe9d"
      },
      "execution_count": null,
      "outputs": [
        {
          "output_type": "stream",
          "name": "stdout",
          "text": [
            "                 coef  exp(coef)  se(coef)  coef lower 95%  coef upper 95%  \\\n",
            "covariate                                                                    \n",
            "age_2        0.106897   1.112820  0.045216        0.018275        0.195519   \n",
            "age_3        0.450132   1.568519  0.054436        0.343439        0.556824   \n",
            "pDepth_2     0.158056   1.171232  0.053984        0.052250        0.263863   \n",
            "pDepth_3     0.066942   1.069234  0.099767       -0.128598        0.262483   \n",
            "LN number_2  0.071316   1.073921  0.044338       -0.015585        0.158218   \n",
            "\n",
            "             exp(coef) lower 95%  exp(coef) upper 95%  cmp to         z  \\\n",
            "covariate                                                                 \n",
            "age_2                   1.018443             1.215942     0.0  2.364136   \n",
            "age_3                   1.409788             1.745122     0.0  8.269006   \n",
            "pDepth_2                1.053639             1.301949     0.0  2.927842   \n",
            "pDepth_3                0.879327             1.300154     0.0  0.670984   \n",
            "LN number_2             0.984536             1.171422     0.0  1.608457   \n",
            "\n",
            "                        p   -log2(p)  \n",
            "covariate                             \n",
            "age_2        1.807218e-02   5.790086  \n",
            "age_3        1.350802e-16  52.717033  \n",
            "pDepth_2     3.413230e-03   8.194647  \n",
            "pDepth_3     5.022306e-01   0.993578  \n",
            "LN number_2  1.077351e-01   3.214439  \n"
          ]
        }
      ]
    },
    {
      "cell_type": "code",
      "source": [
        "# 結果をExcelファイルに出力\n",
        "result.to_excel('cox_model_selective_multivariate.xlsx')\n"
      ],
      "metadata": {
        "id": "OfnaUpRGcNHA"
      },
      "execution_count": null,
      "outputs": []
    },
    {
      "cell_type": "code",
      "source": [],
      "metadata": {
        "id": "YIAELGVqcNJ8"
      },
      "execution_count": null,
      "outputs": []
    },
    {
      "cell_type": "code",
      "source": [
        "import pandas as pd\n",
        "\n",
        "df = pd.read_excel('JSCCR fStageII all var.xlsx')"
      ],
      "metadata": {
        "id": "D81zrbSkEqpT"
      },
      "execution_count": null,
      "outputs": []
    },
    {
      "cell_type": "code",
      "source": [
        "import pandas as pd\n",
        "from scipy.stats import chi2_contingency\n",
        "\n",
        "# 仮定：dfはあなたのデータフレームで、'age', 'LN_number'という列が存在します。\n",
        "\n",
        "# ageが1,2のデータを抽出\n",
        "df_age_12 = df[df['age'].isin([1, 2])]\n",
        "\n",
        "# ageが1,3のデータを抽出\n",
        "df_age_13 = df[df['age'].isin([1, 3])]\n",
        "\n",
        "# ageが1,2のときのLN_numberのカイ二乗検定\n",
        "contingency_table_12 = pd.crosstab(df_age_12['age'], df_age_12['LN number'])\n",
        "print(\"Contingency table for age 1,2:\\n\", contingency_table_12)\n",
        "chi2, p, dof, ex = chi2_contingency(contingency_table_12)\n",
        "print(f\"age 1,2: chi2 = {chi2}, p = {p}\")\n",
        "\n",
        "# ageが1,3のときのLN_numberのカイ二乗検定\n",
        "contingency_table_13 = pd.crosstab(df_age_13['age'], df_age_13['LN number'])\n",
        "print(\"Contingency table for age 1,3:\\n\", contingency_table_13)\n",
        "chi2, p, dof, ex = chi2_contingency(contingency_table_13)\n",
        "print(f\"age 1,3: chi2 = {chi2}, p = {p}\")\n"
      ],
      "metadata": {
        "colab": {
          "base_uri": "https://localhost:8080/"
        },
        "id": "p1VRzfc5Eqyc",
        "outputId": "4ea0bd24-4288-44b5-acd3-b3d51328a014"
      },
      "execution_count": null,
      "outputs": [
        {
          "output_type": "stream",
          "name": "stdout",
          "text": [
            "Contingency table for age 1,2:\n",
            " LN number    1    2\n",
            "age                \n",
            "1          810  274\n",
            "2          623  272\n",
            "age 1,2: chi2 = 6.165046981599289, p = 0.013029891292197067\n",
            "Contingency table for age 1,3:\n",
            " LN number    1    2\n",
            "age                \n",
            "1          810  274\n",
            "3          317  183\n",
            "age 1,3: chi2 = 20.824487047586395, p = 5.033527137413917e-06\n"
          ]
        }
      ]
    },
    {
      "cell_type": "code",
      "source": [
        "import pandas as pd\n",
        "from scipy.stats import chi2_contingency\n",
        "\n",
        "# 仮定：dfはあなたのデータフレームで、'age', 'LN_number'という列が存在します。\n",
        "\n",
        "# ageが1,2のデータを抽出\n",
        "df_age_12 = df[df['age'].isin([1, 2])]\n",
        "\n",
        "# ageが1,3のデータを抽出\n",
        "df_age_13 = df[df['age'].isin([1, 3])]\n",
        "\n",
        "# ageが1,2のときのLN_numberのカイ二乗検定\n",
        "contingency_table_12 = pd.crosstab(df_age_12['age'], df_age_12['LN dissection'])\n",
        "print(\"Contingency table for age 1,2:\\n\", contingency_table_12)\n",
        "chi2, p, dof, ex = chi2_contingency(contingency_table_12)\n",
        "print(f\"age 1,2: chi2 = {chi2}, p = {p}\")\n",
        "\n",
        "# ageが1,3のときのLN_numberのカイ二乗検定\n",
        "contingency_table_13 = pd.crosstab(df_age_13['age'], df_age_13['LN dissection'])\n",
        "print(\"Contingency table for age 1,3:\\n\", contingency_table_13)\n",
        "chi2, p, dof, ex = chi2_contingency(contingency_table_13)\n",
        "print(f\"age 1,3: chi2 = {chi2}, p = {p}\")"
      ],
      "metadata": {
        "colab": {
          "base_uri": "https://localhost:8080/"
        },
        "id": "fqNCV-acEq1h",
        "outputId": "1af8a6e1-25a6-4693-8157-8a6b80f0f380"
      },
      "execution_count": null,
      "outputs": [
        {
          "output_type": "stream",
          "name": "stdout",
          "text": [
            "Contingency table for age 1,2:\n",
            " LN dissection   1    2    3\n",
            "age                        \n",
            "1              62  314  708\n",
            "2              72  316  507\n",
            "age 1,2: chi2 = 16.101300886114206, p = 0.0003188944323387938\n",
            "Contingency table for age 1,3:\n",
            " LN dissection   1    2    3\n",
            "age                        \n",
            "1              62  314  708\n",
            "3              59  238  203\n",
            "age 1,3: chi2 = 86.98906844716419, p = 1.2899230214581102e-19\n"
          ]
        }
      ]
    },
    {
      "cell_type": "code",
      "source": [],
      "metadata": {
        "id": "yp8ResMVEq4W"
      },
      "execution_count": null,
      "outputs": []
    },
    {
      "cell_type": "code",
      "source": [],
      "metadata": {
        "id": "rjbhHM-aEq7P"
      },
      "execution_count": null,
      "outputs": []
    },
    {
      "cell_type": "code",
      "source": [],
      "metadata": {
        "id": "lT9l1HGkEq-Y"
      },
      "execution_count": null,
      "outputs": []
    },
    {
      "cell_type": "code",
      "source": [],
      "metadata": {
        "id": "8jxFchbwErBf"
      },
      "execution_count": null,
      "outputs": []
    },
    {
      "cell_type": "code",
      "source": [],
      "metadata": {
        "id": "hwk5wMn6cNM-"
      },
      "execution_count": null,
      "outputs": []
    },
    {
      "cell_type": "code",
      "source": [],
      "metadata": {
        "id": "K__KARkNcNQA"
      },
      "execution_count": null,
      "outputs": []
    },
    {
      "cell_type": "code",
      "source": [],
      "metadata": {
        "id": "JazBA51RcNTc"
      },
      "execution_count": null,
      "outputs": []
    },
    {
      "cell_type": "code",
      "source": [],
      "metadata": {
        "id": "m_iCKanPcIp7"
      },
      "execution_count": null,
      "outputs": []
    },
    {
      "cell_type": "code",
      "source": [],
      "metadata": {
        "id": "-wp5wlAwwPtY"
      },
      "execution_count": null,
      "outputs": []
    },
    {
      "cell_type": "code",
      "source": [
        "import pandas as pd\n",
        "from lifelines import KaplanMeierFitter\n",
        "from lifelines.statistics import logrank_test\n",
        "import matplotlib.pyplot as plt\n",
        "\n",
        "# データの読み込み\n",
        "df = pd.read_excel('JSCCR fStageII all var.xlsx')\n",
        "\n",
        "# pDepthのカテゴリを設定\n",
        "df['pDepth_category'] = df['pDepth'].map({1: 'SS', 2: 'SE', 3: 'SI'})\n",
        "\n",
        "# lyのカテゴリを設定\n",
        "df['v_category'] = df['v'].map({1: 'v0', 2: 'v1', 3: 'v2', 4: 'v3'})\n",
        "\n",
        "# LN numberのカテゴリを設定\n",
        "df['LN_number_category'] = df['LN number'].map({1: '0~11', 2: '12<'})\n",
        "\n",
        "# ageのカテゴリを設定\n",
        "df['age_category'] = df['age'].map({1: '-70', 2: '71-79', 3:'80-'})"
      ],
      "metadata": {
        "id": "Efh2QCYGXrqH"
      },
      "execution_count": null,
      "outputs": []
    },
    {
      "cell_type": "code",
      "source": [
        "def plot_kaplan_meier(df, column):\n",
        "    kmf = KaplanMeierFitter()\n",
        "    plt.figure(figsize=(10, 6))\n",
        "\n",
        "    for value in df[column].unique():\n",
        "        mask = df[column] == value\n",
        "        kmf.fit(df['DFS'][mask], df['Event'][mask], label=value)\n",
        "        kmf.plot(ci_show=False)\n",
        "\n",
        "    plt.title(f\"Kaplan-Meier Curve for {column}\")\n",
        "    plt.xlabel(\"Years\")\n",
        "    plt.ylabel(\"Relapse Free Survival\")\n",
        "    plt.legend()\n",
        "    plt.show()\n",
        "\n",
        "def logrank_test_by_group(df, column):\n",
        "    groups = df[column].unique()\n",
        "    for i in range(len(groups)):\n",
        "        for j in range(i+1, len(groups)):\n",
        "            group1 = df[df[column] == groups[i]]\n",
        "            group2 = df[df[column] == groups[j]]\n",
        "            results = logrank_test(group1['DFS'], group2['DFS'], event_observed_A=group1['Event'], event_observed_B=group2['Event'])\n",
        "            print(f\"Log-rank test between {groups[i]} and {groups[j]} in {column}: p = {results.p_value:.4f}\")\n",
        "\n",
        "# pDepth_categoryに対するKaplan-Meier曲線とLog-rank test\n",
        "plot_kaplan_meier(df, 'pDepth_category')\n",
        "logrank_test_by_group(df, 'pDepth_category')\n",
        "\n",
        "# ly_categoryに対するKaplan-Meier曲線とLog-rank test\n",
        "plot_kaplan_meier(df, 'v_category')\n",
        "logrank_test_by_group(df, 'v_category')\n",
        "\n",
        "# LN_number_categoryに対するKaplan-Meier曲線とLog-rank test\n",
        "plot_kaplan_meier(df, 'LN_number_category')\n",
        "logrank_test_by_group(df, 'LN_number_category')\n",
        "\n",
        "# age_categoryに対するKaplan-Meier曲線とLog-rank test\n",
        "plot_kaplan_meier(df, 'age_category')\n",
        "logrank_test_by_group(df, 'age_category')"
      ],
      "metadata": {
        "id": "uskjHNiIXrtV",
        "colab": {
          "base_uri": "https://localhost:8080/",
          "height": 1000
        },
        "outputId": "03d86fc4-6284-454d-853e-369b7334d0d0"
      },
      "execution_count": null,
      "outputs": [
        {
          "output_type": "display_data",
          "data": {
            "text/plain": [
              "<Figure size 1000x600 with 1 Axes>"
            ],
            "image/png": "[encoded data removed]"
          },
          "metadata": {}
        },
        {
          "output_type": "stream",
          "name": "stdout",
          "text": [
            "Log-rank test between SS and SE in pDepth_category: p = 0.0000\n",
            "Log-rank test between SS and SI in pDepth_category: p = 0.1270\n",
            "Log-rank test between SE and SI in pDepth_category: p = 0.2763\n"
          ]
        },
        {
          "output_type": "display_data",
          "data": {
            "text/plain": [
              "<Figure size 1000x600 with 1 Axes>"
            ],
            "image/png": "[encoded data removed]"
          },
          "metadata": {}
        },
        {
          "output_type": "stream",
          "name": "stdout",
          "text": [
            "Log-rank test between v0 and v1 in v_category: p = 0.3220\n",
            "Log-rank test between v0 and v2 in v_category: p = 0.0229\n",
            "Log-rank test between v0 and v3 in v_category: p = 0.0084\n",
            "Log-rank test between v1 and v2 in v_category: p = 0.1060\n",
            "Log-rank test between v1 and v3 in v_category: p = 0.0254\n",
            "Log-rank test between v2 and v3 in v_category: p = 0.2528\n"
          ]
        },
        {
          "output_type": "display_data",
          "data": {
            "text/plain": [
              "<Figure size 1000x600 with 1 Axes>"
            ],
            "image/png": "[encoded data removed]"
          },
          "metadata": {}
        },
        {
          "output_type": "stream",
          "name": "stdout",
          "text": [
            "Log-rank test between 12< and 0~11 in LN_number_category: p = 0.0008\n"
          ]
        },
        {
          "output_type": "display_data",
          "data": {
            "text/plain": [
              "<Figure size 1000x600 with 1 Axes>"
            ],
            "image/png": "[encoded data removed]"
          },
          "metadata": {}
        },
        {
          "output_type": "stream",
          "name": "stdout",
          "text": [
            "Log-rank test between -70 and 71-79 in age_category: p = 0.0000\n",
            "Log-rank test between -70 and 80- in age_category: p = 0.0000\n",
            "Log-rank test between 71-79 and 80- in age_category: p = 0.0000\n"
          ]
        }
      ]
    },
    {
      "cell_type": "code",
      "source": [],
      "metadata": {
        "id": "5Z-P42STXrwX"
      },
      "execution_count": null,
      "outputs": []
    },
    {
      "cell_type": "code",
      "source": [],
      "metadata": {
        "id": "M3k8xt_QXrzV"
      },
      "execution_count": null,
      "outputs": []
    },
    {
      "cell_type": "code",
      "source": [],
      "metadata": {
        "id": "zgnIzu0Cz7k5"
      },
      "execution_count": null,
      "outputs": []
    },
    {
      "cell_type": "code",
      "source": [],
      "metadata": {
        "id": "JAo52t0Oz7oB"
      },
      "execution_count": null,
      "outputs": []
    }
  ]
}