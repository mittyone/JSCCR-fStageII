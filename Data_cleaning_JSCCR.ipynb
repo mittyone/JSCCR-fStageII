{
  "nbformat": 4,
  "nbformat_minor": 0,
  "metadata": {
    "colab": {
      "provenance": [],
      "authorship_tag": "ABX9TyOfUs4XgXDlODorRuZKqzZU",
      "include_colab_link": true
    },
    "kernelspec": {
      "name": "python3",
      "display_name": "Python 3"
    },
    "language_info": {
      "name": "python"
    }
  },
  "cells": [
    {
      "cell_type": "markdown",
      "metadata": {
        "id": "view-in-github",
        "colab_type": "text"
      },
      "source": [
        "<a href=\"https://colab.research.google.com/github/mittyone/JSCCR-fStageII/blob/main/Data_cleaning_JSCCR.ipynb\" target=\"_parent\"><img src=\"https://colab.research.google.com/assets/colab-badge.svg\" alt=\"Open In Colab\"/></a>"
      ]
    },
    {
      "cell_type": "code",
      "source": [
        "import pandas as pd\n",
        "\n",
        "\n",
        "\n"
      ],
      "metadata": {
        "id": "WN6QdbrpjTca"
      },
      "execution_count": null,
      "outputs": []
    },
    {
      "cell_type": "code",
      "source": [
        "df = pd.read_excel('JSCCR.xlsx')"
      ],
      "metadata": {
        "id": "N6Wb42s7dcfo"
      },
      "execution_count": null,
      "outputs": []
    },
    {
      "cell_type": "code",
      "source": [
        "columns_to_keep = ['gender','年齢','Approach','切除術式','中枢側郭清度','Pathology', 'pDepth', 'ly', 'v', 'CEA', 'Curability', 'fStage', 'LN number', 'DFS', 'Event', 'Neoadjuvant', 'Adjuvant', 'Location', 'Obstruction']\n",
        "\n",
        "df = df[columns_to_keep]"
      ],
      "metadata": {
        "id": "Jn9PEj50jTiq"
      },
      "execution_count": null,
      "outputs": []
    },
    {
      "cell_type": "code",
      "source": [
        "df.to_excel(\"JSCCR.modified.xlsx\")"
      ],
      "metadata": {
        "id": "H-5UR8NAv-YE"
      },
      "execution_count": null,
      "outputs": []
    },
    {
      "cell_type": "code",
      "source": [
        "df = pd.read_excel('JSCCR.modified.xlsx')"
      ],
      "metadata": {
        "id": "3fXS8Z8_wQ4b"
      },
      "execution_count": null,
      "outputs": []
    },
    {
      "cell_type": "code",
      "source": [
        "len(df)"
      ],
      "metadata": {
        "id": "hnze8eV4jTlq",
        "colab": {
          "base_uri": "https://localhost:8080/"
        },
        "outputId": "4598ba72-bf0f-4177-bf7c-b7ea3574c9b8"
      },
      "execution_count": null,
      "outputs": [
        {
          "output_type": "execute_result",
          "data": {
            "text/plain": [
              "16895"
            ]
          },
          "metadata": {},
          "execution_count": 6
        }
      ]
    },
    {
      "cell_type": "code",
      "source": [
        "df.head()"
      ],
      "metadata": {
        "colab": {
          "base_uri": "https://localhost:8080/",
          "height": 417
        },
        "id": "zc_O-vHZXlKd",
        "outputId": "e59e2472-9604-4064-a4d5-2920e1173c3a"
      },
      "execution_count": null,
      "outputs": [
        {
          "output_type": "execute_result",
          "data": {
            "text/plain": [
              "   Unnamed: 0 gender    年齢    Approach        切除術式 中枢側郭清度 Pathology  \\\n",
              "0           0   02_F  77.0       03_開腹  006_結腸部分切除  02_D2  03_中分化腺癌   \n",
              "1           1   01_M  69.0       03_開腹  009_S状結腸切除  01_D1  03_中分化腺癌   \n",
              "2           2   02_F  45.0  02_腹腔鏡+小開腹  009_S状結腸切除  01_D1  02_高分化腺癌   \n",
              "3           3   02_F  65.0       03_開腹  007_結腸右半切除  03_D3  04_低分化腺癌   \n",
              "4           4   02_F  62.0       03_開腹  007_結腸右半切除  03_D3  02_高分化腺癌   \n",
              "\n",
              "      pDepth     ly     v             CEA Curability     fStage  LN number  \\\n",
              "0     02_pSM  1_ly0  1_v0     01_Cutoff以下   01_pCurA  02_Stage1         18   \n",
              "1     02_pSM  1_ly0  1_v0     01_Cutoff以下   01_pCurA  02_Stage1         15   \n",
              "2   04_pSS/A  1_ly0  1_v0     01_Cutoff以下   01_pCurA  03_Stage2          9   \n",
              "3  05_pSE/A2  1_ly0  1_v0  02_Cutoff 4倍未満   02_pCurB  06_Stage4         23   \n",
              "4   04_pSS/A  1_ly0  1_v0     01_Cutoff以下   01_pCurA  03_Stage2         49   \n",
              "\n",
              "        DFS  Event Neoadjuvant  Adjuvant Location Obstruction  \n",
              "0  7.515400      1        0_なし  0_術後補助なし     05_T        9_不明  \n",
              "1  5.303217      1        0_なし  0_術後補助なし     07_S        9_不明  \n",
              "2  7.304586      1        0_なし  0_術後補助なし     07_S        9_不明  \n",
              "3  0.722793      2        0_なし  1_術後補助あり     04_A        9_不明  \n",
              "4  6.376454      2        0_なし  0_術後補助なし     04_A     3_2/3以下  "
            ],
            "text/html": [
              "\n",
              "  <div id=\"df-75d4d09f-0f52-4cc8-a096-f929d1f1fd4b\" class=\"colab-df-container\">\n",
              "    <div>\n",
              "<style scoped>\n",
              "    .dataframe tbody tr th:only-of-type {\n",
              "        vertical-align: middle;\n",
              "    }\n",
              "\n",
              "    .dataframe tbody tr th {\n",
              "        vertical-align: top;\n",
              "    }\n",
              "\n",
              "    .dataframe thead th {\n",
              "        text-align: right;\n",
              "    }\n",
              "</style>\n",
              "<table border=\"1\" class=\"dataframe\">\n",
              "  <thead>\n",
              "    <tr style=\"text-align: right;\">\n",
              "      <th></th>\n",
              "      <th>Unnamed: 0</th>\n",
              "      <th>gender</th>\n",
              "      <th>年齢</th>\n",
              "      <th>Approach</th>\n",
              "      <th>切除術式</th>\n",
              "      <th>中枢側郭清度</th>\n",
              "      <th>Pathology</th>\n",
              "      <th>pDepth</th>\n",
              "      <th>ly</th>\n",
              "      <th>v</th>\n",
              "      <th>CEA</th>\n",
              "      <th>Curability</th>\n",
              "      <th>fStage</th>\n",
              "      <th>LN number</th>\n",
              "      <th>DFS</th>\n",
              "      <th>Event</th>\n",
              "      <th>Neoadjuvant</th>\n",
              "      <th>Adjuvant</th>\n",
              "      <th>Location</th>\n",
              "      <th>Obstruction</th>\n",
              "    </tr>\n",
              "  </thead>\n",
              "  <tbody>\n",
              "    <tr>\n",
              "      <th>0</th>\n",
              "      <td>0</td>\n",
              "      <td>02_F</td>\n",
              "      <td>77.0</td>\n",
              "      <td>03_開腹</td>\n",
              "      <td>006_結腸部分切除</td>\n",
              "      <td>02_D2</td>\n",
              "      <td>03_中分化腺癌</td>\n",
              "      <td>02_pSM</td>\n",
              "      <td>1_ly0</td>\n",
              "      <td>1_v0</td>\n",
              "      <td>01_Cutoff以下</td>\n",
              "      <td>01_pCurA</td>\n",
              "      <td>02_Stage1</td>\n",
              "      <td>18</td>\n",
              "      <td>7.515400</td>\n",
              "      <td>1</td>\n",
              "      <td>0_なし</td>\n",
              "      <td>0_術後補助なし</td>\n",
              "      <td>05_T</td>\n",
              "      <td>9_不明</td>\n",
              "    </tr>\n",
              "    <tr>\n",
              "      <th>1</th>\n",
              "      <td>1</td>\n",
              "      <td>01_M</td>\n",
              "      <td>69.0</td>\n",
              "      <td>03_開腹</td>\n",
              "      <td>009_S状結腸切除</td>\n",
              "      <td>01_D1</td>\n",
              "      <td>03_中分化腺癌</td>\n",
              "      <td>02_pSM</td>\n",
              "      <td>1_ly0</td>\n",
              "      <td>1_v0</td>\n",
              "      <td>01_Cutoff以下</td>\n",
              "      <td>01_pCurA</td>\n",
              "      <td>02_Stage1</td>\n",
              "      <td>15</td>\n",
              "      <td>5.303217</td>\n",
              "      <td>1</td>\n",
              "      <td>0_なし</td>\n",
              "      <td>0_術後補助なし</td>\n",
              "      <td>07_S</td>\n",
              "      <td>9_不明</td>\n",
              "    </tr>\n",
              "    <tr>\n",
              "      <th>2</th>\n",
              "      <td>2</td>\n",
              "      <td>02_F</td>\n",
              "      <td>45.0</td>\n",
              "      <td>02_腹腔鏡+小開腹</td>\n",
              "      <td>009_S状結腸切除</td>\n",
              "      <td>01_D1</td>\n",
              "      <td>02_高分化腺癌</td>\n",
              "      <td>04_pSS/A</td>\n",
              "      <td>1_ly0</td>\n",
              "      <td>1_v0</td>\n",
              "      <td>01_Cutoff以下</td>\n",
              "      <td>01_pCurA</td>\n",
              "      <td>03_Stage2</td>\n",
              "      <td>9</td>\n",
              "      <td>7.304586</td>\n",
              "      <td>1</td>\n",
              "      <td>0_なし</td>\n",
              "      <td>0_術後補助なし</td>\n",
              "      <td>07_S</td>\n",
              "      <td>9_不明</td>\n",
              "    </tr>\n",
              "    <tr>\n",
              "      <th>3</th>\n",
              "      <td>3</td>\n",
              "      <td>02_F</td>\n",
              "      <td>65.0</td>\n",
              "      <td>03_開腹</td>\n",
              "      <td>007_結腸右半切除</td>\n",
              "      <td>03_D3</td>\n",
              "      <td>04_低分化腺癌</td>\n",
              "      <td>05_pSE/A2</td>\n",
              "      <td>1_ly0</td>\n",
              "      <td>1_v0</td>\n",
              "      <td>02_Cutoff 4倍未満</td>\n",
              "      <td>02_pCurB</td>\n",
              "      <td>06_Stage4</td>\n",
              "      <td>23</td>\n",
              "      <td>0.722793</td>\n",
              "      <td>2</td>\n",
              "      <td>0_なし</td>\n",
              "      <td>1_術後補助あり</td>\n",
              "      <td>04_A</td>\n",
              "      <td>9_不明</td>\n",
              "    </tr>\n",
              "    <tr>\n",
              "      <th>4</th>\n",
              "      <td>4</td>\n",
              "      <td>02_F</td>\n",
              "      <td>62.0</td>\n",
              "      <td>03_開腹</td>\n",
              "      <td>007_結腸右半切除</td>\n",
              "      <td>03_D3</td>\n",
              "      <td>02_高分化腺癌</td>\n",
              "      <td>04_pSS/A</td>\n",
              "      <td>1_ly0</td>\n",
              "      <td>1_v0</td>\n",
              "      <td>01_Cutoff以下</td>\n",
              "      <td>01_pCurA</td>\n",
              "      <td>03_Stage2</td>\n",
              "      <td>49</td>\n",
              "      <td>6.376454</td>\n",
              "      <td>2</td>\n",
              "      <td>0_なし</td>\n",
              "      <td>0_術後補助なし</td>\n",
              "      <td>04_A</td>\n",
              "      <td>3_2/3以下</td>\n",
              "    </tr>\n",
              "  </tbody>\n",
              "</table>\n",
              "</div>\n",
              "    <div class=\"colab-df-buttons\">\n",
              "\n",
              "  <div class=\"colab-df-container\">\n",
              "    <button class=\"colab-df-convert\" onclick=\"convertToInteractive('df-75d4d09f-0f52-4cc8-a096-f929d1f1fd4b')\"\n",
              "            title=\"Convert this dataframe to an interactive table.\"\n",
              "            style=\"display:none;\">\n",
              "\n",
              "  <svg xmlns=\"http://www.w3.org/2000/svg\" height=\"24px\" viewBox=\"0 -960 960 960\">\n",
              "    <path d=\"M120-120v-720h720v720H120Zm60-500h600v-160H180v160Zm220 220h160v-160H400v160Zm0 220h160v-160H400v160ZM180-400h160v-160H180v160Zm440 0h160v-160H620v160ZM180-180h160v-160H180v160Zm440 0h160v-160H620v160Z\"/>\n",
              "  </svg>\n",
              "    </button>\n",
              "\n",
              "  <style>\n",
              "    .colab-df-container {\n",
              "      display:flex;\n",
              "      gap: 12px;\n",
              "    }\n",
              "\n",
              "    .colab-df-convert {\n",
              "      background-color: #E8F0FE;\n",
              "      border: none;\n",
              "      border-radius: 50%;\n",
              "      cursor: pointer;\n",
              "      display: none;\n",
              "      fill: #1967D2;\n",
              "      height: 32px;\n",
              "      padding: 0 0 0 0;\n",
              "      width: 32px;\n",
              "    }\n",
              "\n",
              "    .colab-df-convert:hover {\n",
              "      background-color: #E2EBFA;\n",
              "      box-shadow: 0px 1px 2px rgba(60, 64, 67, 0.3), 0px 1px 3px 1px rgba(60, 64, 67, 0.15);\n",
              "      fill: #174EA6;\n",
              "    }\n",
              "\n",
              "    .colab-df-buttons div {\n",
              "      margin-bottom: 4px;\n",
              "    }\n",
              "\n",
              "    [theme=dark] .colab-df-convert {\n",
              "      background-color: #3B4455;\n",
              "      fill: #D2E3FC;\n",
              "    }\n",
              "\n",
              "    [theme=dark] .colab-df-convert:hover {\n",
              "      background-color: #434B5C;\n",
              "      box-shadow: 0px 1px 3px 1px rgba(0, 0, 0, 0.15);\n",
              "      filter: drop-shadow(0px 1px 2px rgba(0, 0, 0, 0.3));\n",
              "      fill: #FFFFFF;\n",
              "    }\n",
              "  </style>\n",
              "\n",
              "    <script>\n",
              "      const buttonEl =\n",
              "        document.querySelector('#df-75d4d09f-0f52-4cc8-a096-f929d1f1fd4b button.colab-df-convert');\n",
              "      buttonEl.style.display =\n",
              "        google.colab.kernel.accessAllowed ? 'block' : 'none';\n",
              "\n",
              "      async function convertToInteractive(key) {\n",
              "        const element = document.querySelector('#df-75d4d09f-0f52-4cc8-a096-f929d1f1fd4b');\n",
              "        const dataTable =\n",
              "          await google.colab.kernel.invokeFunction('convertToInteractive',\n",
              "                                                    [key], {});\n",
              "        if (!dataTable) return;\n",
              "\n",
              "        const docLinkHtml = 'Like what you see? Visit the ' +\n",
              "          '<a target=\"_blank\" href=https://colab.research.google.com/notebooks/data_table.ipynb>data table notebook</a>'\n",
              "          + ' to learn more about interactive tables.';\n",
              "        element.innerHTML = '';\n",
              "        dataTable['output_type'] = 'display_data';\n",
              "        await google.colab.output.renderOutput(dataTable, element);\n",
              "        const docLink = document.createElement('div');\n",
              "        docLink.innerHTML = docLinkHtml;\n",
              "        element.appendChild(docLink);\n",
              "      }\n",
              "    </script>\n",
              "  </div>\n",
              "\n",
              "\n",
              "<div id=\"df-453b7007-3cfa-4456-9b4e-68c6b0960790\">\n",
              "  <button class=\"colab-df-quickchart\" onclick=\"quickchart('df-453b7007-3cfa-4456-9b4e-68c6b0960790')\"\n",
              "            title=\"Suggest charts\"\n",
              "            style=\"display:none;\">\n",
              "\n",
              "<svg xmlns=\"http://www.w3.org/2000/svg\" height=\"24px\"viewBox=\"0 0 24 24\"\n",
              "     width=\"24px\">\n",
              "    <g>\n",
              "        <path d=\"M19 3H5c-1.1 0-2 .9-2 2v14c0 1.1.9 2 2 2h14c1.1 0 2-.9 2-2V5c0-1.1-.9-2-2-2zM9 17H7v-7h2v7zm4 0h-2V7h2v10zm4 0h-2v-4h2v4z\"/>\n",
              "    </g>\n",
              "</svg>\n",
              "  </button>\n",
              "\n",
              "<style>\n",
              "  .colab-df-quickchart {\n",
              "      --bg-color: #E8F0FE;\n",
              "      --fill-color: #1967D2;\n",
              "      --hover-bg-color: #E2EBFA;\n",
              "      --hover-fill-color: #174EA6;\n",
              "      --disabled-fill-color: #AAA;\n",
              "      --disabled-bg-color: #DDD;\n",
              "  }\n",
              "\n",
              "  [theme=dark] .colab-df-quickchart {\n",
              "      --bg-color: #3B4455;\n",
              "      --fill-color: #D2E3FC;\n",
              "      --hover-bg-color: #434B5C;\n",
              "      --hover-fill-color: #FFFFFF;\n",
              "      --disabled-bg-color: #3B4455;\n",
              "      --disabled-fill-color: #666;\n",
              "  }\n",
              "\n",
              "  .colab-df-quickchart {\n",
              "    background-color: var(--bg-color);\n",
              "    border: none;\n",
              "    border-radius: 50%;\n",
              "    cursor: pointer;\n",
              "    display: none;\n",
              "    fill: var(--fill-color);\n",
              "    height: 32px;\n",
              "    padding: 0;\n",
              "    width: 32px;\n",
              "  }\n",
              "\n",
              "  .colab-df-quickchart:hover {\n",
              "    background-color: var(--hover-bg-color);\n",
              "    box-shadow: 0 1px 2px rgba(60, 64, 67, 0.3), 0 1px 3px 1px rgba(60, 64, 67, 0.15);\n",
              "    fill: var(--button-hover-fill-color);\n",
              "  }\n",
              "\n",
              "  .colab-df-quickchart-complete:disabled,\n",
              "  .colab-df-quickchart-complete:disabled:hover {\n",
              "    background-color: var(--disabled-bg-color);\n",
              "    fill: var(--disabled-fill-color);\n",
              "    box-shadow: none;\n",
              "  }\n",
              "\n",
              "  .colab-df-spinner {\n",
              "    border: 2px solid var(--fill-color);\n",
              "    border-color: transparent;\n",
              "    border-bottom-color: var(--fill-color);\n",
              "    animation:\n",
              "      spin 1s steps(1) infinite;\n",
              "  }\n",
              "\n",
              "  @keyframes spin {\n",
              "    0% {\n",
              "      border-color: transparent;\n",
              "      border-bottom-color: var(--fill-color);\n",
              "      border-left-color: var(--fill-color);\n",
              "    }\n",
              "    20% {\n",
              "      border-color: transparent;\n",
              "      border-left-color: var(--fill-color);\n",
              "      border-top-color: var(--fill-color);\n",
              "    }\n",
              "    30% {\n",
              "      border-color: transparent;\n",
              "      border-left-color: var(--fill-color);\n",
              "      border-top-color: var(--fill-color);\n",
              "      border-right-color: var(--fill-color);\n",
              "    }\n",
              "    40% {\n",
              "      border-color: transparent;\n",
              "      border-right-color: var(--fill-color);\n",
              "      border-top-color: var(--fill-color);\n",
              "    }\n",
              "    60% {\n",
              "      border-color: transparent;\n",
              "      border-right-color: var(--fill-color);\n",
              "    }\n",
              "    80% {\n",
              "      border-color: transparent;\n",
              "      border-right-color: var(--fill-color);\n",
              "      border-bottom-color: var(--fill-color);\n",
              "    }\n",
              "    90% {\n",
              "      border-color: transparent;\n",
              "      border-bottom-color: var(--fill-color);\n",
              "    }\n",
              "  }\n",
              "</style>\n",
              "\n",
              "  <script>\n",
              "    async function quickchart(key) {\n",
              "      const quickchartButtonEl =\n",
              "        document.querySelector('#' + key + ' button');\n",
              "      quickchartButtonEl.disabled = true;  // To prevent multiple clicks.\n",
              "      quickchartButtonEl.classList.add('colab-df-spinner');\n",
              "      try {\n",
              "        const charts = await google.colab.kernel.invokeFunction(\n",
              "            'suggestCharts', [key], {});\n",
              "      } catch (error) {\n",
              "        console.error('Error during call to suggestCharts:', error);\n",
              "      }\n",
              "      quickchartButtonEl.classList.remove('colab-df-spinner');\n",
              "      quickchartButtonEl.classList.add('colab-df-quickchart-complete');\n",
              "    }\n",
              "    (() => {\n",
              "      let quickchartButtonEl =\n",
              "        document.querySelector('#df-453b7007-3cfa-4456-9b4e-68c6b0960790 button');\n",
              "      quickchartButtonEl.style.display =\n",
              "        google.colab.kernel.accessAllowed ? 'block' : 'none';\n",
              "    })();\n",
              "  </script>\n",
              "</div>\n",
              "\n",
              "    </div>\n",
              "  </div>\n"
            ],
            "application/vnd.google.colaboratory.intrinsic+json": {
              "type": "dataframe",
              "variable_name": "df",
              "summary": "{\n  \"name\": \"df\",\n  \"rows\": 16895,\n  \"fields\": [\n    {\n      \"column\": \"Unnamed: 0\",\n      \"properties\": {\n        \"dtype\": \"number\",\n        \"std\": 4877,\n        \"min\": 0,\n        \"max\": 16894,\n        \"num_unique_values\": 16895,\n        \"samples\": [\n          1023,\n          8637,\n          6887\n        ],\n        \"semantic_type\": \"\",\n        \"description\": \"\"\n      }\n    },\n    {\n      \"column\": \"gender\",\n      \"properties\": {\n        \"dtype\": \"category\",\n        \"num_unique_values\": 2,\n        \"samples\": [\n          \"01_M\",\n          \"02_F\"\n        ],\n        \"semantic_type\": \"\",\n        \"description\": \"\"\n      }\n    },\n    {\n      \"column\": \"\\u5e74\\u9f62\",\n      \"properties\": {\n        \"dtype\": \"number\",\n        \"std\": 11.356760932001556,\n        \"min\": 20.0,\n        \"max\": 99.0,\n        \"num_unique_values\": 139,\n        \"samples\": [\n          46.7506849315068,\n          22.0\n        ],\n        \"semantic_type\": \"\",\n        \"description\": \"\"\n      }\n    },\n    {\n      \"column\": \"Approach\",\n      \"properties\": {\n        \"dtype\": \"category\",\n        \"num_unique_values\": 6,\n        \"samples\": [\n          \"03_\\u958b\\u8179\",\n          \"02_\\u8179\\u8154\\u93e1+\\u5c0f\\u958b\\u8179\"\n        ],\n        \"semantic_type\": \"\",\n        \"description\": \"\"\n      }\n    },\n    {\n      \"column\": \"\\u5207\\u9664\\u8853\\u5f0f\",\n      \"properties\": {\n        \"dtype\": \"category\",\n        \"num_unique_values\": 14,\n        \"samples\": [\n          \"017_\\u9aa8\\u76e4\\u5185\\u8535\\u5168\\u6458\\u8853\",\n          \"018_\\u8d85\\u4f4e\\u4f4d\\u524d\\u65b9\\u5207\\u9664\"\n        ],\n        \"semantic_type\": \"\",\n        \"description\": \"\"\n      }\n    },\n    {\n      \"column\": \"\\u4e2d\\u67a2\\u5074\\u90ed\\u6e05\\u5ea6\",\n      \"properties\": {\n        \"dtype\": \"category\",\n        \"num_unique_values\": 3,\n        \"samples\": [\n          \"02_D2\",\n          \"01_D1\"\n        ],\n        \"semantic_type\": \"\",\n        \"description\": \"\"\n      }\n    },\n    {\n      \"column\": \"Pathology\",\n      \"properties\": {\n        \"dtype\": \"category\",\n        \"num_unique_values\": 8,\n        \"samples\": [\n          \"02_\\u9ad8\\u5206\\u5316\\u817a\\u764c\",\n          \"04_\\u4f4e\\u5206\\u5316\\u817a\\u764c\\uff08por2\\uff09\"\n        ],\n        \"semantic_type\": \"\",\n        \"description\": \"\"\n      }\n    },\n    {\n      \"column\": \"pDepth\",\n      \"properties\": {\n        \"dtype\": \"category\",\n        \"num_unique_values\": 6,\n        \"samples\": [\n          \"02_pSM\",\n          \"04_pSS/A\"\n        ],\n        \"semantic_type\": \"\",\n        \"description\": \"\"\n      }\n    },\n    {\n      \"column\": \"ly\",\n      \"properties\": {\n        \"dtype\": \"category\",\n        \"num_unique_values\": 4,\n        \"samples\": [\n          \"3_ly2\",\n          \"4_ly3\"\n        ],\n        \"semantic_type\": \"\",\n        \"description\": \"\"\n      }\n    },\n    {\n      \"column\": \"v\",\n      \"properties\": {\n        \"dtype\": \"category\",\n        \"num_unique_values\": 4,\n        \"samples\": [\n          \"3_v2\",\n          \"4_v3\"\n        ],\n        \"semantic_type\": \"\",\n        \"description\": \"\"\n      }\n    },\n    {\n      \"column\": \"CEA\",\n      \"properties\": {\n        \"dtype\": \"category\",\n        \"num_unique_values\": 3,\n        \"samples\": [\n          \"01_Cutoff\\u4ee5\\u4e0b\",\n          \"02_Cutoff 4\\u500d\\u672a\\u6e80\"\n        ],\n        \"semantic_type\": \"\",\n        \"description\": \"\"\n      }\n    },\n    {\n      \"column\": \"Curability\",\n      \"properties\": {\n        \"dtype\": \"category\",\n        \"num_unique_values\": 3,\n        \"samples\": [\n          \"01_pCurA\",\n          \"02_pCurB\"\n        ],\n        \"semantic_type\": \"\",\n        \"description\": \"\"\n      }\n    },\n    {\n      \"column\": \"fStage\",\n      \"properties\": {\n        \"dtype\": \"category\",\n        \"num_unique_values\": 6,\n        \"samples\": [\n          \"02_Stage1\",\n          \"03_Stage2\"\n        ],\n        \"semantic_type\": \"\",\n        \"description\": \"\"\n      }\n    },\n    {\n      \"column\": \"LN number\",\n      \"properties\": {\n        \"dtype\": \"number\",\n        \"std\": 13,\n        \"min\": 1,\n        \"max\": 99,\n        \"num_unique_values\": 97,\n        \"samples\": [\n          95,\n          44\n        ],\n        \"semantic_type\": \"\",\n        \"description\": \"\"\n      }\n    },\n    {\n      \"column\": \"DFS\",\n      \"properties\": {\n        \"dtype\": \"number\",\n        \"std\": 15.68309074905894,\n        \"min\": -2004.183436002738,\n        \"max\": 13.05681040383299,\n        \"num_unique_values\": 3094,\n        \"samples\": [\n          1.623545516769336,\n          5.626283367556468\n        ],\n        \"semantic_type\": \"\",\n        \"description\": \"\"\n      }\n    },\n    {\n      \"column\": \"Event\",\n      \"properties\": {\n        \"dtype\": \"number\",\n        \"std\": 0,\n        \"min\": 1,\n        \"max\": 2,\n        \"num_unique_values\": 2,\n        \"samples\": [\n          2,\n          1\n        ],\n        \"semantic_type\": \"\",\n        \"description\": \"\"\n      }\n    },\n    {\n      \"column\": \"Neoadjuvant\",\n      \"properties\": {\n        \"dtype\": \"category\",\n        \"num_unique_values\": 2,\n        \"samples\": [\n          \"1_\\u3042\\u308a\",\n          \"0_\\u306a\\u3057\"\n        ],\n        \"semantic_type\": \"\",\n        \"description\": \"\"\n      }\n    },\n    {\n      \"column\": \"Adjuvant\",\n      \"properties\": {\n        \"dtype\": \"category\",\n        \"num_unique_values\": 2,\n        \"samples\": [\n          \"1_\\u8853\\u5f8c\\u88dc\\u52a9\\u3042\\u308a\",\n          \"0_\\u8853\\u5f8c\\u88dc\\u52a9\\u306a\\u3057\"\n        ],\n        \"semantic_type\": \"\",\n        \"description\": \"\"\n      }\n    },\n    {\n      \"column\": \"Location\",\n      \"properties\": {\n        \"dtype\": \"category\",\n        \"num_unique_values\": 10,\n        \"samples\": [\n          \"11_P\",\n          \"07_S\"\n        ],\n        \"semantic_type\": \"\",\n        \"description\": \"\"\n      }\n    },\n    {\n      \"column\": \"Obstruction\",\n      \"properties\": {\n        \"dtype\": \"category\",\n        \"num_unique_values\": 6,\n        \"samples\": [\n          \"9_\\u4e0d\\u660e\",\n          \"3_2/3\\u4ee5\\u4e0b\"\n        ],\n        \"semantic_type\": \"\",\n        \"description\": \"\"\n      }\n    }\n  ]\n}"
            }
          },
          "metadata": {},
          "execution_count": 7
        }
      ]
    },
    {
      "cell_type": "code",
      "source": [
        "Pathology_dict = {'03_中分化腺癌': 'tub2', '02_高分化腺癌': 'tub1', '04_低分化腺癌': 'por', '05_粘液癌': 'muc', '00_腺癌（分化度不明）': 'undiff',\n",
        "                  '04_低分化腺癌（por2）': 'por' , '01_乳頭腺癌': 'pap', '04_低分化腺癌（髄様）':'por'}\n",
        "CEA_dict = {'01_Cutoff以下': '01_Below Cutoff', '02_Cutoff 4倍未満': '02_Less than 4 times Cutoff', '03_Cutoff 4倍以上': '03_4 times Cutoff or more'}\n",
        "Neoadjuvant_dict = {'0_なし': 'negative', '1_あり': 'positive'}\n",
        "Adjuvant_dict = {'0_術後補助なし': 'negative', '1_術後補助あり': 'positive'}\n",
        "Obstruction_dict = {'9_不明': 'unknown', '3_2/3以下': 'below 2/3 circumferential', '2_1/2以下': 'below 1/2 circumferential', '5_全周': 'total circumferential', '4_亜全周': 'subtotal circumferential', '1_1/3以下': 'below 1/3 circumferential'}\n",
        "operation_dict = {'009_S状結腸切除': 'sigmoidectomy', '007_結腸右半切除':'RHC', '005_回盲部切除': 'ileocecal resection', '014_低位前方切除': 'LAR',\n",
        "                  '008_結腸左半切除': 'LHC', '006_結腸部分切除': 'Partial colectomy', '013_高位前方切除': 'HAR', '017_骨盤内蔵全摘術': 'PE',\n",
        "                  '015_Hartmann':'015_Hartmann', '011_結腸全摘': 'total colectomy', '012_大腸全摘': 'total proctocolectomy', '016_直腸切断': 'APR',\n",
        "                  '018_超低位前方切除':'super LAR','019_内括約筋切除':'ISR'}\n",
        "Approach_dict = {'02_腹腔鏡+小開腹': 'laparoscopy + small incision', '03_開腹': 'open', '99_不明': 'unknown', '02_腹腔鏡単独': 'laparoscopy' , '02_腹腔鏡': 'laparoscopy' , '01_経肛門': 'peranal approach'}\n",
        "\n",
        "df['Pathology'] = df['Pathology'].replace(Pathology_dict)\n",
        "df['CEA'] = df['CEA'].replace(CEA_dict)\n",
        "df['Neoadjuvant'] = df['Neoadjuvant'].replace(Neoadjuvant_dict)\n",
        "df['Adjuvant'] = df['Adjuvant'].replace(Adjuvant_dict)\n",
        "df['Obstruction'] = df['Obstruction'].replace(Obstruction_dict)\n",
        "df['切除術式'] = df['切除術式'].replace(operation_dict)\n",
        "df['Approach'] = df['Approach'].replace(Approach_dict)\n"
      ],
      "metadata": {
        "id": "n2H5JlrnrMOH"
      },
      "execution_count": null,
      "outputs": []
    },
    {
      "cell_type": "code",
      "source": [
        "df = df.rename(columns={'中枢側郭清度': 'Dissection Level', '年齢': 'age', '切除術式': 'operation'})\n",
        "\n"
      ],
      "metadata": {
        "id": "LEbIpXMerMSy"
      },
      "execution_count": null,
      "outputs": []
    },
    {
      "cell_type": "code",
      "source": [
        "df. head()"
      ],
      "metadata": {
        "id": "lILkEnGfrMZ0",
        "colab": {
          "base_uri": "https://localhost:8080/",
          "height": 382
        },
        "outputId": "90091125-f8ca-4fe1-e2de-1301df58bcf1"
      },
      "execution_count": null,
      "outputs": [
        {
          "output_type": "execute_result",
          "data": {
            "text/plain": [
              "   Unnamed: 0 gender   age                      Approach          operation  \\\n",
              "0           0   02_F  77.0                          open  Partial colectomy   \n",
              "1           1   01_M  69.0                          open      sigmoidectomy   \n",
              "2           2   02_F  45.0  laparoscopy + small incision      sigmoidectomy   \n",
              "3           3   02_F  65.0                          open                RHC   \n",
              "4           4   02_F  62.0                          open                RHC   \n",
              "\n",
              "  Dissection Level Pathology     pDepth     ly     v  \\\n",
              "0            02_D2      tub2     02_pSM  1_ly0  1_v0   \n",
              "1            01_D1      tub2     02_pSM  1_ly0  1_v0   \n",
              "2            01_D1      tub1   04_pSS/A  1_ly0  1_v0   \n",
              "3            03_D3       por  05_pSE/A2  1_ly0  1_v0   \n",
              "4            03_D3      tub1   04_pSS/A  1_ly0  1_v0   \n",
              "\n",
              "                           CEA Curability     fStage  LN number       DFS  \\\n",
              "0              01_Below Cutoff   01_pCurA  02_Stage1         18  7.515400   \n",
              "1              01_Below Cutoff   01_pCurA  02_Stage1         15  5.303217   \n",
              "2              01_Below Cutoff   01_pCurA  03_Stage2          9  7.304586   \n",
              "3  02_Less than 4 times Cutoff   02_pCurB  06_Stage4         23  0.722793   \n",
              "4              01_Below Cutoff   01_pCurA  03_Stage2         49  6.376454   \n",
              "\n",
              "   Event Neoadjuvant  Adjuvant Location                Obstruction  \n",
              "0      1    negative  negative     05_T                    unknown  \n",
              "1      1    negative  negative     07_S                    unknown  \n",
              "2      1    negative  negative     07_S                    unknown  \n",
              "3      2    negative  positive     04_A                    unknown  \n",
              "4      2    negative  negative     04_A  below 2/3 circumferential  "
            ],
            "text/html": [
              "\n",
              "  <div id=\"df-34374826-8aad-4b61-a83b-e81b5edab04b\" class=\"colab-df-container\">\n",
              "    <div>\n",
              "<style scoped>\n",
              "    .dataframe tbody tr th:only-of-type {\n",
              "        vertical-align: middle;\n",
              "    }\n",
              "\n",
              "    .dataframe tbody tr th {\n",
              "        vertical-align: top;\n",
              "    }\n",
              "\n",
              "    .dataframe thead th {\n",
              "        text-align: right;\n",
              "    }\n",
              "</style>\n",
              "<table border=\"1\" class=\"dataframe\">\n",
              "  <thead>\n",
              "    <tr style=\"text-align: right;\">\n",
              "      <th></th>\n",
              "      <th>Unnamed: 0</th>\n",
              "      <th>gender</th>\n",
              "      <th>age</th>\n",
              "      <th>Approach</th>\n",
              "      <th>operation</th>\n",
              "      <th>Dissection Level</th>\n",
              "      <th>Pathology</th>\n",
              "      <th>pDepth</th>\n",
              "      <th>ly</th>\n",
              "      <th>v</th>\n",
              "      <th>CEA</th>\n",
              "      <th>Curability</th>\n",
              "      <th>fStage</th>\n",
              "      <th>LN number</th>\n",
              "      <th>DFS</th>\n",
              "      <th>Event</th>\n",
              "      <th>Neoadjuvant</th>\n",
              "      <th>Adjuvant</th>\n",
              "      <th>Location</th>\n",
              "      <th>Obstruction</th>\n",
              "    </tr>\n",
              "  </thead>\n",
              "  <tbody>\n",
              "    <tr>\n",
              "      <th>0</th>\n",
              "      <td>0</td>\n",
              "      <td>02_F</td>\n",
              "      <td>77.0</td>\n",
              "      <td>open</td>\n",
              "      <td>Partial colectomy</td>\n",
              "      <td>02_D2</td>\n",
              "      <td>tub2</td>\n",
              "      <td>02_pSM</td>\n",
              "      <td>1_ly0</td>\n",
              "      <td>1_v0</td>\n",
              "      <td>01_Below Cutoff</td>\n",
              "      <td>01_pCurA</td>\n",
              "      <td>02_Stage1</td>\n",
              "      <td>18</td>\n",
              "      <td>7.515400</td>\n",
              "      <td>1</td>\n",
              "      <td>negative</td>\n",
              "      <td>negative</td>\n",
              "      <td>05_T</td>\n",
              "      <td>unknown</td>\n",
              "    </tr>\n",
              "    <tr>\n",
              "      <th>1</th>\n",
              "      <td>1</td>\n",
              "      <td>01_M</td>\n",
              "      <td>69.0</td>\n",
              "      <td>open</td>\n",
              "      <td>sigmoidectomy</td>\n",
              "      <td>01_D1</td>\n",
              "      <td>tub2</td>\n",
              "      <td>02_pSM</td>\n",
              "      <td>1_ly0</td>\n",
              "      <td>1_v0</td>\n",
              "      <td>01_Below Cutoff</td>\n",
              "      <td>01_pCurA</td>\n",
              "      <td>02_Stage1</td>\n",
              "      <td>15</td>\n",
              "      <td>5.303217</td>\n",
              "      <td>1</td>\n",
              "      <td>negative</td>\n",
              "      <td>negative</td>\n",
              "      <td>07_S</td>\n",
              "      <td>unknown</td>\n",
              "    </tr>\n",
              "    <tr>\n",
              "      <th>2</th>\n",
              "      <td>2</td>\n",
              "      <td>02_F</td>\n",
              "      <td>45.0</td>\n",
              "      <td>laparoscopy + small incision</td>\n",
              "      <td>sigmoidectomy</td>\n",
              "      <td>01_D1</td>\n",
              "      <td>tub1</td>\n",
              "      <td>04_pSS/A</td>\n",
              "      <td>1_ly0</td>\n",
              "      <td>1_v0</td>\n",
              "      <td>01_Below Cutoff</td>\n",
              "      <td>01_pCurA</td>\n",
              "      <td>03_Stage2</td>\n",
              "      <td>9</td>\n",
              "      <td>7.304586</td>\n",
              "      <td>1</td>\n",
              "      <td>negative</td>\n",
              "      <td>negative</td>\n",
              "      <td>07_S</td>\n",
              "      <td>unknown</td>\n",
              "    </tr>\n",
              "    <tr>\n",
              "      <th>3</th>\n",
              "      <td>3</td>\n",
              "      <td>02_F</td>\n",
              "      <td>65.0</td>\n",
              "      <td>open</td>\n",
              "      <td>RHC</td>\n",
              "      <td>03_D3</td>\n",
              "      <td>por</td>\n",
              "      <td>05_pSE/A2</td>\n",
              "      <td>1_ly0</td>\n",
              "      <td>1_v0</td>\n",
              "      <td>02_Less than 4 times Cutoff</td>\n",
              "      <td>02_pCurB</td>\n",
              "      <td>06_Stage4</td>\n",
              "      <td>23</td>\n",
              "      <td>0.722793</td>\n",
              "      <td>2</td>\n",
              "      <td>negative</td>\n",
              "      <td>positive</td>\n",
              "      <td>04_A</td>\n",
              "      <td>unknown</td>\n",
              "    </tr>\n",
              "    <tr>\n",
              "      <th>4</th>\n",
              "      <td>4</td>\n",
              "      <td>02_F</td>\n",
              "      <td>62.0</td>\n",
              "      <td>open</td>\n",
              "      <td>RHC</td>\n",
              "      <td>03_D3</td>\n",
              "      <td>tub1</td>\n",
              "      <td>04_pSS/A</td>\n",
              "      <td>1_ly0</td>\n",
              "      <td>1_v0</td>\n",
              "      <td>01_Below Cutoff</td>\n",
              "      <td>01_pCurA</td>\n",
              "      <td>03_Stage2</td>\n",
              "      <td>49</td>\n",
              "      <td>6.376454</td>\n",
              "      <td>2</td>\n",
              "      <td>negative</td>\n",
              "      <td>negative</td>\n",
              "      <td>04_A</td>\n",
              "      <td>below 2/3 circumferential</td>\n",
              "    </tr>\n",
              "  </tbody>\n",
              "</table>\n",
              "</div>\n",
              "    <div class=\"colab-df-buttons\">\n",
              "\n",
              "  <div class=\"colab-df-container\">\n",
              "    <button class=\"colab-df-convert\" onclick=\"convertToInteractive('df-34374826-8aad-4b61-a83b-e81b5edab04b')\"\n",
              "            title=\"Convert this dataframe to an interactive table.\"\n",
              "            style=\"display:none;\">\n",
              "\n",
              "  <svg xmlns=\"http://www.w3.org/2000/svg\" height=\"24px\" viewBox=\"0 -960 960 960\">\n",
              "    <path d=\"M120-120v-720h720v720H120Zm60-500h600v-160H180v160Zm220 220h160v-160H400v160Zm0 220h160v-160H400v160ZM180-400h160v-160H180v160Zm440 0h160v-160H620v160ZM180-180h160v-160H180v160Zm440 0h160v-160H620v160Z\"/>\n",
              "  </svg>\n",
              "    </button>\n",
              "\n",
              "  <style>\n",
              "    .colab-df-container {\n",
              "      display:flex;\n",
              "      gap: 12px;\n",
              "    }\n",
              "\n",
              "    .colab-df-convert {\n",
              "      background-color: #E8F0FE;\n",
              "      border: none;\n",
              "      border-radius: 50%;\n",
              "      cursor: pointer;\n",
              "      display: none;\n",
              "      fill: #1967D2;\n",
              "      height: 32px;\n",
              "      padding: 0 0 0 0;\n",
              "      width: 32px;\n",
              "    }\n",
              "\n",
              "    .colab-df-convert:hover {\n",
              "      background-color: #E2EBFA;\n",
              "      box-shadow: 0px 1px 2px rgba(60, 64, 67, 0.3), 0px 1px 3px 1px rgba(60, 64, 67, 0.15);\n",
              "      fill: #174EA6;\n",
              "    }\n",
              "\n",
              "    .colab-df-buttons div {\n",
              "      margin-bottom: 4px;\n",
              "    }\n",
              "\n",
              "    [theme=dark] .colab-df-convert {\n",
              "      background-color: #3B4455;\n",
              "      fill: #D2E3FC;\n",
              "    }\n",
              "\n",
              "    [theme=dark] .colab-df-convert:hover {\n",
              "      background-color: #434B5C;\n",
              "      box-shadow: 0px 1px 3px 1px rgba(0, 0, 0, 0.15);\n",
              "      filter: drop-shadow(0px 1px 2px rgba(0, 0, 0, 0.3));\n",
              "      fill: #FFFFFF;\n",
              "    }\n",
              "  </style>\n",
              "\n",
              "    <script>\n",
              "      const buttonEl =\n",
              "        document.querySelector('#df-34374826-8aad-4b61-a83b-e81b5edab04b button.colab-df-convert');\n",
              "      buttonEl.style.display =\n",
              "        google.colab.kernel.accessAllowed ? 'block' : 'none';\n",
              "\n",
              "      async function convertToInteractive(key) {\n",
              "        const element = document.querySelector('#df-34374826-8aad-4b61-a83b-e81b5edab04b');\n",
              "        const dataTable =\n",
              "          await google.colab.kernel.invokeFunction('convertToInteractive',\n",
              "                                                    [key], {});\n",
              "        if (!dataTable) return;\n",
              "\n",
              "        const docLinkHtml = 'Like what you see? Visit the ' +\n",
              "          '<a target=\"_blank\" href=https://colab.research.google.com/notebooks/data_table.ipynb>data table notebook</a>'\n",
              "          + ' to learn more about interactive tables.';\n",
              "        element.innerHTML = '';\n",
              "        dataTable['output_type'] = 'display_data';\n",
              "        await google.colab.output.renderOutput(dataTable, element);\n",
              "        const docLink = document.createElement('div');\n",
              "        docLink.innerHTML = docLinkHtml;\n",
              "        element.appendChild(docLink);\n",
              "      }\n",
              "    </script>\n",
              "  </div>\n",
              "\n",
              "\n",
              "<div id=\"df-0a405bf6-9342-49ec-bdf5-45470ac7d47c\">\n",
              "  <button class=\"colab-df-quickchart\" onclick=\"quickchart('df-0a405bf6-9342-49ec-bdf5-45470ac7d47c')\"\n",
              "            title=\"Suggest charts\"\n",
              "            style=\"display:none;\">\n",
              "\n",
              "<svg xmlns=\"http://www.w3.org/2000/svg\" height=\"24px\"viewBox=\"0 0 24 24\"\n",
              "     width=\"24px\">\n",
              "    <g>\n",
              "        <path d=\"M19 3H5c-1.1 0-2 .9-2 2v14c0 1.1.9 2 2 2h14c1.1 0 2-.9 2-2V5c0-1.1-.9-2-2-2zM9 17H7v-7h2v7zm4 0h-2V7h2v10zm4 0h-2v-4h2v4z\"/>\n",
              "    </g>\n",
              "</svg>\n",
              "  </button>\n",
              "\n",
              "<style>\n",
              "  .colab-df-quickchart {\n",
              "      --bg-color: #E8F0FE;\n",
              "      --fill-color: #1967D2;\n",
              "      --hover-bg-color: #E2EBFA;\n",
              "      --hover-fill-color: #174EA6;\n",
              "      --disabled-fill-color: #AAA;\n",
              "      --disabled-bg-color: #DDD;\n",
              "  }\n",
              "\n",
              "  [theme=dark] .colab-df-quickchart {\n",
              "      --bg-color: #3B4455;\n",
              "      --fill-color: #D2E3FC;\n",
              "      --hover-bg-color: #434B5C;\n",
              "      --hover-fill-color: #FFFFFF;\n",
              "      --disabled-bg-color: #3B4455;\n",
              "      --disabled-fill-color: #666;\n",
              "  }\n",
              "\n",
              "  .colab-df-quickchart {\n",
              "    background-color: var(--bg-color);\n",
              "    border: none;\n",
              "    border-radius: 50%;\n",
              "    cursor: pointer;\n",
              "    display: none;\n",
              "    fill: var(--fill-color);\n",
              "    height: 32px;\n",
              "    padding: 0;\n",
              "    width: 32px;\n",
              "  }\n",
              "\n",
              "  .colab-df-quickchart:hover {\n",
              "    background-color: var(--hover-bg-color);\n",
              "    box-shadow: 0 1px 2px rgba(60, 64, 67, 0.3), 0 1px 3px 1px rgba(60, 64, 67, 0.15);\n",
              "    fill: var(--button-hover-fill-color);\n",
              "  }\n",
              "\n",
              "  .colab-df-quickchart-complete:disabled,\n",
              "  .colab-df-quickchart-complete:disabled:hover {\n",
              "    background-color: var(--disabled-bg-color);\n",
              "    fill: var(--disabled-fill-color);\n",
              "    box-shadow: none;\n",
              "  }\n",
              "\n",
              "  .colab-df-spinner {\n",
              "    border: 2px solid var(--fill-color);\n",
              "    border-color: transparent;\n",
              "    border-bottom-color: var(--fill-color);\n",
              "    animation:\n",
              "      spin 1s steps(1) infinite;\n",
              "  }\n",
              "\n",
              "  @keyframes spin {\n",
              "    0% {\n",
              "      border-color: transparent;\n",
              "      border-bottom-color: var(--fill-color);\n",
              "      border-left-color: var(--fill-color);\n",
              "    }\n",
              "    20% {\n",
              "      border-color: transparent;\n",
              "      border-left-color: var(--fill-color);\n",
              "      border-top-color: var(--fill-color);\n",
              "    }\n",
              "    30% {\n",
              "      border-color: transparent;\n",
              "      border-left-color: var(--fill-color);\n",
              "      border-top-color: var(--fill-color);\n",
              "      border-right-color: var(--fill-color);\n",
              "    }\n",
              "    40% {\n",
              "      border-color: transparent;\n",
              "      border-right-color: var(--fill-color);\n",
              "      border-top-color: var(--fill-color);\n",
              "    }\n",
              "    60% {\n",
              "      border-color: transparent;\n",
              "      border-right-color: var(--fill-color);\n",
              "    }\n",
              "    80% {\n",
              "      border-color: transparent;\n",
              "      border-right-color: var(--fill-color);\n",
              "      border-bottom-color: var(--fill-color);\n",
              "    }\n",
              "    90% {\n",
              "      border-color: transparent;\n",
              "      border-bottom-color: var(--fill-color);\n",
              "    }\n",
              "  }\n",
              "</style>\n",
              "\n",
              "  <script>\n",
              "    async function quickchart(key) {\n",
              "      const quickchartButtonEl =\n",
              "        document.querySelector('#' + key + ' button');\n",
              "      quickchartButtonEl.disabled = true;  // To prevent multiple clicks.\n",
              "      quickchartButtonEl.classList.add('colab-df-spinner');\n",
              "      try {\n",
              "        const charts = await google.colab.kernel.invokeFunction(\n",
              "            'suggestCharts', [key], {});\n",
              "      } catch (error) {\n",
              "        console.error('Error during call to suggestCharts:', error);\n",
              "      }\n",
              "      quickchartButtonEl.classList.remove('colab-df-spinner');\n",
              "      quickchartButtonEl.classList.add('colab-df-quickchart-complete');\n",
              "    }\n",
              "    (() => {\n",
              "      let quickchartButtonEl =\n",
              "        document.querySelector('#df-0a405bf6-9342-49ec-bdf5-45470ac7d47c button');\n",
              "      quickchartButtonEl.style.display =\n",
              "        google.colab.kernel.accessAllowed ? 'block' : 'none';\n",
              "    })();\n",
              "  </script>\n",
              "</div>\n",
              "\n",
              "    </div>\n",
              "  </div>\n"
            ],
            "application/vnd.google.colaboratory.intrinsic+json": {
              "type": "dataframe",
              "summary": "{\n  \"name\": \"df\",\n  \"rows\": 5,\n  \"fields\": [\n    {\n      \"column\": \"Unnamed: 0\",\n      \"properties\": {\n        \"dtype\": \"number\",\n        \"std\": 1,\n        \"min\": 0,\n        \"max\": 4,\n        \"num_unique_values\": 5,\n        \"samples\": [\n          1,\n          4,\n          2\n        ],\n        \"semantic_type\": \"\",\n        \"description\": \"\"\n      }\n    },\n    {\n      \"column\": \"gender\",\n      \"properties\": {\n        \"dtype\": \"category\",\n        \"num_unique_values\": 2,\n        \"samples\": [\n          \"01_M\",\n          \"02_F\"\n        ],\n        \"semantic_type\": \"\",\n        \"description\": \"\"\n      }\n    },\n    {\n      \"column\": \"age\",\n      \"properties\": {\n        \"dtype\": \"number\",\n        \"std\": 11.823705003085964,\n        \"min\": 45.0,\n        \"max\": 77.0,\n        \"num_unique_values\": 5,\n        \"samples\": [\n          69.0,\n          62.0\n        ],\n        \"semantic_type\": \"\",\n        \"description\": \"\"\n      }\n    },\n    {\n      \"column\": \"Approach\",\n      \"properties\": {\n        \"dtype\": \"category\",\n        \"num_unique_values\": 2,\n        \"samples\": [\n          \"laparoscopy + small incision\",\n          \"open\"\n        ],\n        \"semantic_type\": \"\",\n        \"description\": \"\"\n      }\n    },\n    {\n      \"column\": \"operation\",\n      \"properties\": {\n        \"dtype\": \"string\",\n        \"num_unique_values\": 3,\n        \"samples\": [\n          \"Partial colectomy\",\n          \"sigmoidectomy\"\n        ],\n        \"semantic_type\": \"\",\n        \"description\": \"\"\n      }\n    },\n    {\n      \"column\": \"Dissection Level\",\n      \"properties\": {\n        \"dtype\": \"string\",\n        \"num_unique_values\": 3,\n        \"samples\": [\n          \"02_D2\",\n          \"01_D1\"\n        ],\n        \"semantic_type\": \"\",\n        \"description\": \"\"\n      }\n    },\n    {\n      \"column\": \"Pathology\",\n      \"properties\": {\n        \"dtype\": \"string\",\n        \"num_unique_values\": 3,\n        \"samples\": [\n          \"tub2\",\n          \"tub1\"\n        ],\n        \"semantic_type\": \"\",\n        \"description\": \"\"\n      }\n    },\n    {\n      \"column\": \"pDepth\",\n      \"properties\": {\n        \"dtype\": \"string\",\n        \"num_unique_values\": 3,\n        \"samples\": [\n          \"02_pSM\",\n          \"04_pSS/A\"\n        ],\n        \"semantic_type\": \"\",\n        \"description\": \"\"\n      }\n    },\n    {\n      \"column\": \"ly\",\n      \"properties\": {\n        \"dtype\": \"category\",\n        \"num_unique_values\": 1,\n        \"samples\": [\n          \"1_ly0\"\n        ],\n        \"semantic_type\": \"\",\n        \"description\": \"\"\n      }\n    },\n    {\n      \"column\": \"v\",\n      \"properties\": {\n        \"dtype\": \"category\",\n        \"num_unique_values\": 1,\n        \"samples\": [\n          \"1_v0\"\n        ],\n        \"semantic_type\": \"\",\n        \"description\": \"\"\n      }\n    },\n    {\n      \"column\": \"CEA\",\n      \"properties\": {\n        \"dtype\": \"category\",\n        \"num_unique_values\": 2,\n        \"samples\": [\n          \"02_Less than 4 times Cutoff\"\n        ],\n        \"semantic_type\": \"\",\n        \"description\": \"\"\n      }\n    },\n    {\n      \"column\": \"Curability\",\n      \"properties\": {\n        \"dtype\": \"category\",\n        \"num_unique_values\": 2,\n        \"samples\": [\n          \"02_pCurB\"\n        ],\n        \"semantic_type\": \"\",\n        \"description\": \"\"\n      }\n    },\n    {\n      \"column\": \"fStage\",\n      \"properties\": {\n        \"dtype\": \"string\",\n        \"num_unique_values\": 3,\n        \"samples\": [\n          \"02_Stage1\"\n        ],\n        \"semantic_type\": \"\",\n        \"description\": \"\"\n      }\n    },\n    {\n      \"column\": \"LN number\",\n      \"properties\": {\n        \"dtype\": \"number\",\n        \"std\": 15,\n        \"min\": 9,\n        \"max\": 49,\n        \"num_unique_values\": 5,\n        \"samples\": [\n          15\n        ],\n        \"semantic_type\": \"\",\n        \"description\": \"\"\n      }\n    },\n    {\n      \"column\": \"DFS\",\n      \"properties\": {\n        \"dtype\": \"number\",\n        \"std\": 2.7808078329719854,\n        \"min\": 0.7227926078028748,\n        \"max\": 7.515400410677618,\n        \"num_unique_values\": 5,\n        \"samples\": [\n          5.30321697467488\n        ],\n        \"semantic_type\": \"\",\n        \"description\": \"\"\n      }\n    },\n    {\n      \"column\": \"Event\",\n      \"properties\": {\n        \"dtype\": \"number\",\n        \"std\": 0,\n        \"min\": 1,\n        \"max\": 2,\n        \"num_unique_values\": 2,\n        \"samples\": [\n          2\n        ],\n        \"semantic_type\": \"\",\n        \"description\": \"\"\n      }\n    },\n    {\n      \"column\": \"Neoadjuvant\",\n      \"properties\": {\n        \"dtype\": \"category\",\n        \"num_unique_values\": 1,\n        \"samples\": [\n          \"negative\"\n        ],\n        \"semantic_type\": \"\",\n        \"description\": \"\"\n      }\n    },\n    {\n      \"column\": \"Adjuvant\",\n      \"properties\": {\n        \"dtype\": \"category\",\n        \"num_unique_values\": 2,\n        \"samples\": [\n          \"positive\"\n        ],\n        \"semantic_type\": \"\",\n        \"description\": \"\"\n      }\n    },\n    {\n      \"column\": \"Location\",\n      \"properties\": {\n        \"dtype\": \"string\",\n        \"num_unique_values\": 3,\n        \"samples\": [\n          \"05_T\"\n        ],\n        \"semantic_type\": \"\",\n        \"description\": \"\"\n      }\n    },\n    {\n      \"column\": \"Obstruction\",\n      \"properties\": {\n        \"dtype\": \"category\",\n        \"num_unique_values\": 2,\n        \"samples\": [\n          \"below 2/3 circumferential\"\n        ],\n        \"semantic_type\": \"\",\n        \"description\": \"\"\n      }\n    }\n  ]\n}"
            }
          },
          "metadata": {},
          "execution_count": 10
        }
      ]
    },
    {
      "cell_type": "markdown",
      "source": [],
      "metadata": {
        "id": "IemoDbPU8INX"
      }
    },
    {
      "cell_type": "code",
      "source": [],
      "metadata": {
        "id": "ztG1TpkjrMc5"
      },
      "execution_count": null,
      "outputs": []
    },
    {
      "cell_type": "code",
      "source": [
        "df[\"Pathology\"].unique()"
      ],
      "metadata": {
        "id": "tFCF5x2JjToY",
        "colab": {
          "base_uri": "https://localhost:8080/"
        },
        "outputId": "da12a0c6-05bf-4d2a-80df-a50543c1f659"
      },
      "execution_count": null,
      "outputs": [
        {
          "output_type": "execute_result",
          "data": {
            "text/plain": [
              "array(['tub2', 'tub1', 'por', 'muc', 'undiff', 'pap'], dtype=object)"
            ]
          },
          "metadata": {},
          "execution_count": 11
        }
      ]
    },
    {
      "cell_type": "code",
      "source": [
        "replace_values = {'tub2':2, 'tub1':1, 'por':3, 'muc':3, 'undiff':3, 'pap':1}\n",
        "\n",
        "df['Pathology'] = df['Pathology'].replace(replace_values)\n"
      ],
      "metadata": {
        "id": "m726_tQfjTrR"
      },
      "execution_count": null,
      "outputs": []
    },
    {
      "cell_type": "code",
      "source": [
        "df[\"Pathology\"].unique()"
      ],
      "metadata": {
        "id": "eLGf6TcAjTw_",
        "colab": {
          "base_uri": "https://localhost:8080/"
        },
        "outputId": "80c5b917-33a1-4d60-ba45-a43586d1a871"
      },
      "execution_count": null,
      "outputs": [
        {
          "output_type": "execute_result",
          "data": {
            "text/plain": [
              "array([2, 1, 3])"
            ]
          },
          "metadata": {},
          "execution_count": 13
        }
      ]
    },
    {
      "cell_type": "code",
      "source": [
        "df[\"pDepth\"].unique()"
      ],
      "metadata": {
        "id": "fbdGurlLjTz0",
        "colab": {
          "base_uri": "https://localhost:8080/"
        },
        "outputId": "23aaf5e8-5fb9-44ff-c96c-d3ed27d1078e"
      },
      "execution_count": null,
      "outputs": [
        {
          "output_type": "execute_result",
          "data": {
            "text/plain": [
              "array(['02_pSM', '04_pSS/A', '05_pSE/A2', '03_pMP', '06_pSi/Ai', '01_pM'],\n",
              "      dtype=object)"
            ]
          },
          "metadata": {},
          "execution_count": 14
        }
      ]
    },
    {
      "cell_type": "code",
      "source": [
        "replace_values1 = {'02_pSM':2, '04_pSS/A':4, '05_pSE/A2':5, '03_pMP':3, '06_pSi/Ai':6, '01_pM':1}\n",
        "\n",
        "\n",
        "df['pDepth'] = df['pDepth'].replace(replace_values1)"
      ],
      "metadata": {
        "id": "eVxMnS0SjT2s"
      },
      "execution_count": null,
      "outputs": []
    },
    {
      "cell_type": "code",
      "source": [
        "df[\"pDepth\"].unique()"
      ],
      "metadata": {
        "id": "3zjmN2t6jT52",
        "colab": {
          "base_uri": "https://localhost:8080/"
        },
        "outputId": "396ece27-047c-4057-b7d1-ae510def7cc2"
      },
      "execution_count": null,
      "outputs": [
        {
          "output_type": "execute_result",
          "data": {
            "text/plain": [
              "array([2, 4, 5, 3, 6, 1])"
            ]
          },
          "metadata": {},
          "execution_count": 16
        }
      ]
    },
    {
      "cell_type": "code",
      "source": [
        "df[\"ly\"].unique()"
      ],
      "metadata": {
        "id": "eQHFj4aSwjPE",
        "colab": {
          "base_uri": "https://localhost:8080/"
        },
        "outputId": "51e35755-7785-4d9c-c105-8e167c88d515"
      },
      "execution_count": null,
      "outputs": [
        {
          "output_type": "execute_result",
          "data": {
            "text/plain": [
              "array(['1_ly0', '3_ly2', '2_ly1', '4_ly3'], dtype=object)"
            ]
          },
          "metadata": {},
          "execution_count": 17
        }
      ]
    },
    {
      "cell_type": "code",
      "source": [
        "\n",
        "replace_values1 = {'1_ly0':1, '3_ly2':2, '2_ly1':2, '4_ly3':2}\n",
        "\n",
        "df['ly'] = df['ly'].replace(replace_values1)"
      ],
      "metadata": {
        "id": "HICAxfouwjTG"
      },
      "execution_count": null,
      "outputs": []
    },
    {
      "cell_type": "code",
      "source": [
        "df[\"ly\"].unique()"
      ],
      "metadata": {
        "id": "8qWRy5SjwjV8",
        "colab": {
          "base_uri": "https://localhost:8080/"
        },
        "outputId": "9384bd43-b5a4-4bec-cb62-b29d20f68d2d"
      },
      "execution_count": null,
      "outputs": [
        {
          "output_type": "execute_result",
          "data": {
            "text/plain": [
              "array([1, 2])"
            ]
          },
          "metadata": {},
          "execution_count": 19
        }
      ]
    },
    {
      "cell_type": "code",
      "source": [
        "df[\"v\"].unique()"
      ],
      "metadata": {
        "id": "S0gcNr69wjYv",
        "colab": {
          "base_uri": "https://localhost:8080/"
        },
        "outputId": "f2bfaba3-2b88-4e90-ba5f-e60dad2fe86b"
      },
      "execution_count": null,
      "outputs": [
        {
          "output_type": "execute_result",
          "data": {
            "text/plain": [
              "array(['1_v0', '3_v2', '2_v1', '4_v3'], dtype=object)"
            ]
          },
          "metadata": {},
          "execution_count": 20
        }
      ]
    },
    {
      "cell_type": "code",
      "source": [
        "replace_values1 = {'1_v0':1, '3_v2':2, '2_v1':2, '4_v3':2}\n",
        "\n",
        "df['v'] = df['v'].replace(replace_values1)"
      ],
      "metadata": {
        "id": "37PDCnUqwjbc"
      },
      "execution_count": null,
      "outputs": []
    },
    {
      "cell_type": "code",
      "source": [
        "df[\"v\"].unique()"
      ],
      "metadata": {
        "id": "FIkO_bKSwjeM",
        "colab": {
          "base_uri": "https://localhost:8080/"
        },
        "outputId": "d5f80889-8b50-450e-882f-df147fa38b26"
      },
      "execution_count": null,
      "outputs": [
        {
          "output_type": "execute_result",
          "data": {
            "text/plain": [
              "array([1, 2])"
            ]
          },
          "metadata": {},
          "execution_count": 22
        }
      ]
    },
    {
      "cell_type": "code",
      "source": [
        "df[\"CEA\"].unique()"
      ],
      "metadata": {
        "id": "gLUb-stYwjg-",
        "colab": {
          "base_uri": "https://localhost:8080/"
        },
        "outputId": "b0cf1172-5e90-4033-c1ee-bb491d946812"
      },
      "execution_count": null,
      "outputs": [
        {
          "output_type": "execute_result",
          "data": {
            "text/plain": [
              "array(['01_Below Cutoff', '02_Less than 4 times Cutoff',\n",
              "       '03_4 times Cutoff or more', nan], dtype=object)"
            ]
          },
          "metadata": {},
          "execution_count": 23
        }
      ]
    },
    {
      "cell_type": "code",
      "source": [
        "replace_values1 = {'01_Below Cutoff':1, '02_Less than 4 times Cutoff':2,'03_4 times Cutoff or more':2}\n",
        "\n",
        "df['CEA'] = df['CEA'].replace(replace_values1)"
      ],
      "metadata": {
        "id": "h1n9FpbRwjja"
      },
      "execution_count": null,
      "outputs": []
    },
    {
      "cell_type": "code",
      "source": [
        "df[\"CEA\"].unique()"
      ],
      "metadata": {
        "id": "QeOZyLX_wjmP",
        "colab": {
          "base_uri": "https://localhost:8080/"
        },
        "outputId": "bf625490-1de7-404a-e0f9-e96496edf956"
      },
      "execution_count": null,
      "outputs": [
        {
          "output_type": "execute_result",
          "data": {
            "text/plain": [
              "array([ 1.,  2., nan])"
            ]
          },
          "metadata": {},
          "execution_count": 25
        }
      ]
    },
    {
      "cell_type": "code",
      "source": [
        "df[\"Curability\"].unique()"
      ],
      "metadata": {
        "id": "6TUDR2_FwjpL",
        "colab": {
          "base_uri": "https://localhost:8080/"
        },
        "outputId": "422ce756-227d-4c69-e332-04083ab3172d"
      },
      "execution_count": null,
      "outputs": [
        {
          "output_type": "execute_result",
          "data": {
            "text/plain": [
              "array(['01_pCurA', '02_pCurB', '03_pCurC'], dtype=object)"
            ]
          },
          "metadata": {},
          "execution_count": 26
        }
      ]
    },
    {
      "cell_type": "code",
      "source": [
        "replace_values1 = {'01_pCurA':1, '02_pCurB':2, '03_pCurC':3}\n",
        "\n",
        "df['Curability'] = df['Curability'].replace(replace_values1)"
      ],
      "metadata": {
        "id": "eB-SdgTkwjr0"
      },
      "execution_count": null,
      "outputs": []
    },
    {
      "cell_type": "code",
      "source": [
        "df[\"Curability\"].unique()"
      ],
      "metadata": {
        "id": "6A5-JH4nwjul",
        "colab": {
          "base_uri": "https://localhost:8080/"
        },
        "outputId": "c67770f2-85de-480c-c126-dfa351d17bfd"
      },
      "execution_count": null,
      "outputs": [
        {
          "output_type": "execute_result",
          "data": {
            "text/plain": [
              "array([1, 2, 3])"
            ]
          },
          "metadata": {},
          "execution_count": 28
        }
      ]
    },
    {
      "cell_type": "code",
      "source": [
        "df[\"fStage\"].unique()"
      ],
      "metadata": {
        "id": "RBcwa2-Wwjxg",
        "colab": {
          "base_uri": "https://localhost:8080/"
        },
        "outputId": "6ed8c87b-6776-4384-c74b-7456a87b2a37"
      },
      "execution_count": null,
      "outputs": [
        {
          "output_type": "execute_result",
          "data": {
            "text/plain": [
              "array(['02_Stage1', '03_Stage2', '06_Stage4', '05_Stage3b', '04_Stage3a',\n",
              "       '01_Stage0'], dtype=object)"
            ]
          },
          "metadata": {},
          "execution_count": 29
        }
      ]
    },
    {
      "cell_type": "code",
      "source": [
        "replace_values1 = {'02_Stage1':1, '03_Stage2':2, '06_Stage4':4, '05_Stage3b':3, '04_Stage3a':3,\n",
        "       '01_Stage0':0}\n",
        "\n",
        "df['fStage'] = df['fStage'].replace(replace_values1)"
      ],
      "metadata": {
        "id": "kvVJ-cwrwj0E"
      },
      "execution_count": null,
      "outputs": []
    },
    {
      "cell_type": "code",
      "source": [
        "df[\"fStage\"].unique()"
      ],
      "metadata": {
        "id": "sRMHwm6Nwj3G",
        "colab": {
          "base_uri": "https://localhost:8080/"
        },
        "outputId": "ee031ef9-8760-4d23-9b58-296b248970d6"
      },
      "execution_count": null,
      "outputs": [
        {
          "output_type": "execute_result",
          "data": {
            "text/plain": [
              "array([1, 2, 4, 3, 0])"
            ]
          },
          "metadata": {},
          "execution_count": 31
        }
      ]
    },
    {
      "cell_type": "code",
      "source": [
        "df[\"Neoadjuvant\"].unique()"
      ],
      "metadata": {
        "id": "i9KM44Hewj82",
        "colab": {
          "base_uri": "https://localhost:8080/"
        },
        "outputId": "032c4f65-f519-44ac-9b0d-976773b9c52e"
      },
      "execution_count": null,
      "outputs": [
        {
          "output_type": "execute_result",
          "data": {
            "text/plain": [
              "array(['negative', 'positive'], dtype=object)"
            ]
          },
          "metadata": {},
          "execution_count": 32
        }
      ]
    },
    {
      "cell_type": "code",
      "source": [
        "replace_values = {'negative':0, 'positive':1}\n",
        "\n",
        "df['Neoadjuvant'] = df['Neoadjuvant'].replace(replace_values)"
      ],
      "metadata": {
        "id": "kzOCAQBKwj_j"
      },
      "execution_count": null,
      "outputs": []
    },
    {
      "cell_type": "code",
      "source": [
        "df[\"Neoadjuvant\"].unique()"
      ],
      "metadata": {
        "id": "9GQqSCuVwkCb",
        "colab": {
          "base_uri": "https://localhost:8080/"
        },
        "outputId": "d8139c40-39ed-4605-9e6a-18f07ee85973"
      },
      "execution_count": null,
      "outputs": [
        {
          "output_type": "execute_result",
          "data": {
            "text/plain": [
              "array([0, 1])"
            ]
          },
          "metadata": {},
          "execution_count": 34
        }
      ]
    },
    {
      "cell_type": "code",
      "source": [
        "df[\"Adjuvant\"].unique()"
      ],
      "metadata": {
        "id": "buPyCRTu0TrP",
        "colab": {
          "base_uri": "https://localhost:8080/"
        },
        "outputId": "3945e774-b963-4bbc-b39c-4e649d3301ce"
      },
      "execution_count": null,
      "outputs": [
        {
          "output_type": "execute_result",
          "data": {
            "text/plain": [
              "array(['negative', 'positive'], dtype=object)"
            ]
          },
          "metadata": {},
          "execution_count": 35
        }
      ]
    },
    {
      "cell_type": "code",
      "source": [
        "replace_values = {'negative':0, 'positive':1}\n",
        "\n",
        "df['Adjuvant'] = df['Adjuvant'].replace(replace_values)"
      ],
      "metadata": {
        "id": "qc0VBEQC0TuK"
      },
      "execution_count": null,
      "outputs": []
    },
    {
      "cell_type": "code",
      "source": [
        "df[\"Adjuvant\"].unique()"
      ],
      "metadata": {
        "id": "H52b5hq40TxU",
        "colab": {
          "base_uri": "https://localhost:8080/"
        },
        "outputId": "270a4e8b-9c10-4bdb-fb0b-b5c0e1049ac6"
      },
      "execution_count": null,
      "outputs": [
        {
          "output_type": "execute_result",
          "data": {
            "text/plain": [
              "array([0, 1])"
            ]
          },
          "metadata": {},
          "execution_count": 37
        }
      ]
    },
    {
      "cell_type": "code",
      "source": [
        "df[\"Location\"].unique()"
      ],
      "metadata": {
        "id": "2z_euF7m0T0K",
        "colab": {
          "base_uri": "https://localhost:8080/"
        },
        "outputId": "a1ffc1f0-e715-4577-e6c4-95d7892f075b"
      },
      "execution_count": null,
      "outputs": [
        {
          "output_type": "execute_result",
          "data": {
            "text/plain": [
              "array(['05_T', '07_S', '04_A', '03_C', '10_Rb', '09_Ra', '08_Rs', '06_D',\n",
              "       '11_P', '02_V'], dtype=object)"
            ]
          },
          "metadata": {},
          "execution_count": 38
        }
      ]
    },
    {
      "cell_type": "code",
      "source": [
        "df[\"Obstruction\"].unique()"
      ],
      "metadata": {
        "id": "mGg1QgpN0T27",
        "colab": {
          "base_uri": "https://localhost:8080/"
        },
        "outputId": "063373f3-611d-43a4-c83c-30252be6bf13"
      },
      "execution_count": null,
      "outputs": [
        {
          "output_type": "execute_result",
          "data": {
            "text/plain": [
              "array(['unknown', 'below 2/3 circumferential',\n",
              "       'below 1/2 circumferential', 'below 1/3 circumferential',\n",
              "       'total circumferential', 'subtotal circumferential'], dtype=object)"
            ]
          },
          "metadata": {},
          "execution_count": 39
        }
      ]
    },
    {
      "cell_type": "code",
      "source": [
        "replace_values = { 'unknown':99, 'below 2/3 circumferential':1,\n",
        "       'below 1/2 circumferential':1, 'below 1/3 circumferential':1,\n",
        "       'total circumferential':2, 'subtotal circumferential':2}\n",
        "\n",
        "df['Obstruction'] = df['Obstruction'].replace(replace_values)"
      ],
      "metadata": {
        "id": "aVmfpX370T50"
      },
      "execution_count": null,
      "outputs": []
    },
    {
      "cell_type": "code",
      "source": [
        "df[\"Obstruction\"].unique()"
      ],
      "metadata": {
        "id": "eCZAXyQg0T8e",
        "colab": {
          "base_uri": "https://localhost:8080/"
        },
        "outputId": "fecb6b2c-7b33-4ce2-8619-0c056e90bc9c"
      },
      "execution_count": null,
      "outputs": [
        {
          "output_type": "execute_result",
          "data": {
            "text/plain": [
              "array([99,  1,  2])"
            ]
          },
          "metadata": {},
          "execution_count": 41
        }
      ]
    },
    {
      "cell_type": "code",
      "source": [
        "df = df[df['fStage'] == 2]"
      ],
      "metadata": {
        "id": "byexYJuQ0T_X"
      },
      "execution_count": null,
      "outputs": []
    },
    {
      "cell_type": "code",
      "source": [
        "len(df)"
      ],
      "metadata": {
        "id": "clO0y3ed0UCI",
        "colab": {
          "base_uri": "https://localhost:8080/"
        },
        "outputId": "4132ec80-b746-4788-daa2-12499b35edc9"
      },
      "execution_count": null,
      "outputs": [
        {
          "output_type": "execute_result",
          "data": {
            "text/plain": [
              "5458"
            ]
          },
          "metadata": {},
          "execution_count": 43
        }
      ]
    },
    {
      "cell_type": "code",
      "source": [
        "df = df[df['pDepth'].isin([4,5,6])]"
      ],
      "metadata": {
        "id": "u9j5Gwafwiae"
      },
      "execution_count": null,
      "outputs": []
    },
    {
      "cell_type": "code",
      "source": [
        "replace_values = {4:1, 5:2, 6:3}\n",
        "\n",
        "\n",
        "df['pDepth'] = df['pDepth'].replace(replace_values)"
      ],
      "metadata": {
        "id": "trNATuXGwwxs"
      },
      "execution_count": null,
      "outputs": []
    },
    {
      "cell_type": "code",
      "source": [
        "df['pDepth'].unique()"
      ],
      "metadata": {
        "id": "BOMTevJnwinN",
        "colab": {
          "base_uri": "https://localhost:8080/"
        },
        "outputId": "eafe3835-5c01-432e-a3fc-67263980a5b8"
      },
      "execution_count": null,
      "outputs": [
        {
          "output_type": "execute_result",
          "data": {
            "text/plain": [
              "array([1, 3, 2])"
            ]
          },
          "metadata": {},
          "execution_count": 46
        }
      ]
    },
    {
      "cell_type": "code",
      "source": [
        "values_to_keep = ['05_T', '07_S', '04_A', '03_C', '08_Rs', '06_D', '02_V']\n",
        "\n",
        "df = df[df['Location'].isin(values_to_keep)]\n"
      ],
      "metadata": {
        "id": "CCrei4b50UWQ"
      },
      "execution_count": null,
      "outputs": []
    },
    {
      "cell_type": "code",
      "source": [
        "replace_values = {'05_T':1, '07_S':2, '04_A':1, '03_C':1, '08_Rs':2, '06_D':2, '02_V':1}\n",
        "\n",
        "\n",
        "df['Location'] = df['Location'].replace(replace_values)"
      ],
      "metadata": {
        "id": "vic3iJ-VuFWt",
        "colab": {
          "base_uri": "https://localhost:8080/"
        },
        "outputId": "754498b4-f3f7-4a0e-a0f1-aa8df8d9eb47"
      },
      "execution_count": null,
      "outputs": [
        {
          "output_type": "stream",
          "name": "stderr",
          "text": [
            "<ipython-input-48-ad5478e99c6f>:4: SettingWithCopyWarning: \n",
            "A value is trying to be set on a copy of a slice from a DataFrame.\n",
            "Try using .loc[row_indexer,col_indexer] = value instead\n",
            "\n",
            "See the caveats in the documentation: https://pandas.pydata.org/pandas-docs/stable/user_guide/indexing.html#returning-a-view-versus-a-copy\n",
            "  df['Location'] = df['Location'].replace(replace_values)\n"
          ]
        }
      ]
    },
    {
      "cell_type": "code",
      "source": [
        "len(df)"
      ],
      "metadata": {
        "id": "9VteXFrv0UZ2",
        "colab": {
          "base_uri": "https://localhost:8080/"
        },
        "outputId": "4b791da4-2bc7-43ab-c0a5-ea0e9329485e"
      },
      "execution_count": null,
      "outputs": [
        {
          "output_type": "execute_result",
          "data": {
            "text/plain": [
              "4460"
            ]
          },
          "metadata": {},
          "execution_count": 49
        }
      ]
    },
    {
      "cell_type": "code",
      "source": [
        "# Find rows where DFS exceeds 5 and Event is 2, then change Event to 1\n",
        "df.loc[(df['DFS'] > 5) & (df['Event'] == 2), 'Event'] = 1\n",
        "\n",
        "#find all rows where DFS exceeds 5, then change DFS to 5\n",
        "df.loc[df['DFS'] > 5, 'DFS'] = 5"
      ],
      "metadata": {
        "id": "hBZCyx0KwkFS"
      },
      "execution_count": null,
      "outputs": []
    },
    {
      "cell_type": "code",
      "source": [
        "# # If 'LN numbers' is greater than or equal to 12, change it to 1, otherwise change it to 2\n",
        "df['LN number'] = df['LN number'].apply(lambda x: 1 if x >= 12 else 2)\n"
      ],
      "metadata": {
        "id": "h_-Dx0U6_NsA",
        "colab": {
          "base_uri": "https://localhost:8080/"
        },
        "outputId": "3657658d-6ac1-4da6-cb8c-f2bfb2c4cf03"
      },
      "execution_count": null,
      "outputs": [
        {
          "output_type": "stream",
          "name": "stderr",
          "text": [
            "<ipython-input-51-af3a8c0a77d2>:2: SettingWithCopyWarning: \n",
            "A value is trying to be set on a copy of a slice from a DataFrame.\n",
            "Try using .loc[row_indexer,col_indexer] = value instead\n",
            "\n",
            "See the caveats in the documentation: https://pandas.pydata.org/pandas-docs/stable/user_guide/indexing.html#returning-a-view-versus-a-copy\n",
            "  df['LN number'] = df['LN number'].apply(lambda x: 1 if x >= 12 else 2)\n"
          ]
        }
      ]
    },
    {
      "cell_type": "code",
      "source": [],
      "metadata": {
        "id": "7cad52rOaIfW"
      },
      "execution_count": null,
      "outputs": []
    },
    {
      "cell_type": "code",
      "source": [
        "df[\"Event\"].unique()\n",
        "#1: -,  2:  +\n",
        "\n",
        "\n",
        "replace_values = {1:1, 2:2}\n",
        "\n",
        "df['Event'] = df['Event'].replace(replace_values)\n"
      ],
      "metadata": {
        "id": "ew7SUjAeaIob",
        "colab": {
          "base_uri": "https://localhost:8080/"
        },
        "outputId": "e08cdd49-007a-46cd-b349-514f2e0782e6"
      },
      "execution_count": null,
      "outputs": [
        {
          "output_type": "stream",
          "name": "stderr",
          "text": [
            "<ipython-input-52-a77ec12493d9>:7: SettingWithCopyWarning: \n",
            "A value is trying to be set on a copy of a slice from a DataFrame.\n",
            "Try using .loc[row_indexer,col_indexer] = value instead\n",
            "\n",
            "See the caveats in the documentation: https://pandas.pydata.org/pandas-docs/stable/user_guide/indexing.html#returning-a-view-versus-a-copy\n",
            "  df['Event'] = df['Event'].replace(replace_values)\n"
          ]
        }
      ]
    },
    {
      "cell_type": "code",
      "source": [
        "df[\"Event\"].unique()"
      ],
      "metadata": {
        "colab": {
          "base_uri": "https://localhost:8080/"
        },
        "id": "NgpXYyNkaIw6",
        "outputId": "a8c81a19-662a-492a-9c2a-9b29f644c519"
      },
      "execution_count": null,
      "outputs": [
        {
          "output_type": "execute_result",
          "data": {
            "text/plain": [
              "array([1, 2])"
            ]
          },
          "metadata": {},
          "execution_count": 53
        }
      ]
    },
    {
      "cell_type": "code",
      "source": [],
      "metadata": {
        "id": "n7AnSG6-aJCc"
      },
      "execution_count": null,
      "outputs": []
    },
    {
      "cell_type": "code",
      "source": [
        "df = df[df['Curability'] == 1]\n",
        "len(df)"
      ],
      "metadata": {
        "id": "XFjJRgdqiZBx",
        "colab": {
          "base_uri": "https://localhost:8080/"
        },
        "outputId": "7cf14465-2143-4fa5-9b89-dad67fbcc830"
      },
      "execution_count": null,
      "outputs": [
        {
          "output_type": "execute_result",
          "data": {
            "text/plain": [
              "4256"
            ]
          },
          "metadata": {},
          "execution_count": 54
        }
      ]
    },
    {
      "cell_type": "code",
      "source": [
        "df = df[df['Neoadjuvant'] == 0]\n",
        "len(df)"
      ],
      "metadata": {
        "id": "4PfFIS7HiJcy",
        "colab": {
          "base_uri": "https://localhost:8080/"
        },
        "outputId": "4ae487a8-da4a-4120-9887-091af4971504"
      },
      "execution_count": null,
      "outputs": [
        {
          "output_type": "execute_result",
          "data": {
            "text/plain": [
              "4232"
            ]
          },
          "metadata": {},
          "execution_count": 55
        }
      ]
    },
    {
      "cell_type": "code",
      "source": [
        "df = df[df['Adjuvant'] == 0]\n",
        "len(df)"
      ],
      "metadata": {
        "colab": {
          "base_uri": "https://localhost:8080/"
        },
        "id": "b2GQl8C5iJk5",
        "outputId": "6a794664-bab0-4aa0-e299-6fc30e7dbe34"
      },
      "execution_count": null,
      "outputs": [
        {
          "output_type": "execute_result",
          "data": {
            "text/plain": [
              "3255"
            ]
          },
          "metadata": {},
          "execution_count": 56
        }
      ]
    },
    {
      "cell_type": "code",
      "source": [
        "df['operation'].unique()"
      ],
      "metadata": {
        "id": "WAcy41cMiJo4",
        "colab": {
          "base_uri": "https://localhost:8080/"
        },
        "outputId": "40b66522-8a83-4535-b358-ceac654b2e12"
      },
      "execution_count": null,
      "outputs": [
        {
          "output_type": "execute_result",
          "data": {
            "text/plain": [
              "array(['sigmoidectomy', 'RHC', 'ileocecal resection', 'LAR', 'LHC',\n",
              "       'Partial colectomy', 'HAR', 'PE', '015_Hartmann',\n",
              "       'total colectomy', 'total proctocolectomy', 'APR'], dtype=object)"
            ]
          },
          "metadata": {},
          "execution_count": 57
        }
      ]
    },
    {
      "cell_type": "code",
      "source": [
        "replace_values = {'Partial colectomy':1, 'sigmoidectomy':5, 'RHC':3, 'ileocecal resection':2, 'APR':9,\n",
        "       'HAR':7, 'LAR':9, '015_Hartmann':6, 'LHC':4,\n",
        "       'PE':9, 'total colectomy':9, 'sLAR':9, 'total proctocolectomy':9, 'ISR':9}\n",
        "\n",
        "df['operation'] = df['operation'].replace(replace_values)\n",
        "df['operation'].unique()"
      ],
      "metadata": {
        "id": "aU2t5GjXpHhz",
        "colab": {
          "base_uri": "https://localhost:8080/"
        },
        "outputId": "311ef795-a370-40d1-ca0b-0772be51dd3e"
      },
      "execution_count": null,
      "outputs": [
        {
          "output_type": "execute_result",
          "data": {
            "text/plain": [
              "array([5, 3, 2, 9, 4, 1, 7, 6])"
            ]
          },
          "metadata": {},
          "execution_count": 58
        }
      ]
    },
    {
      "cell_type": "code",
      "source": [
        "df = df[df['operation'].isin([1,2,3,4,5,6,7])]\n",
        "len(df)"
      ],
      "metadata": {
        "id": "cVRRAgS2pHoy",
        "colab": {
          "base_uri": "https://localhost:8080/"
        },
        "outputId": "3f600e7a-6f63-40f3-e405-d9ecba0f061e"
      },
      "execution_count": null,
      "outputs": [
        {
          "output_type": "execute_result",
          "data": {
            "text/plain": [
              "2887"
            ]
          },
          "metadata": {},
          "execution_count": 59
        }
      ]
    },
    {
      "cell_type": "code",
      "source": [],
      "metadata": {
        "id": "iOf7-G3piJuF"
      },
      "execution_count": null,
      "outputs": []
    },
    {
      "cell_type": "code",
      "source": [],
      "metadata": {
        "id": "nlMTJwgMiJ08"
      },
      "execution_count": null,
      "outputs": []
    },
    {
      "cell_type": "code",
      "source": [
        "\n",
        "columns_to_remove = ['Neoadjuvant', 'Adjuvant', 'Curability', 'fStage']\n",
        "df = df.drop(columns=columns_to_remove)\n"
      ],
      "metadata": {
        "id": "OHlWxKi7CHui"
      },
      "execution_count": null,
      "outputs": []
    },
    {
      "cell_type": "code",
      "source": [
        "df = df[~((df['CEA'] == 1) & (df['ly'] == 1) & (df['v'] == 1) & (df['pDepth'] == 1) &\n",
        "          ((df['Pathology'] == 1) | (df['Pathology'] == 2)) & (df['LN number'] == 1) &\n",
        "          (df['Obstruction'] == 1))]\n",
        "\n",
        "len(df)\n"
      ],
      "metadata": {
        "id": "q6oysrzTCH73",
        "colab": {
          "base_uri": "https://localhost:8080/"
        },
        "outputId": "902e9d23-c650-4257-c7e6-2bd145ee9a50"
      },
      "execution_count": null,
      "outputs": [
        {
          "output_type": "execute_result",
          "data": {
            "text/plain": [
              "2769"
            ]
          },
          "metadata": {},
          "execution_count": 61
        }
      ]
    },
    {
      "cell_type": "code",
      "source": [
        "# Divide the data into three groups based on age\n",
        "#Delete entries where the value is above 80\n",
        "bins = [0, 65, 80, float('inf')]\n",
        "labels = ['1', '2', '3']\n",
        "df['age'] = pd.cut(df['age'], bins=bins, labels=labels, right=False)\n",
        "df = df[df['age'] != '3']\n"
      ],
      "metadata": {
        "id": "AYrCG1X2bMz8"
      },
      "execution_count": null,
      "outputs": []
    },
    {
      "cell_type": "code",
      "source": [
        "len(df)"
      ],
      "metadata": {
        "colab": {
          "base_uri": "https://localhost:8080/"
        },
        "id": "cLWQpYLzbM9l",
        "outputId": "5a99f7ad-1951-4323-fad7-19bfdee68e99"
      },
      "execution_count": null,
      "outputs": [
        {
          "output_type": "execute_result",
          "data": {
            "text/plain": [
              "2208"
            ]
          },
          "metadata": {},
          "execution_count": 63
        }
      ]
    },
    {
      "cell_type": "code",
      "source": [],
      "metadata": {
        "id": "qFlNhslybNFM"
      },
      "execution_count": null,
      "outputs": []
    },
    {
      "cell_type": "code",
      "source": [
        "df['gender'].unique()"
      ],
      "metadata": {
        "id": "aQkNCE9L0FGy",
        "colab": {
          "base_uri": "https://localhost:8080/"
        },
        "outputId": "80deb19f-f445-47f3-881e-52495fc7c23f"
      },
      "execution_count": null,
      "outputs": [
        {
          "output_type": "execute_result",
          "data": {
            "text/plain": [
              "array(['02_F', '01_M'], dtype=object)"
            ]
          },
          "metadata": {},
          "execution_count": 64
        }
      ]
    },
    {
      "cell_type": "code",
      "source": [
        "replace_values = {'01_M':2, '02_F':1}\n",
        "\n",
        "\n",
        "df['gender'] = df['gender'].replace(replace_values)\n",
        "df['gender'].unique()"
      ],
      "metadata": {
        "id": "fzjBBfq-lQUJ",
        "colab": {
          "base_uri": "https://localhost:8080/"
        },
        "outputId": "e7f0d4fe-e469-4363-ba98-873c89c98e53"
      },
      "execution_count": null,
      "outputs": [
        {
          "output_type": "execute_result",
          "data": {
            "text/plain": [
              "array([1, 2])"
            ]
          },
          "metadata": {},
          "execution_count": 65
        }
      ]
    },
    {
      "cell_type": "code",
      "source": [
        "df['Approach'].unique()"
      ],
      "metadata": {
        "id": "QUvw5qHGlQXu",
        "colab": {
          "base_uri": "https://localhost:8080/"
        },
        "outputId": "6b6671a4-2d74-475e-8333-3f3d443500be"
      },
      "execution_count": null,
      "outputs": [
        {
          "output_type": "execute_result",
          "data": {
            "text/plain": [
              "array(['laparoscopy + small incision', 'open', 'unknown', 'laparoscopy',\n",
              "       'peranal approach'], dtype=object)"
            ]
          },
          "metadata": {},
          "execution_count": 66
        }
      ]
    },
    {
      "cell_type": "code",
      "source": [
        "replace_values = {'open':2, 'laparoscopy + small incision':1, 'unknown':99, 'laparoscopy':1, 'laparoscopy':1, 'peranal approach':3}\n",
        "\n",
        "\n",
        "df['Approach'] = df['Approach'].replace(replace_values)\n",
        "df['Approach'].unique()"
      ],
      "metadata": {
        "id": "oJK2DB-blQbV",
        "colab": {
          "base_uri": "https://localhost:8080/"
        },
        "outputId": "a610e6cf-36bd-47ad-f3a6-572c78dfdfa1"
      },
      "execution_count": null,
      "outputs": [
        {
          "output_type": "execute_result",
          "data": {
            "text/plain": [
              "array([ 1,  2, 99,  3])"
            ]
          },
          "metadata": {},
          "execution_count": 67
        }
      ]
    },
    {
      "cell_type": "code",
      "source": [
        "df = df[df['Approach'].isin([1,2,99])]\n",
        "len(df)"
      ],
      "metadata": {
        "id": "ZmujDTjmq4rS",
        "colab": {
          "base_uri": "https://localhost:8080/"
        },
        "outputId": "79cdf30a-0cc9-4821-de9f-063aaa64232a"
      },
      "execution_count": null,
      "outputs": [
        {
          "output_type": "execute_result",
          "data": {
            "text/plain": [
              "2168"
            ]
          },
          "metadata": {},
          "execution_count": 68
        }
      ]
    },
    {
      "cell_type": "code",
      "source": [
        "df['Dissection Level'].unique()"
      ],
      "metadata": {
        "id": "Bjxzlmb1lQnW",
        "colab": {
          "base_uri": "https://localhost:8080/"
        },
        "outputId": "ffa0e2ac-bce2-432f-cb3c-cff1dc266a67"
      },
      "execution_count": null,
      "outputs": [
        {
          "output_type": "execute_result",
          "data": {
            "text/plain": [
              "array(['01_D1', '03_D3', '02_D2'], dtype=object)"
            ]
          },
          "metadata": {},
          "execution_count": 69
        }
      ]
    },
    {
      "cell_type": "code",
      "source": [
        "replace_values = {'02_D2':2, '01_D1':3, '03_D3':1}\n",
        "\n",
        "df['Dissection Level'] = df['Dissection Level'].replace(replace_values)\n",
        "df['Dissection Level'].unique()"
      ],
      "metadata": {
        "id": "cuVxvBUClQq4",
        "colab": {
          "base_uri": "https://localhost:8080/"
        },
        "outputId": "4516c065-f04f-4926-a93a-0af05643068d"
      },
      "execution_count": null,
      "outputs": [
        {
          "output_type": "execute_result",
          "data": {
            "text/plain": [
              "array([3, 1, 2])"
            ]
          },
          "metadata": {},
          "execution_count": 70
        }
      ]
    },
    {
      "cell_type": "code",
      "source": [],
      "metadata": {
        "id": "sb09vjHarI2n"
      },
      "execution_count": null,
      "outputs": []
    },
    {
      "cell_type": "code",
      "source": [],
      "metadata": {
        "id": "wP3JWol7rI_M"
      },
      "execution_count": null,
      "outputs": []
    },
    {
      "cell_type": "code",
      "source": [
        "# Store the columns you want to clean in a list\n",
        "columns_to_clean = ['Pathology', 'pDepth', 'ly', 'v', 'CEA', 'LN number','gender','age','Dissection Level']\n",
        "\n",
        "# Remove the missing values from the specified columns\n",
        "df = df.dropna(subset=columns_to_clean)"
      ],
      "metadata": {
        "id": "1Z57T990lQtX"
      },
      "execution_count": null,
      "outputs": []
    },
    {
      "cell_type": "code",
      "source": [],
      "metadata": {
        "id": "JV5DpFR14MK4"
      },
      "execution_count": null,
      "outputs": []
    },
    {
      "cell_type": "code",
      "source": [
        "len(df)"
      ],
      "metadata": {
        "id": "iB7pu7YpsZdt",
        "colab": {
          "base_uri": "https://localhost:8080/"
        },
        "outputId": "6c9b1012-928a-4154-b77f-8bf85509f884"
      },
      "execution_count": null,
      "outputs": [
        {
          "output_type": "execute_result",
          "data": {
            "text/plain": [
              "1979"
            ]
          },
          "metadata": {},
          "execution_count": 72
        }
      ]
    },
    {
      "cell_type": "code",
      "source": [],
      "metadata": {
        "id": "ymVSWdfKsZr1"
      },
      "execution_count": null,
      "outputs": []
    },
    {
      "cell_type": "code",
      "source": [
        "df.to_excel(\"JSCCR fStageII.xlsx\")"
      ],
      "metadata": {
        "id": "89usGZDm_N99"
      },
      "execution_count": null,
      "outputs": []
    },
    {
      "cell_type": "code",
      "source": [],
      "metadata": {
        "id": "HpAIJPR0fSYf"
      },
      "execution_count": null,
      "outputs": []
    },
    {
      "cell_type": "code",
      "source": [
        "category_variables = ['gender', 'age', 'Approach', 'operation', 'Dissection Level',\n",
        "                      'Pathology', 'pDepth', 'ly', 'v', 'CEA',\n",
        "                       'LN number', 'Event', 'Location', 'Obstruction']\n",
        "\n",
        "for variable in category_variables:\n",
        "    # Event vs  category cross table\n",
        "    cross_tab = pd.crosstab(df[variable], df['Event'], margins=True, margins_name='Total')\n",
        "\n",
        "    # percentage\n",
        "    cross_tab_percentage = cross_tab.div(cross_tab.loc['Total', :], axis=1).round(4) * 100\n",
        "\n",
        "    # result\n",
        "    print(f'--- {variable} vs Event ---')\n",
        "    print('Count:')\n",
        "    print(cross_tab)\n",
        "    print('Percentage:')\n",
        "    print(cross_tab_percentage)\n",
        "    print('\\n')"
      ],
      "metadata": {
        "colab": {
          "base_uri": "https://localhost:8080/"
        },
        "id": "f8m-HrM7D4nD",
        "outputId": "71151c33-8943-47dd-a931-21dde68bb7ea"
      },
      "execution_count": null,
      "outputs": [
        {
          "output_type": "stream",
          "name": "stdout",
          "text": [
            "--- gender vs Event ---\n",
            "Count:\n",
            "Event      1    2  Total\n",
            "gender                  \n",
            "1        771  101    872\n",
            "2        918  189   1107\n",
            "Total   1689  290   1979\n",
            "Percentage:\n",
            "Event        1       2   Total\n",
            "gender                        \n",
            "1        45.65   34.83   44.06\n",
            "2        54.35   65.17   55.94\n",
            "Total   100.00  100.00  100.00\n",
            "\n",
            "\n",
            "--- age vs Event ---\n",
            "Count:\n",
            "Event     1    2  Total\n",
            "age                    \n",
            "1       636   85    721\n",
            "2      1053  205   1258\n",
            "Total  1689  290   1979\n",
            "Percentage:\n",
            "Event       1       2   Total\n",
            "age                          \n",
            "1       37.66   29.31   36.43\n",
            "2       62.34   70.69   63.57\n",
            "Total  100.00  100.00  100.00\n",
            "\n",
            "\n",
            "--- Approach vs Event ---\n",
            "Count:\n",
            "Event        1    2  Total\n",
            "Approach                  \n",
            "1          255   38    293\n",
            "2         1360  243   1603\n",
            "99          74    9     83\n",
            "Total     1689  290   1979\n",
            "Percentage:\n",
            "Event          1       2   Total\n",
            "Approach                        \n",
            "1          15.10   13.10   14.81\n",
            "2          80.52   83.79   81.00\n",
            "99          4.38    3.10    4.19\n",
            "Total     100.00  100.00  100.00\n",
            "\n",
            "\n",
            "--- operation vs Event ---\n",
            "Count:\n",
            "Event         1    2  Total\n",
            "operation                  \n",
            "1           145   23    168\n",
            "2           121   18    139\n",
            "3           476   80    556\n",
            "4           126   22    148\n",
            "5           547  103    650\n",
            "6            22   12     34\n",
            "7           252   32    284\n",
            "Total      1689  290   1979\n",
            "Percentage:\n",
            "Event           1       2   Total\n",
            "operation                        \n",
            "1            8.58    7.93    8.49\n",
            "2            7.16    6.21    7.02\n",
            "3           28.18   27.59   28.09\n",
            "4            7.46    7.59    7.48\n",
            "5           32.39   35.52   32.84\n",
            "6            1.30    4.14    1.72\n",
            "7           14.92   11.03   14.35\n",
            "Total      100.00  100.00  100.00\n",
            "\n",
            "\n",
            "--- Dissection Level vs Event ---\n",
            "Count:\n",
            "Event                1    2  Total\n",
            "Dissection Level                  \n",
            "1                 1057  158   1215\n",
            "2                  520  110    630\n",
            "3                  112   22    134\n",
            "Total             1689  290   1979\n",
            "Percentage:\n",
            "Event                  1       2   Total\n",
            "Dissection Level                        \n",
            "1                  62.58   54.48   61.39\n",
            "2                  30.79   37.93   31.83\n",
            "3                   6.63    7.59    6.77\n",
            "Total             100.00  100.00  100.00\n",
            "\n",
            "\n",
            "--- Pathology vs Event ---\n",
            "Count:\n",
            "Event         1    2  Total\n",
            "Pathology                  \n",
            "1           813  136    949\n",
            "2           774  142    916\n",
            "3           102   12    114\n",
            "Total      1689  290   1979\n",
            "Percentage:\n",
            "Event           1       2   Total\n",
            "Pathology                        \n",
            "1           48.13   46.90   47.95\n",
            "2           45.83   48.97   46.29\n",
            "3            6.04    4.14    5.76\n",
            "Total      100.00  100.00  100.00\n",
            "\n",
            "\n",
            "--- pDepth vs Event ---\n",
            "Count:\n",
            "Event      1    2  Total\n",
            "pDepth                  \n",
            "1       1391  204   1595\n",
            "2        238   68    306\n",
            "3         60   18     78\n",
            "Total   1689  290   1979\n",
            "Percentage:\n",
            "Event        1       2   Total\n",
            "pDepth                        \n",
            "1        82.36   70.34   80.60\n",
            "2        14.09   23.45   15.46\n",
            "3         3.55    6.21    3.94\n",
            "Total   100.00  100.00  100.00\n",
            "\n",
            "\n",
            "--- ly vs Event ---\n",
            "Count:\n",
            "Event     1    2  Total\n",
            "ly                     \n",
            "1       715  122    837\n",
            "2       974  168   1142\n",
            "Total  1689  290   1979\n",
            "Percentage:\n",
            "Event       1       2   Total\n",
            "ly                           \n",
            "1       42.33   42.07   42.29\n",
            "2       57.67   57.93   57.71\n",
            "Total  100.00  100.00  100.00\n",
            "\n",
            "\n",
            "--- v vs Event ---\n",
            "Count:\n",
            "Event     1    2  Total\n",
            "v                      \n",
            "1       602   95    697\n",
            "2      1087  195   1282\n",
            "Total  1689  290   1979\n",
            "Percentage:\n",
            "Event       1       2   Total\n",
            "v                            \n",
            "1       35.64   32.76   35.22\n",
            "2       64.36   67.24   64.78\n",
            "Total  100.00  100.00  100.00\n",
            "\n",
            "\n",
            "--- CEA vs Event ---\n",
            "Count:\n",
            "Event     1    2  Total\n",
            "CEA                    \n",
            "1.0    1112  163   1275\n",
            "2.0     577  127    704\n",
            "Total  1689  290   1979\n",
            "Percentage:\n",
            "Event       1       2   Total\n",
            "CEA                          \n",
            "1.0     65.84   56.21   64.43\n",
            "2.0     34.16   43.79   35.57\n",
            "Total  100.00  100.00  100.00\n",
            "\n",
            "\n",
            "--- LN number vs Event ---\n",
            "Count:\n",
            "Event         1    2  Total\n",
            "LN number                  \n",
            "1          1229  204   1433\n",
            "2           460   86    546\n",
            "Total      1689  290   1979\n",
            "Percentage:\n",
            "Event           1       2   Total\n",
            "LN number                        \n",
            "1           72.76   70.34   72.41\n",
            "2           27.24   29.66   27.59\n",
            "Total      100.00  100.00  100.00\n",
            "\n",
            "\n",
            "--- Event vs Event ---\n",
            "Count:\n",
            "Event     1    2  Total\n",
            "Event                  \n",
            "1      1689    0   1689\n",
            "2         0  290    290\n",
            "Total  1689  290   1979\n",
            "Percentage:\n",
            "Event      1      2   Total\n",
            "Event                      \n",
            "1      100.0    0.0   85.35\n",
            "2        0.0  100.0   14.65\n",
            "Total  100.0  100.0  100.00\n",
            "\n",
            "\n",
            "--- Location vs Event ---\n",
            "Count:\n",
            "Event        1    2  Total\n",
            "Location                  \n",
            "1          769  128    897\n",
            "2          920  162   1082\n",
            "Total     1689  290   1979\n",
            "Percentage:\n",
            "Event          1       2   Total\n",
            "Location                        \n",
            "1          45.53   44.14   45.33\n",
            "2          54.47   55.86   54.67\n",
            "Total     100.00  100.00  100.00\n",
            "\n",
            "\n",
            "--- Obstruction vs Event ---\n",
            "Count:\n",
            "Event           1    2  Total\n",
            "Obstruction                  \n",
            "1             698   94    792\n",
            "2             885  175   1060\n",
            "99            106   21    127\n",
            "Total        1689  290   1979\n",
            "Percentage:\n",
            "Event             1       2   Total\n",
            "Obstruction                        \n",
            "1             41.33   32.41   40.02\n",
            "2             52.40   60.34   53.56\n",
            "99             6.28    7.24    6.42\n",
            "Total        100.00  100.00  100.00\n",
            "\n",
            "\n"
          ]
        }
      ]
    },
    {
      "cell_type": "code",
      "source": [],
      "metadata": {
        "id": "0K3_qLPnD4u_"
      },
      "execution_count": null,
      "outputs": []
    },
    {
      "cell_type": "code",
      "source": [
        "# Create a dummy dataframe, df. In practice, you would use your actual data.\n",
        "# This is just an example.\n",
        "\n",
        "# Path for the output Excel file\n",
        "output_path = 'JSCCR cross table.xlsx'\n",
        "\n",
        "# Use ExcelWriter to write to the file\n",
        "with pd.ExcelWriter(output_path) as writer:\n",
        "    for variable in category_variables:\n",
        "        # Cross table of Event vs category\n",
        "        cross_tab = pd.crosstab(df[variable], df['Event'], margins=True, margins_name='Total')\n",
        "\n",
        "        # Calculate percentage\n",
        "        cross_tab_percentage = cross_tab.div(cross_tab.loc['Total', :], axis=1).round(4) * 100\n",
        "\n",
        "        # Write count to an Excel sheet\n",
        "        cross_tab.to_excel(writer, sheet_name=f'{variable} Count')\n",
        "\n",
        "        # Write percentage to a different Excel sheet\n",
        "        cross_tab_percentage.to_excel(writer, sheet_name=f'{variable} Percentage')\n",
        "\n",
        "# If using Google Colab, download the created Excel file\n",
        "# from google.colab import files\n",
        "# files.download(output_path)\n"
      ],
      "metadata": {
        "id": "10bz_r3gfS4z"
      },
      "execution_count": null,
      "outputs": []
    },
    {
      "cell_type": "code",
      "source": [],
      "metadata": {
        "id": "yR8GwlzuDW6t"
      },
      "execution_count": null,
      "outputs": []
    }
  ]
}