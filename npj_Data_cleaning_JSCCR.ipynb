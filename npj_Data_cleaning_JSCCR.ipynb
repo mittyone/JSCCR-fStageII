{
  "nbformat": 4,
  "nbformat_minor": 0,
  "metadata": {
    "colab": {
      "provenance": [],
      "authorship_tag": "ABX9TyPf/Oap6KYM+zabjkYSqboB",
      "include_colab_link": true
    },
    "kernelspec": {
      "name": "python3",
      "display_name": "Python 3"
    },
    "language_info": {
      "name": "python"
    }
  },
  "cells": [
    {
      "cell_type": "markdown",
      "metadata": {
        "id": "view-in-github",
        "colab_type": "text"
      },
      "source": [
        "<a href=\"https://colab.research.google.com/github/mittyone/JSCCR-fStageII/blob/main/npj_Data_cleaning_JSCCR.ipynb\" target=\"_parent\"><img src=\"https://colab.research.google.com/assets/colab-badge.svg\" alt=\"Open In Colab\"/></a>"
      ]
    },
    {
      "cell_type": "code",
      "source": [
        "import pandas as pd\n",
        "\n",
        "\n",
        "\n"
      ],
      "metadata": {
        "id": "WN6QdbrpjTca"
      },
      "execution_count": null,
      "outputs": []
    },
    {
      "cell_type": "code",
      "source": [
        "df = pd.read_excel('JSCCR.xlsx')"
      ],
      "metadata": {
        "id": "N6Wb42s7dcfo"
      },
      "execution_count": null,
      "outputs": []
    },
    {
      "cell_type": "code",
      "source": [
        "columns_to_keep = ['gender','年齢','Approach','切除術式','中枢側郭清度','Pathology', 'pDepth', 'ly', 'v', 'CEA', 'Curability', 'fStage', 'LN number', 'DFS', 'Event', '生死_詳細-既存項目','Neoadjuvant', 'Adjuvant', 'Location', 'Obstruction']\n",
        "\n",
        "df = df[columns_to_keep]"
      ],
      "metadata": {
        "id": "Jn9PEj50jTiq"
      },
      "execution_count": null,
      "outputs": []
    },
    {
      "cell_type": "code",
      "source": [
        "df.to_excel(\"JSCCR.modified.xlsx\")"
      ],
      "metadata": {
        "id": "H-5UR8NAv-YE"
      },
      "execution_count": null,
      "outputs": []
    },
    {
      "cell_type": "code",
      "source": [
        "df = pd.read_excel('JSCCR.modified.xlsx')"
      ],
      "metadata": {
        "id": "3fXS8Z8_wQ4b"
      },
      "execution_count": null,
      "outputs": []
    },
    {
      "cell_type": "code",
      "source": [
        "len(df)"
      ],
      "metadata": {
        "id": "hnze8eV4jTlq",
        "colab": {
          "base_uri": "https://localhost:8080/"
        },
        "outputId": "8f643832-92de-44bf-c103-ba5927f3f1a2"
      },
      "execution_count": null,
      "outputs": [
        {
          "output_type": "execute_result",
          "data": {
            "text/plain": [
              "16895"
            ]
          },
          "metadata": {},
          "execution_count": 6
        }
      ]
    },
    {
      "cell_type": "code",
      "source": [
        "df.head()"
      ],
      "metadata": {
        "colab": {
          "base_uri": "https://localhost:8080/",
          "height": 585
        },
        "id": "zc_O-vHZXlKd",
        "outputId": "7b91e94a-5acc-42a7-84eb-b9af9bacd739"
      },
      "execution_count": null,
      "outputs": [
        {
          "output_type": "execute_result",
          "data": {
            "text/plain": [
              "   Unnamed: 0 gender    年齢    Approach        切除術式 中枢側郭清度 Pathology  \\\n",
              "0           0   02_F  77.0       03_開腹  006_結腸部分切除  02_D2  03_中分化腺癌   \n",
              "1           1   01_M  69.0       03_開腹  009_S状結腸切除  01_D1  03_中分化腺癌   \n",
              "2           2   02_F  45.0  02_腹腔鏡+小開腹  009_S状結腸切除  01_D1  02_高分化腺癌   \n",
              "3           3   02_F  65.0       03_開腹  007_結腸右半切除  03_D3  04_低分化腺癌   \n",
              "4           4   02_F  62.0       03_開腹  007_結腸右半切除  03_D3  02_高分化腺癌   \n",
              "\n",
              "      pDepth     ly     v  ... Curability     fStage LN number       DFS  \\\n",
              "0     02_pSM  1_ly0  1_v0  ...   01_pCurA  02_Stage1        18  7.515400   \n",
              "1     02_pSM  1_ly0  1_v0  ...   01_pCurA  02_Stage1        15  5.303217   \n",
              "2   04_pSS/A  1_ly0  1_v0  ...   01_pCurA  03_Stage2         9  7.304586   \n",
              "3  05_pSE/A2  1_ly0  1_v0  ...   02_pCurB  06_Stage4        23  0.722793   \n",
              "4   04_pSS/A  1_ly0  1_v0  ...   01_pCurA  03_Stage2        49  6.376454   \n",
              "\n",
              "   Event  生死_詳細-既存項目 Neoadjuvant  Adjuvant Location Obstruction  \n",
              "0      1         NaN        0_なし  0_術後補助なし     05_T        9_不明  \n",
              "1      1         NaN        0_なし  0_術後補助なし     07_S        9_不明  \n",
              "2      1         NaN        0_なし  0_術後補助なし     07_S        9_不明  \n",
              "3      2           2        0_なし  1_術後補助あり     04_A        9_不明  \n",
              "4      2         NaN        0_なし  0_術後補助なし     04_A     3_2/3以下  \n",
              "\n",
              "[5 rows x 21 columns]"
            ],
            "text/html": [
              "\n",
              "  <div id=\"df-037904e6-de1f-48d5-8ae9-856c385b0d62\" class=\"colab-df-container\">\n",
              "    <div>\n",
              "<style scoped>\n",
              "    .dataframe tbody tr th:only-of-type {\n",
              "        vertical-align: middle;\n",
              "    }\n",
              "\n",
              "    .dataframe tbody tr th {\n",
              "        vertical-align: top;\n",
              "    }\n",
              "\n",
              "    .dataframe thead th {\n",
              "        text-align: right;\n",
              "    }\n",
              "</style>\n",
              "<table border=\"1\" class=\"dataframe\">\n",
              "  <thead>\n",
              "    <tr style=\"text-align: right;\">\n",
              "      <th></th>\n",
              "      <th>Unnamed: 0</th>\n",
              "      <th>gender</th>\n",
              "      <th>年齢</th>\n",
              "      <th>Approach</th>\n",
              "      <th>切除術式</th>\n",
              "      <th>中枢側郭清度</th>\n",
              "      <th>Pathology</th>\n",
              "      <th>pDepth</th>\n",
              "      <th>ly</th>\n",
              "      <th>v</th>\n",
              "      <th>...</th>\n",
              "      <th>Curability</th>\n",
              "      <th>fStage</th>\n",
              "      <th>LN number</th>\n",
              "      <th>DFS</th>\n",
              "      <th>Event</th>\n",
              "      <th>生死_詳細-既存項目</th>\n",
              "      <th>Neoadjuvant</th>\n",
              "      <th>Adjuvant</th>\n",
              "      <th>Location</th>\n",
              "      <th>Obstruction</th>\n",
              "    </tr>\n",
              "  </thead>\n",
              "  <tbody>\n",
              "    <tr>\n",
              "      <th>0</th>\n",
              "      <td>0</td>\n",
              "      <td>02_F</td>\n",
              "      <td>77.0</td>\n",
              "      <td>03_開腹</td>\n",
              "      <td>006_結腸部分切除</td>\n",
              "      <td>02_D2</td>\n",
              "      <td>03_中分化腺癌</td>\n",
              "      <td>02_pSM</td>\n",
              "      <td>1_ly0</td>\n",
              "      <td>1_v0</td>\n",
              "      <td>...</td>\n",
              "      <td>01_pCurA</td>\n",
              "      <td>02_Stage1</td>\n",
              "      <td>18</td>\n",
              "      <td>7.515400</td>\n",
              "      <td>1</td>\n",
              "      <td>NaN</td>\n",
              "      <td>0_なし</td>\n",
              "      <td>0_術後補助なし</td>\n",
              "      <td>05_T</td>\n",
              "      <td>9_不明</td>\n",
              "    </tr>\n",
              "    <tr>\n",
              "      <th>1</th>\n",
              "      <td>1</td>\n",
              "      <td>01_M</td>\n",
              "      <td>69.0</td>\n",
              "      <td>03_開腹</td>\n",
              "      <td>009_S状結腸切除</td>\n",
              "      <td>01_D1</td>\n",
              "      <td>03_中分化腺癌</td>\n",
              "      <td>02_pSM</td>\n",
              "      <td>1_ly0</td>\n",
              "      <td>1_v0</td>\n",
              "      <td>...</td>\n",
              "      <td>01_pCurA</td>\n",
              "      <td>02_Stage1</td>\n",
              "      <td>15</td>\n",
              "      <td>5.303217</td>\n",
              "      <td>1</td>\n",
              "      <td>NaN</td>\n",
              "      <td>0_なし</td>\n",
              "      <td>0_術後補助なし</td>\n",
              "      <td>07_S</td>\n",
              "      <td>9_不明</td>\n",
              "    </tr>\n",
              "    <tr>\n",
              "      <th>2</th>\n",
              "      <td>2</td>\n",
              "      <td>02_F</td>\n",
              "      <td>45.0</td>\n",
              "      <td>02_腹腔鏡+小開腹</td>\n",
              "      <td>009_S状結腸切除</td>\n",
              "      <td>01_D1</td>\n",
              "      <td>02_高分化腺癌</td>\n",
              "      <td>04_pSS/A</td>\n",
              "      <td>1_ly0</td>\n",
              "      <td>1_v0</td>\n",
              "      <td>...</td>\n",
              "      <td>01_pCurA</td>\n",
              "      <td>03_Stage2</td>\n",
              "      <td>9</td>\n",
              "      <td>7.304586</td>\n",
              "      <td>1</td>\n",
              "      <td>NaN</td>\n",
              "      <td>0_なし</td>\n",
              "      <td>0_術後補助なし</td>\n",
              "      <td>07_S</td>\n",
              "      <td>9_不明</td>\n",
              "    </tr>\n",
              "    <tr>\n",
              "      <th>3</th>\n",
              "      <td>3</td>\n",
              "      <td>02_F</td>\n",
              "      <td>65.0</td>\n",
              "      <td>03_開腹</td>\n",
              "      <td>007_結腸右半切除</td>\n",
              "      <td>03_D3</td>\n",
              "      <td>04_低分化腺癌</td>\n",
              "      <td>05_pSE/A2</td>\n",
              "      <td>1_ly0</td>\n",
              "      <td>1_v0</td>\n",
              "      <td>...</td>\n",
              "      <td>02_pCurB</td>\n",
              "      <td>06_Stage4</td>\n",
              "      <td>23</td>\n",
              "      <td>0.722793</td>\n",
              "      <td>2</td>\n",
              "      <td>2</td>\n",
              "      <td>0_なし</td>\n",
              "      <td>1_術後補助あり</td>\n",
              "      <td>04_A</td>\n",
              "      <td>9_不明</td>\n",
              "    </tr>\n",
              "    <tr>\n",
              "      <th>4</th>\n",
              "      <td>4</td>\n",
              "      <td>02_F</td>\n",
              "      <td>62.0</td>\n",
              "      <td>03_開腹</td>\n",
              "      <td>007_結腸右半切除</td>\n",
              "      <td>03_D3</td>\n",
              "      <td>02_高分化腺癌</td>\n",
              "      <td>04_pSS/A</td>\n",
              "      <td>1_ly0</td>\n",
              "      <td>1_v0</td>\n",
              "      <td>...</td>\n",
              "      <td>01_pCurA</td>\n",
              "      <td>03_Stage2</td>\n",
              "      <td>49</td>\n",
              "      <td>6.376454</td>\n",
              "      <td>2</td>\n",
              "      <td>NaN</td>\n",
              "      <td>0_なし</td>\n",
              "      <td>0_術後補助なし</td>\n",
              "      <td>04_A</td>\n",
              "      <td>3_2/3以下</td>\n",
              "    </tr>\n",
              "  </tbody>\n",
              "</table>\n",
              "<p>5 rows × 21 columns</p>\n",
              "</div>\n",
              "    <div class=\"colab-df-buttons\">\n",
              "\n",
              "  <div class=\"colab-df-container\">\n",
              "    <button class=\"colab-df-convert\" onclick=\"convertToInteractive('df-037904e6-de1f-48d5-8ae9-856c385b0d62')\"\n",
              "            title=\"Convert this dataframe to an interactive table.\"\n",
              "            style=\"display:none;\">\n",
              "\n",
              "  <svg xmlns=\"http://www.w3.org/2000/svg\" height=\"24px\" viewBox=\"0 -960 960 960\">\n",
              "    <path d=\"M120-120v-720h720v720H120Zm60-500h600v-160H180v160Zm220 220h160v-160H400v160Zm0 220h160v-160H400v160ZM180-400h160v-160H180v160Zm440 0h160v-160H620v160ZM180-180h160v-160H180v160Zm440 0h160v-160H620v160Z\"/>\n",
              "  </svg>\n",
              "    </button>\n",
              "\n",
              "  <style>\n",
              "    .colab-df-container {\n",
              "      display:flex;\n",
              "      gap: 12px;\n",
              "    }\n",
              "\n",
              "    .colab-df-convert {\n",
              "      background-color: #E8F0FE;\n",
              "      border: none;\n",
              "      border-radius: 50%;\n",
              "      cursor: pointer;\n",
              "      display: none;\n",
              "      fill: #1967D2;\n",
              "      height: 32px;\n",
              "      padding: 0 0 0 0;\n",
              "      width: 32px;\n",
              "    }\n",
              "\n",
              "    .colab-df-convert:hover {\n",
              "      background-color: #E2EBFA;\n",
              "      box-shadow: 0px 1px 2px rgba(60, 64, 67, 0.3), 0px 1px 3px 1px rgba(60, 64, 67, 0.15);\n",
              "      fill: #174EA6;\n",
              "    }\n",
              "\n",
              "    .colab-df-buttons div {\n",
              "      margin-bottom: 4px;\n",
              "    }\n",
              "\n",
              "    [theme=dark] .colab-df-convert {\n",
              "      background-color: #3B4455;\n",
              "      fill: #D2E3FC;\n",
              "    }\n",
              "\n",
              "    [theme=dark] .colab-df-convert:hover {\n",
              "      background-color: #434B5C;\n",
              "      box-shadow: 0px 1px 3px 1px rgba(0, 0, 0, 0.15);\n",
              "      filter: drop-shadow(0px 1px 2px rgba(0, 0, 0, 0.3));\n",
              "      fill: #FFFFFF;\n",
              "    }\n",
              "  </style>\n",
              "\n",
              "    <script>\n",
              "      const buttonEl =\n",
              "        document.querySelector('#df-037904e6-de1f-48d5-8ae9-856c385b0d62 button.colab-df-convert');\n",
              "      buttonEl.style.display =\n",
              "        google.colab.kernel.accessAllowed ? 'block' : 'none';\n",
              "\n",
              "      async function convertToInteractive(key) {\n",
              "        const element = document.querySelector('#df-037904e6-de1f-48d5-8ae9-856c385b0d62');\n",
              "        const dataTable =\n",
              "          await google.colab.kernel.invokeFunction('convertToInteractive',\n",
              "                                                    [key], {});\n",
              "        if (!dataTable) return;\n",
              "\n",
              "        const docLinkHtml = 'Like what you see? Visit the ' +\n",
              "          '<a target=\"_blank\" href=https://colab.research.google.com/notebooks/data_table.ipynb>data table notebook</a>'\n",
              "          + ' to learn more about interactive tables.';\n",
              "        element.innerHTML = '';\n",
              "        dataTable['output_type'] = 'display_data';\n",
              "        await google.colab.output.renderOutput(dataTable, element);\n",
              "        const docLink = document.createElement('div');\n",
              "        docLink.innerHTML = docLinkHtml;\n",
              "        element.appendChild(docLink);\n",
              "      }\n",
              "    </script>\n",
              "  </div>\n",
              "\n",
              "\n",
              "    <div id=\"df-56bc3f21-25f9-4ff2-841f-b89f8b4fa6e0\">\n",
              "      <button class=\"colab-df-quickchart\" onclick=\"quickchart('df-56bc3f21-25f9-4ff2-841f-b89f8b4fa6e0')\"\n",
              "                title=\"Suggest charts\"\n",
              "                style=\"display:none;\">\n",
              "\n",
              "<svg xmlns=\"http://www.w3.org/2000/svg\" height=\"24px\"viewBox=\"0 0 24 24\"\n",
              "     width=\"24px\">\n",
              "    <g>\n",
              "        <path d=\"M19 3H5c-1.1 0-2 .9-2 2v14c0 1.1.9 2 2 2h14c1.1 0 2-.9 2-2V5c0-1.1-.9-2-2-2zM9 17H7v-7h2v7zm4 0h-2V7h2v10zm4 0h-2v-4h2v4z\"/>\n",
              "    </g>\n",
              "</svg>\n",
              "      </button>\n",
              "\n",
              "<style>\n",
              "  .colab-df-quickchart {\n",
              "      --bg-color: #E8F0FE;\n",
              "      --fill-color: #1967D2;\n",
              "      --hover-bg-color: #E2EBFA;\n",
              "      --hover-fill-color: #174EA6;\n",
              "      --disabled-fill-color: #AAA;\n",
              "      --disabled-bg-color: #DDD;\n",
              "  }\n",
              "\n",
              "  [theme=dark] .colab-df-quickchart {\n",
              "      --bg-color: #3B4455;\n",
              "      --fill-color: #D2E3FC;\n",
              "      --hover-bg-color: #434B5C;\n",
              "      --hover-fill-color: #FFFFFF;\n",
              "      --disabled-bg-color: #3B4455;\n",
              "      --disabled-fill-color: #666;\n",
              "  }\n",
              "\n",
              "  .colab-df-quickchart {\n",
              "    background-color: var(--bg-color);\n",
              "    border: none;\n",
              "    border-radius: 50%;\n",
              "    cursor: pointer;\n",
              "    display: none;\n",
              "    fill: var(--fill-color);\n",
              "    height: 32px;\n",
              "    padding: 0;\n",
              "    width: 32px;\n",
              "  }\n",
              "\n",
              "  .colab-df-quickchart:hover {\n",
              "    background-color: var(--hover-bg-color);\n",
              "    box-shadow: 0 1px 2px rgba(60, 64, 67, 0.3), 0 1px 3px 1px rgba(60, 64, 67, 0.15);\n",
              "    fill: var(--button-hover-fill-color);\n",
              "  }\n",
              "\n",
              "  .colab-df-quickchart-complete:disabled,\n",
              "  .colab-df-quickchart-complete:disabled:hover {\n",
              "    background-color: var(--disabled-bg-color);\n",
              "    fill: var(--disabled-fill-color);\n",
              "    box-shadow: none;\n",
              "  }\n",
              "\n",
              "  .colab-df-spinner {\n",
              "    border: 2px solid var(--fill-color);\n",
              "    border-color: transparent;\n",
              "    border-bottom-color: var(--fill-color);\n",
              "    animation:\n",
              "      spin 1s steps(1) infinite;\n",
              "  }\n",
              "\n",
              "  @keyframes spin {\n",
              "    0% {\n",
              "      border-color: transparent;\n",
              "      border-bottom-color: var(--fill-color);\n",
              "      border-left-color: var(--fill-color);\n",
              "    }\n",
              "    20% {\n",
              "      border-color: transparent;\n",
              "      border-left-color: var(--fill-color);\n",
              "      border-top-color: var(--fill-color);\n",
              "    }\n",
              "    30% {\n",
              "      border-color: transparent;\n",
              "      border-left-color: var(--fill-color);\n",
              "      border-top-color: var(--fill-color);\n",
              "      border-right-color: var(--fill-color);\n",
              "    }\n",
              "    40% {\n",
              "      border-color: transparent;\n",
              "      border-right-color: var(--fill-color);\n",
              "      border-top-color: var(--fill-color);\n",
              "    }\n",
              "    60% {\n",
              "      border-color: transparent;\n",
              "      border-right-color: var(--fill-color);\n",
              "    }\n",
              "    80% {\n",
              "      border-color: transparent;\n",
              "      border-right-color: var(--fill-color);\n",
              "      border-bottom-color: var(--fill-color);\n",
              "    }\n",
              "    90% {\n",
              "      border-color: transparent;\n",
              "      border-bottom-color: var(--fill-color);\n",
              "    }\n",
              "  }\n",
              "</style>\n",
              "\n",
              "      <script>\n",
              "        async function quickchart(key) {\n",
              "          const quickchartButtonEl =\n",
              "            document.querySelector('#' + key + ' button');\n",
              "          quickchartButtonEl.disabled = true;  // To prevent multiple clicks.\n",
              "          quickchartButtonEl.classList.add('colab-df-spinner');\n",
              "          try {\n",
              "            const charts = await google.colab.kernel.invokeFunction(\n",
              "                'suggestCharts', [key], {});\n",
              "          } catch (error) {\n",
              "            console.error('Error during call to suggestCharts:', error);\n",
              "          }\n",
              "          quickchartButtonEl.classList.remove('colab-df-spinner');\n",
              "          quickchartButtonEl.classList.add('colab-df-quickchart-complete');\n",
              "        }\n",
              "        (() => {\n",
              "          let quickchartButtonEl =\n",
              "            document.querySelector('#df-56bc3f21-25f9-4ff2-841f-b89f8b4fa6e0 button');\n",
              "          quickchartButtonEl.style.display =\n",
              "            google.colab.kernel.accessAllowed ? 'block' : 'none';\n",
              "        })();\n",
              "      </script>\n",
              "    </div>\n",
              "\n",
              "    </div>\n",
              "  </div>\n"
            ],
            "application/vnd.google.colaboratory.intrinsic+json": {
              "type": "dataframe",
              "variable_name": "df"
            }
          },
          "metadata": {},
          "execution_count": 7
        }
      ]
    },
    {
      "cell_type": "code",
      "source": [
        "Pathology_dict = {'03_中分化腺癌': 'tub2', '02_高分化腺癌': 'tub1', '04_低分化腺癌': 'por', '05_粘液癌': 'muc', '00_腺癌（分化度不明）': 'undiff',\n",
        "                  '04_低分化腺癌（por2）': 'por' , '01_乳頭腺癌': 'pap', '04_低分化腺癌（髄様）':'por'}\n",
        "CEA_dict = {'01_Cutoff以下': '01_Below Cutoff', '02_Cutoff 4倍未満': '02_Less than 4 times Cutoff', '03_Cutoff 4倍以上': '03_4 times Cutoff or more'}\n",
        "Neoadjuvant_dict = {'0_なし': 'negative', '1_あり': 'positive'}\n",
        "Adjuvant_dict = {'0_術後補助なし': 'negative', '1_術後補助あり': 'positive'}\n",
        "Obstruction_dict = {'9_不明': 'unknown', '3_2/3以下': 'below 2/3 circumferential', '2_1/2以下': 'below 1/2 circumferential', '5_全周': 'total circumferential', '4_亜全周': 'subtotal circumferential', '1_1/3以下': 'below 1/3 circumferential'}\n",
        "operation_dict = {'009_S状結腸切除': 'sigmoidectomy', '007_結腸右半切除':'RHC', '005_回盲部切除': 'ileocecal resection', '014_低位前方切除': 'LAR',\n",
        "                  '008_結腸左半切除': 'LHC', '006_結腸部分切除': 'Partial colectomy', '013_高位前方切除': 'HAR', '017_骨盤内蔵全摘術': 'PE',\n",
        "                  '015_Hartmann':'015_Hartmann', '011_結腸全摘': 'total colectomy', '012_大腸全摘': 'total proctocolectomy', '016_直腸切断': 'APR',\n",
        "                  '018_超低位前方切除':'super LAR','019_内括約筋切除':'ISR'}\n",
        "Approach_dict = {'02_腹腔鏡+小開腹': 'laparoscopy + small incision', '03_開腹': 'open', '99_不明': 'unknown', '02_腹腔鏡単独': 'laparoscopy' , '02_腹腔鏡': 'laparoscopy' , '01_経肛門': 'peranal approach'}\n",
        "\n",
        "df['Pathology'] = df['Pathology'].replace(Pathology_dict)\n",
        "df['CEA'] = df['CEA'].replace(CEA_dict)\n",
        "df['Neoadjuvant'] = df['Neoadjuvant'].replace(Neoadjuvant_dict)\n",
        "df['Adjuvant'] = df['Adjuvant'].replace(Adjuvant_dict)\n",
        "df['Obstruction'] = df['Obstruction'].replace(Obstruction_dict)\n",
        "df['切除術式'] = df['切除術式'].replace(operation_dict)\n",
        "df['Approach'] = df['Approach'].replace(Approach_dict)\n"
      ],
      "metadata": {
        "id": "n2H5JlrnrMOH"
      },
      "execution_count": null,
      "outputs": []
    },
    {
      "cell_type": "code",
      "source": [
        "df = df.rename(columns={'中枢側郭清度': 'Dissection Level', '年齢': 'age', '切除術式': 'operation', '生死_詳細-既存項目':'Event_in_details',})\n",
        "\n"
      ],
      "metadata": {
        "id": "LEbIpXMerMSy"
      },
      "execution_count": null,
      "outputs": []
    },
    {
      "cell_type": "code",
      "source": [
        "df. head()"
      ],
      "metadata": {
        "id": "lILkEnGfrMZ0",
        "colab": {
          "base_uri": "https://localhost:8080/",
          "height": 342
        },
        "outputId": "27118de2-1bb9-4523-e35f-ddbf3b48389f"
      },
      "execution_count": null,
      "outputs": [
        {
          "output_type": "execute_result",
          "data": {
            "text/plain": [
              "   Unnamed: 0 gender   age                      Approach          operation  \\\n",
              "0           0   02_F  77.0                          open  Partial colectomy   \n",
              "1           1   01_M  69.0                          open      sigmoidectomy   \n",
              "2           2   02_F  45.0  laparoscopy + small incision      sigmoidectomy   \n",
              "3           3   02_F  65.0                          open                RHC   \n",
              "4           4   02_F  62.0                          open                RHC   \n",
              "\n",
              "  Dissection Level Pathology     pDepth     ly     v  ... Curability  \\\n",
              "0            02_D2      tub2     02_pSM  1_ly0  1_v0  ...   01_pCurA   \n",
              "1            01_D1      tub2     02_pSM  1_ly0  1_v0  ...   01_pCurA   \n",
              "2            01_D1      tub1   04_pSS/A  1_ly0  1_v0  ...   01_pCurA   \n",
              "3            03_D3       por  05_pSE/A2  1_ly0  1_v0  ...   02_pCurB   \n",
              "4            03_D3      tub1   04_pSS/A  1_ly0  1_v0  ...   01_pCurA   \n",
              "\n",
              "      fStage LN number       DFS  Event  Event_in_details Neoadjuvant  \\\n",
              "0  02_Stage1        18  7.515400      1               NaN    negative   \n",
              "1  02_Stage1        15  5.303217      1               NaN    negative   \n",
              "2  03_Stage2         9  7.304586      1               NaN    negative   \n",
              "3  06_Stage4        23  0.722793      2                 2    negative   \n",
              "4  03_Stage2        49  6.376454      2               NaN    negative   \n",
              "\n",
              "   Adjuvant Location                Obstruction  \n",
              "0  negative     05_T                    unknown  \n",
              "1  negative     07_S                    unknown  \n",
              "2  negative     07_S                    unknown  \n",
              "3  positive     04_A                    unknown  \n",
              "4  negative     04_A  below 2/3 circumferential  \n",
              "\n",
              "[5 rows x 21 columns]"
            ],
            "text/html": [
              "\n",
              "  <div id=\"df-acd108af-8bb3-453f-877d-c9d4355e380a\" class=\"colab-df-container\">\n",
              "    <div>\n",
              "<style scoped>\n",
              "    .dataframe tbody tr th:only-of-type {\n",
              "        vertical-align: middle;\n",
              "    }\n",
              "\n",
              "    .dataframe tbody tr th {\n",
              "        vertical-align: top;\n",
              "    }\n",
              "\n",
              "    .dataframe thead th {\n",
              "        text-align: right;\n",
              "    }\n",
              "</style>\n",
              "<table border=\"1\" class=\"dataframe\">\n",
              "  <thead>\n",
              "    <tr style=\"text-align: right;\">\n",
              "      <th></th>\n",
              "      <th>Unnamed: 0</th>\n",
              "      <th>gender</th>\n",
              "      <th>age</th>\n",
              "      <th>Approach</th>\n",
              "      <th>operation</th>\n",
              "      <th>Dissection Level</th>\n",
              "      <th>Pathology</th>\n",
              "      <th>pDepth</th>\n",
              "      <th>ly</th>\n",
              "      <th>v</th>\n",
              "      <th>...</th>\n",
              "      <th>Curability</th>\n",
              "      <th>fStage</th>\n",
              "      <th>LN number</th>\n",
              "      <th>DFS</th>\n",
              "      <th>Event</th>\n",
              "      <th>Event_in_details</th>\n",
              "      <th>Neoadjuvant</th>\n",
              "      <th>Adjuvant</th>\n",
              "      <th>Location</th>\n",
              "      <th>Obstruction</th>\n",
              "    </tr>\n",
              "  </thead>\n",
              "  <tbody>\n",
              "    <tr>\n",
              "      <th>0</th>\n",
              "      <td>0</td>\n",
              "      <td>02_F</td>\n",
              "      <td>77.0</td>\n",
              "      <td>open</td>\n",
              "      <td>Partial colectomy</td>\n",
              "      <td>02_D2</td>\n",
              "      <td>tub2</td>\n",
              "      <td>02_pSM</td>\n",
              "      <td>1_ly0</td>\n",
              "      <td>1_v0</td>\n",
              "      <td>...</td>\n",
              "      <td>01_pCurA</td>\n",
              "      <td>02_Stage1</td>\n",
              "      <td>18</td>\n",
              "      <td>7.515400</td>\n",
              "      <td>1</td>\n",
              "      <td>NaN</td>\n",
              "      <td>negative</td>\n",
              "      <td>negative</td>\n",
              "      <td>05_T</td>\n",
              "      <td>unknown</td>\n",
              "    </tr>\n",
              "    <tr>\n",
              "      <th>1</th>\n",
              "      <td>1</td>\n",
              "      <td>01_M</td>\n",
              "      <td>69.0</td>\n",
              "      <td>open</td>\n",
              "      <td>sigmoidectomy</td>\n",
              "      <td>01_D1</td>\n",
              "      <td>tub2</td>\n",
              "      <td>02_pSM</td>\n",
              "      <td>1_ly0</td>\n",
              "      <td>1_v0</td>\n",
              "      <td>...</td>\n",
              "      <td>01_pCurA</td>\n",
              "      <td>02_Stage1</td>\n",
              "      <td>15</td>\n",
              "      <td>5.303217</td>\n",
              "      <td>1</td>\n",
              "      <td>NaN</td>\n",
              "      <td>negative</td>\n",
              "      <td>negative</td>\n",
              "      <td>07_S</td>\n",
              "      <td>unknown</td>\n",
              "    </tr>\n",
              "    <tr>\n",
              "      <th>2</th>\n",
              "      <td>2</td>\n",
              "      <td>02_F</td>\n",
              "      <td>45.0</td>\n",
              "      <td>laparoscopy + small incision</td>\n",
              "      <td>sigmoidectomy</td>\n",
              "      <td>01_D1</td>\n",
              "      <td>tub1</td>\n",
              "      <td>04_pSS/A</td>\n",
              "      <td>1_ly0</td>\n",
              "      <td>1_v0</td>\n",
              "      <td>...</td>\n",
              "      <td>01_pCurA</td>\n",
              "      <td>03_Stage2</td>\n",
              "      <td>9</td>\n",
              "      <td>7.304586</td>\n",
              "      <td>1</td>\n",
              "      <td>NaN</td>\n",
              "      <td>negative</td>\n",
              "      <td>negative</td>\n",
              "      <td>07_S</td>\n",
              "      <td>unknown</td>\n",
              "    </tr>\n",
              "    <tr>\n",
              "      <th>3</th>\n",
              "      <td>3</td>\n",
              "      <td>02_F</td>\n",
              "      <td>65.0</td>\n",
              "      <td>open</td>\n",
              "      <td>RHC</td>\n",
              "      <td>03_D3</td>\n",
              "      <td>por</td>\n",
              "      <td>05_pSE/A2</td>\n",
              "      <td>1_ly0</td>\n",
              "      <td>1_v0</td>\n",
              "      <td>...</td>\n",
              "      <td>02_pCurB</td>\n",
              "      <td>06_Stage4</td>\n",
              "      <td>23</td>\n",
              "      <td>0.722793</td>\n",
              "      <td>2</td>\n",
              "      <td>2</td>\n",
              "      <td>negative</td>\n",
              "      <td>positive</td>\n",
              "      <td>04_A</td>\n",
              "      <td>unknown</td>\n",
              "    </tr>\n",
              "    <tr>\n",
              "      <th>4</th>\n",
              "      <td>4</td>\n",
              "      <td>02_F</td>\n",
              "      <td>62.0</td>\n",
              "      <td>open</td>\n",
              "      <td>RHC</td>\n",
              "      <td>03_D3</td>\n",
              "      <td>tub1</td>\n",
              "      <td>04_pSS/A</td>\n",
              "      <td>1_ly0</td>\n",
              "      <td>1_v0</td>\n",
              "      <td>...</td>\n",
              "      <td>01_pCurA</td>\n",
              "      <td>03_Stage2</td>\n",
              "      <td>49</td>\n",
              "      <td>6.376454</td>\n",
              "      <td>2</td>\n",
              "      <td>NaN</td>\n",
              "      <td>negative</td>\n",
              "      <td>negative</td>\n",
              "      <td>04_A</td>\n",
              "      <td>below 2/3 circumferential</td>\n",
              "    </tr>\n",
              "  </tbody>\n",
              "</table>\n",
              "<p>5 rows × 21 columns</p>\n",
              "</div>\n",
              "    <div class=\"colab-df-buttons\">\n",
              "\n",
              "  <div class=\"colab-df-container\">\n",
              "    <button class=\"colab-df-convert\" onclick=\"convertToInteractive('df-acd108af-8bb3-453f-877d-c9d4355e380a')\"\n",
              "            title=\"Convert this dataframe to an interactive table.\"\n",
              "            style=\"display:none;\">\n",
              "\n",
              "  <svg xmlns=\"http://www.w3.org/2000/svg\" height=\"24px\" viewBox=\"0 -960 960 960\">\n",
              "    <path d=\"M120-120v-720h720v720H120Zm60-500h600v-160H180v160Zm220 220h160v-160H400v160Zm0 220h160v-160H400v160ZM180-400h160v-160H180v160Zm440 0h160v-160H620v160ZM180-180h160v-160H180v160Zm440 0h160v-160H620v160Z\"/>\n",
              "  </svg>\n",
              "    </button>\n",
              "\n",
              "  <style>\n",
              "    .colab-df-container {\n",
              "      display:flex;\n",
              "      gap: 12px;\n",
              "    }\n",
              "\n",
              "    .colab-df-convert {\n",
              "      background-color: #E8F0FE;\n",
              "      border: none;\n",
              "      border-radius: 50%;\n",
              "      cursor: pointer;\n",
              "      display: none;\n",
              "      fill: #1967D2;\n",
              "      height: 32px;\n",
              "      padding: 0 0 0 0;\n",
              "      width: 32px;\n",
              "    }\n",
              "\n",
              "    .colab-df-convert:hover {\n",
              "      background-color: #E2EBFA;\n",
              "      box-shadow: 0px 1px 2px rgba(60, 64, 67, 0.3), 0px 1px 3px 1px rgba(60, 64, 67, 0.15);\n",
              "      fill: #174EA6;\n",
              "    }\n",
              "\n",
              "    .colab-df-buttons div {\n",
              "      margin-bottom: 4px;\n",
              "    }\n",
              "\n",
              "    [theme=dark] .colab-df-convert {\n",
              "      background-color: #3B4455;\n",
              "      fill: #D2E3FC;\n",
              "    }\n",
              "\n",
              "    [theme=dark] .colab-df-convert:hover {\n",
              "      background-color: #434B5C;\n",
              "      box-shadow: 0px 1px 3px 1px rgba(0, 0, 0, 0.15);\n",
              "      filter: drop-shadow(0px 1px 2px rgba(0, 0, 0, 0.3));\n",
              "      fill: #FFFFFF;\n",
              "    }\n",
              "  </style>\n",
              "\n",
              "    <script>\n",
              "      const buttonEl =\n",
              "        document.querySelector('#df-acd108af-8bb3-453f-877d-c9d4355e380a button.colab-df-convert');\n",
              "      buttonEl.style.display =\n",
              "        google.colab.kernel.accessAllowed ? 'block' : 'none';\n",
              "\n",
              "      async function convertToInteractive(key) {\n",
              "        const element = document.querySelector('#df-acd108af-8bb3-453f-877d-c9d4355e380a');\n",
              "        const dataTable =\n",
              "          await google.colab.kernel.invokeFunction('convertToInteractive',\n",
              "                                                    [key], {});\n",
              "        if (!dataTable) return;\n",
              "\n",
              "        const docLinkHtml = 'Like what you see? Visit the ' +\n",
              "          '<a target=\"_blank\" href=https://colab.research.google.com/notebooks/data_table.ipynb>data table notebook</a>'\n",
              "          + ' to learn more about interactive tables.';\n",
              "        element.innerHTML = '';\n",
              "        dataTable['output_type'] = 'display_data';\n",
              "        await google.colab.output.renderOutput(dataTable, element);\n",
              "        const docLink = document.createElement('div');\n",
              "        docLink.innerHTML = docLinkHtml;\n",
              "        element.appendChild(docLink);\n",
              "      }\n",
              "    </script>\n",
              "  </div>\n",
              "\n",
              "\n",
              "    <div id=\"df-11f8d8a7-7744-48a9-9944-d3b166c1e559\">\n",
              "      <button class=\"colab-df-quickchart\" onclick=\"quickchart('df-11f8d8a7-7744-48a9-9944-d3b166c1e559')\"\n",
              "                title=\"Suggest charts\"\n",
              "                style=\"display:none;\">\n",
              "\n",
              "<svg xmlns=\"http://www.w3.org/2000/svg\" height=\"24px\"viewBox=\"0 0 24 24\"\n",
              "     width=\"24px\">\n",
              "    <g>\n",
              "        <path d=\"M19 3H5c-1.1 0-2 .9-2 2v14c0 1.1.9 2 2 2h14c1.1 0 2-.9 2-2V5c0-1.1-.9-2-2-2zM9 17H7v-7h2v7zm4 0h-2V7h2v10zm4 0h-2v-4h2v4z\"/>\n",
              "    </g>\n",
              "</svg>\n",
              "      </button>\n",
              "\n",
              "<style>\n",
              "  .colab-df-quickchart {\n",
              "      --bg-color: #E8F0FE;\n",
              "      --fill-color: #1967D2;\n",
              "      --hover-bg-color: #E2EBFA;\n",
              "      --hover-fill-color: #174EA6;\n",
              "      --disabled-fill-color: #AAA;\n",
              "      --disabled-bg-color: #DDD;\n",
              "  }\n",
              "\n",
              "  [theme=dark] .colab-df-quickchart {\n",
              "      --bg-color: #3B4455;\n",
              "      --fill-color: #D2E3FC;\n",
              "      --hover-bg-color: #434B5C;\n",
              "      --hover-fill-color: #FFFFFF;\n",
              "      --disabled-bg-color: #3B4455;\n",
              "      --disabled-fill-color: #666;\n",
              "  }\n",
              "\n",
              "  .colab-df-quickchart {\n",
              "    background-color: var(--bg-color);\n",
              "    border: none;\n",
              "    border-radius: 50%;\n",
              "    cursor: pointer;\n",
              "    display: none;\n",
              "    fill: var(--fill-color);\n",
              "    height: 32px;\n",
              "    padding: 0;\n",
              "    width: 32px;\n",
              "  }\n",
              "\n",
              "  .colab-df-quickchart:hover {\n",
              "    background-color: var(--hover-bg-color);\n",
              "    box-shadow: 0 1px 2px rgba(60, 64, 67, 0.3), 0 1px 3px 1px rgba(60, 64, 67, 0.15);\n",
              "    fill: var(--button-hover-fill-color);\n",
              "  }\n",
              "\n",
              "  .colab-df-quickchart-complete:disabled,\n",
              "  .colab-df-quickchart-complete:disabled:hover {\n",
              "    background-color: var(--disabled-bg-color);\n",
              "    fill: var(--disabled-fill-color);\n",
              "    box-shadow: none;\n",
              "  }\n",
              "\n",
              "  .colab-df-spinner {\n",
              "    border: 2px solid var(--fill-color);\n",
              "    border-color: transparent;\n",
              "    border-bottom-color: var(--fill-color);\n",
              "    animation:\n",
              "      spin 1s steps(1) infinite;\n",
              "  }\n",
              "\n",
              "  @keyframes spin {\n",
              "    0% {\n",
              "      border-color: transparent;\n",
              "      border-bottom-color: var(--fill-color);\n",
              "      border-left-color: var(--fill-color);\n",
              "    }\n",
              "    20% {\n",
              "      border-color: transparent;\n",
              "      border-left-color: var(--fill-color);\n",
              "      border-top-color: var(--fill-color);\n",
              "    }\n",
              "    30% {\n",
              "      border-color: transparent;\n",
              "      border-left-color: var(--fill-color);\n",
              "      border-top-color: var(--fill-color);\n",
              "      border-right-color: var(--fill-color);\n",
              "    }\n",
              "    40% {\n",
              "      border-color: transparent;\n",
              "      border-right-color: var(--fill-color);\n",
              "      border-top-color: var(--fill-color);\n",
              "    }\n",
              "    60% {\n",
              "      border-color: transparent;\n",
              "      border-right-color: var(--fill-color);\n",
              "    }\n",
              "    80% {\n",
              "      border-color: transparent;\n",
              "      border-right-color: var(--fill-color);\n",
              "      border-bottom-color: var(--fill-color);\n",
              "    }\n",
              "    90% {\n",
              "      border-color: transparent;\n",
              "      border-bottom-color: var(--fill-color);\n",
              "    }\n",
              "  }\n",
              "</style>\n",
              "\n",
              "      <script>\n",
              "        async function quickchart(key) {\n",
              "          const quickchartButtonEl =\n",
              "            document.querySelector('#' + key + ' button');\n",
              "          quickchartButtonEl.disabled = true;  // To prevent multiple clicks.\n",
              "          quickchartButtonEl.classList.add('colab-df-spinner');\n",
              "          try {\n",
              "            const charts = await google.colab.kernel.invokeFunction(\n",
              "                'suggestCharts', [key], {});\n",
              "          } catch (error) {\n",
              "            console.error('Error during call to suggestCharts:', error);\n",
              "          }\n",
              "          quickchartButtonEl.classList.remove('colab-df-spinner');\n",
              "          quickchartButtonEl.classList.add('colab-df-quickchart-complete');\n",
              "        }\n",
              "        (() => {\n",
              "          let quickchartButtonEl =\n",
              "            document.querySelector('#df-11f8d8a7-7744-48a9-9944-d3b166c1e559 button');\n",
              "          quickchartButtonEl.style.display =\n",
              "            google.colab.kernel.accessAllowed ? 'block' : 'none';\n",
              "        })();\n",
              "      </script>\n",
              "    </div>\n",
              "\n",
              "    </div>\n",
              "  </div>\n"
            ],
            "application/vnd.google.colaboratory.intrinsic+json": {
              "type": "dataframe"
            }
          },
          "metadata": {},
          "execution_count": 10
        }
      ]
    },
    {
      "cell_type": "markdown",
      "source": [],
      "metadata": {
        "id": "IemoDbPU8INX"
      }
    },
    {
      "cell_type": "code",
      "source": [],
      "metadata": {
        "id": "ztG1TpkjrMc5"
      },
      "execution_count": null,
      "outputs": []
    },
    {
      "cell_type": "code",
      "source": [
        "df[\"Pathology\"].unique()"
      ],
      "metadata": {
        "id": "tFCF5x2JjToY",
        "colab": {
          "base_uri": "https://localhost:8080/"
        },
        "outputId": "ff857704-43cb-404f-9ffa-e3454e186aa8"
      },
      "execution_count": null,
      "outputs": [
        {
          "output_type": "execute_result",
          "data": {
            "text/plain": [
              "array(['tub2', 'tub1', 'por', 'muc', 'undiff', 'pap'], dtype=object)"
            ]
          },
          "metadata": {},
          "execution_count": 11
        }
      ]
    },
    {
      "cell_type": "code",
      "source": [
        "replace_values = {'tub2':2, 'tub1':1, 'por':3, 'muc':3, 'undiff':3, 'pap':1}\n",
        "\n",
        "df['Pathology'] = df['Pathology'].replace(replace_values)\n"
      ],
      "metadata": {
        "id": "m726_tQfjTrR",
        "colab": {
          "base_uri": "https://localhost:8080/"
        },
        "outputId": "c571c4e3-9068-4240-b325-0996e4b1f549"
      },
      "execution_count": null,
      "outputs": [
        {
          "output_type": "stream",
          "name": "stderr",
          "text": [
            "<ipython-input-12-0636449ad630>:3: FutureWarning: Downcasting behavior in `replace` is deprecated and will be removed in a future version. To retain the old behavior, explicitly call `result.infer_objects(copy=False)`. To opt-in to the future behavior, set `pd.set_option('future.no_silent_downcasting', True)`\n",
            "  df['Pathology'] = df['Pathology'].replace(replace_values)\n"
          ]
        }
      ]
    },
    {
      "cell_type": "code",
      "source": [
        "df[\"Pathology\"].unique()"
      ],
      "metadata": {
        "id": "eLGf6TcAjTw_",
        "colab": {
          "base_uri": "https://localhost:8080/"
        },
        "outputId": "aeee16c7-5834-497a-b387-c395b372a1dd"
      },
      "execution_count": null,
      "outputs": [
        {
          "output_type": "execute_result",
          "data": {
            "text/plain": [
              "array([2, 1, 3])"
            ]
          },
          "metadata": {},
          "execution_count": 13
        }
      ]
    },
    {
      "cell_type": "code",
      "source": [
        "df[\"pDepth\"].unique()"
      ],
      "metadata": {
        "id": "fbdGurlLjTz0",
        "colab": {
          "base_uri": "https://localhost:8080/"
        },
        "outputId": "b83af802-8c64-4cab-f3dc-ae031242cc9a"
      },
      "execution_count": null,
      "outputs": [
        {
          "output_type": "execute_result",
          "data": {
            "text/plain": [
              "array(['02_pSM', '04_pSS/A', '05_pSE/A2', '03_pMP', '06_pSi/Ai', '01_pM'],\n",
              "      dtype=object)"
            ]
          },
          "metadata": {},
          "execution_count": 14
        }
      ]
    },
    {
      "cell_type": "code",
      "source": [
        "replace_values1 = {'02_pSM':2, '04_pSS/A':4, '05_pSE/A2':5, '03_pMP':3, '06_pSi/Ai':6, '01_pM':1}\n",
        "\n",
        "\n",
        "df['pDepth'] = df['pDepth'].replace(replace_values1)"
      ],
      "metadata": {
        "id": "eVxMnS0SjT2s",
        "colab": {
          "base_uri": "https://localhost:8080/"
        },
        "outputId": "459a97b1-a7d6-471e-cfbb-b36723d310d4"
      },
      "execution_count": null,
      "outputs": [
        {
          "output_type": "stream",
          "name": "stderr",
          "text": [
            "<ipython-input-15-61445fa9d1a8>:4: FutureWarning: Downcasting behavior in `replace` is deprecated and will be removed in a future version. To retain the old behavior, explicitly call `result.infer_objects(copy=False)`. To opt-in to the future behavior, set `pd.set_option('future.no_silent_downcasting', True)`\n",
            "  df['pDepth'] = df['pDepth'].replace(replace_values1)\n"
          ]
        }
      ]
    },
    {
      "cell_type": "code",
      "source": [
        "df[\"pDepth\"].unique()"
      ],
      "metadata": {
        "id": "3zjmN2t6jT52",
        "colab": {
          "base_uri": "https://localhost:8080/"
        },
        "outputId": "07c3c76f-576f-41d1-e314-2cd9a5f0bd45"
      },
      "execution_count": null,
      "outputs": [
        {
          "output_type": "execute_result",
          "data": {
            "text/plain": [
              "array([2, 4, 5, 3, 6, 1])"
            ]
          },
          "metadata": {},
          "execution_count": 16
        }
      ]
    },
    {
      "cell_type": "code",
      "source": [
        "df[\"ly\"].unique()"
      ],
      "metadata": {
        "id": "eQHFj4aSwjPE",
        "colab": {
          "base_uri": "https://localhost:8080/"
        },
        "outputId": "881ed1a2-d38b-4ab3-bc8a-457718cfae2d"
      },
      "execution_count": null,
      "outputs": [
        {
          "output_type": "execute_result",
          "data": {
            "text/plain": [
              "array(['1_ly0', '3_ly2', '2_ly1', '4_ly3'], dtype=object)"
            ]
          },
          "metadata": {},
          "execution_count": 17
        }
      ]
    },
    {
      "cell_type": "code",
      "source": [
        "\n",
        "replace_values1 = {'1_ly0':1, '3_ly2':2, '2_ly1':2, '4_ly3':2}\n",
        "\n",
        "df['ly'] = df['ly'].replace(replace_values1)"
      ],
      "metadata": {
        "id": "HICAxfouwjTG",
        "colab": {
          "base_uri": "https://localhost:8080/"
        },
        "outputId": "9fc4eda3-09e0-4120-9e1f-c3a7078d993c"
      },
      "execution_count": null,
      "outputs": [
        {
          "output_type": "stream",
          "name": "stderr",
          "text": [
            "<ipython-input-18-40234024c86b>:3: FutureWarning: Downcasting behavior in `replace` is deprecated and will be removed in a future version. To retain the old behavior, explicitly call `result.infer_objects(copy=False)`. To opt-in to the future behavior, set `pd.set_option('future.no_silent_downcasting', True)`\n",
            "  df['ly'] = df['ly'].replace(replace_values1)\n"
          ]
        }
      ]
    },
    {
      "cell_type": "code",
      "source": [
        "df[\"ly\"].unique()"
      ],
      "metadata": {
        "id": "8qWRy5SjwjV8",
        "colab": {
          "base_uri": "https://localhost:8080/"
        },
        "outputId": "9fbbcf01-6033-45b4-81c0-711b947d1afe"
      },
      "execution_count": null,
      "outputs": [
        {
          "output_type": "execute_result",
          "data": {
            "text/plain": [
              "array([1, 2])"
            ]
          },
          "metadata": {},
          "execution_count": 19
        }
      ]
    },
    {
      "cell_type": "code",
      "source": [
        "df[\"v\"].unique()"
      ],
      "metadata": {
        "id": "S0gcNr69wjYv",
        "colab": {
          "base_uri": "https://localhost:8080/"
        },
        "outputId": "8f8d5101-785e-462a-f463-c990b69a7e6c"
      },
      "execution_count": null,
      "outputs": [
        {
          "output_type": "execute_result",
          "data": {
            "text/plain": [
              "array(['1_v0', '3_v2', '2_v1', '4_v3'], dtype=object)"
            ]
          },
          "metadata": {},
          "execution_count": 20
        }
      ]
    },
    {
      "cell_type": "code",
      "source": [
        "replace_values1 = {'1_v0':1, '3_v2':2, '2_v1':2, '4_v3':2}\n",
        "\n",
        "df['v'] = df['v'].replace(replace_values1)"
      ],
      "metadata": {
        "id": "37PDCnUqwjbc",
        "colab": {
          "base_uri": "https://localhost:8080/"
        },
        "outputId": "ced1b462-a360-4628-8374-dec10cb4962e"
      },
      "execution_count": null,
      "outputs": [
        {
          "output_type": "stream",
          "name": "stderr",
          "text": [
            "<ipython-input-21-693d14bf30e0>:3: FutureWarning: Downcasting behavior in `replace` is deprecated and will be removed in a future version. To retain the old behavior, explicitly call `result.infer_objects(copy=False)`. To opt-in to the future behavior, set `pd.set_option('future.no_silent_downcasting', True)`\n",
            "  df['v'] = df['v'].replace(replace_values1)\n"
          ]
        }
      ]
    },
    {
      "cell_type": "code",
      "source": [
        "df[\"v\"].unique()"
      ],
      "metadata": {
        "id": "FIkO_bKSwjeM",
        "colab": {
          "base_uri": "https://localhost:8080/"
        },
        "outputId": "5980a7df-5b8c-4318-c14c-26bcb26fa316"
      },
      "execution_count": null,
      "outputs": [
        {
          "output_type": "execute_result",
          "data": {
            "text/plain": [
              "array([1, 2])"
            ]
          },
          "metadata": {},
          "execution_count": 22
        }
      ]
    },
    {
      "cell_type": "code",
      "source": [
        "df[\"CEA\"].unique()"
      ],
      "metadata": {
        "id": "gLUb-stYwjg-",
        "colab": {
          "base_uri": "https://localhost:8080/"
        },
        "outputId": "b914c211-9ff3-4fa0-c1a8-215bdf9e3a1a"
      },
      "execution_count": null,
      "outputs": [
        {
          "output_type": "execute_result",
          "data": {
            "text/plain": [
              "array(['01_Below Cutoff', '02_Less than 4 times Cutoff',\n",
              "       '03_4 times Cutoff or more', nan], dtype=object)"
            ]
          },
          "metadata": {},
          "execution_count": 23
        }
      ]
    },
    {
      "cell_type": "code",
      "source": [
        "replace_values1 = {'01_Below Cutoff':1, '02_Less than 4 times Cutoff':2,'03_4 times Cutoff or more':2}\n",
        "\n",
        "df['CEA'] = df['CEA'].replace(replace_values1)"
      ],
      "metadata": {
        "id": "h1n9FpbRwjja",
        "colab": {
          "base_uri": "https://localhost:8080/"
        },
        "outputId": "c4e4ede2-6521-4009-895c-d1fb71c509a4"
      },
      "execution_count": null,
      "outputs": [
        {
          "output_type": "stream",
          "name": "stderr",
          "text": [
            "<ipython-input-24-7e1584b4f342>:3: FutureWarning: Downcasting behavior in `replace` is deprecated and will be removed in a future version. To retain the old behavior, explicitly call `result.infer_objects(copy=False)`. To opt-in to the future behavior, set `pd.set_option('future.no_silent_downcasting', True)`\n",
            "  df['CEA'] = df['CEA'].replace(replace_values1)\n"
          ]
        }
      ]
    },
    {
      "cell_type": "code",
      "source": [
        "df[\"CEA\"].unique()"
      ],
      "metadata": {
        "id": "QeOZyLX_wjmP",
        "colab": {
          "base_uri": "https://localhost:8080/"
        },
        "outputId": "cc22e8d3-8da8-46ff-fecf-35227b9aa3f2"
      },
      "execution_count": null,
      "outputs": [
        {
          "output_type": "execute_result",
          "data": {
            "text/plain": [
              "array([ 1.,  2., nan])"
            ]
          },
          "metadata": {},
          "execution_count": 25
        }
      ]
    },
    {
      "cell_type": "code",
      "source": [
        "df[\"Curability\"].unique()"
      ],
      "metadata": {
        "id": "6TUDR2_FwjpL",
        "colab": {
          "base_uri": "https://localhost:8080/"
        },
        "outputId": "b4adb2d3-9492-4fc8-d754-0d114a1c3ba5"
      },
      "execution_count": null,
      "outputs": [
        {
          "output_type": "execute_result",
          "data": {
            "text/plain": [
              "array(['01_pCurA', '02_pCurB', '03_pCurC'], dtype=object)"
            ]
          },
          "metadata": {},
          "execution_count": 26
        }
      ]
    },
    {
      "cell_type": "code",
      "source": [
        "replace_values1 = {'01_pCurA':1, '02_pCurB':2, '03_pCurC':3}\n",
        "\n",
        "df['Curability'] = df['Curability'].replace(replace_values1)"
      ],
      "metadata": {
        "id": "eB-SdgTkwjr0",
        "colab": {
          "base_uri": "https://localhost:8080/"
        },
        "outputId": "7d674bff-9f3d-408c-ddcc-13bd2fdafbd8"
      },
      "execution_count": null,
      "outputs": [
        {
          "output_type": "stream",
          "name": "stderr",
          "text": [
            "<ipython-input-27-965e13f69083>:3: FutureWarning: Downcasting behavior in `replace` is deprecated and will be removed in a future version. To retain the old behavior, explicitly call `result.infer_objects(copy=False)`. To opt-in to the future behavior, set `pd.set_option('future.no_silent_downcasting', True)`\n",
            "  df['Curability'] = df['Curability'].replace(replace_values1)\n"
          ]
        }
      ]
    },
    {
      "cell_type": "code",
      "source": [
        "df[\"Curability\"].unique()"
      ],
      "metadata": {
        "id": "6A5-JH4nwjul",
        "colab": {
          "base_uri": "https://localhost:8080/"
        },
        "outputId": "c65ea679-2685-4c19-8211-aa875c38a282"
      },
      "execution_count": null,
      "outputs": [
        {
          "output_type": "execute_result",
          "data": {
            "text/plain": [
              "array([1, 2, 3])"
            ]
          },
          "metadata": {},
          "execution_count": 28
        }
      ]
    },
    {
      "cell_type": "code",
      "source": [
        "df[\"fStage\"].unique()"
      ],
      "metadata": {
        "id": "RBcwa2-Wwjxg",
        "colab": {
          "base_uri": "https://localhost:8080/"
        },
        "outputId": "61e6c015-d833-45f8-f907-2de83079192d"
      },
      "execution_count": null,
      "outputs": [
        {
          "output_type": "execute_result",
          "data": {
            "text/plain": [
              "array(['02_Stage1', '03_Stage2', '06_Stage4', '05_Stage3b', '04_Stage3a',\n",
              "       '01_Stage0'], dtype=object)"
            ]
          },
          "metadata": {},
          "execution_count": 29
        }
      ]
    },
    {
      "cell_type": "code",
      "source": [
        "replace_values1 = {'02_Stage1':1, '03_Stage2':2, '06_Stage4':4, '05_Stage3b':3, '04_Stage3a':3,\n",
        "       '01_Stage0':0}\n",
        "\n",
        "df['fStage'] = df['fStage'].replace(replace_values1)"
      ],
      "metadata": {
        "id": "kvVJ-cwrwj0E",
        "colab": {
          "base_uri": "https://localhost:8080/"
        },
        "outputId": "8be05809-8d10-4d4d-fac5-352e86d36dc8"
      },
      "execution_count": null,
      "outputs": [
        {
          "output_type": "stream",
          "name": "stderr",
          "text": [
            "<ipython-input-30-43894812a301>:4: FutureWarning: Downcasting behavior in `replace` is deprecated and will be removed in a future version. To retain the old behavior, explicitly call `result.infer_objects(copy=False)`. To opt-in to the future behavior, set `pd.set_option('future.no_silent_downcasting', True)`\n",
            "  df['fStage'] = df['fStage'].replace(replace_values1)\n"
          ]
        }
      ]
    },
    {
      "cell_type": "code",
      "source": [
        "df[\"fStage\"].unique()"
      ],
      "metadata": {
        "id": "sRMHwm6Nwj3G",
        "colab": {
          "base_uri": "https://localhost:8080/"
        },
        "outputId": "fc57081e-095c-472f-bd4e-4c6c74cbff74"
      },
      "execution_count": null,
      "outputs": [
        {
          "output_type": "execute_result",
          "data": {
            "text/plain": [
              "array([1, 2, 4, 3, 0])"
            ]
          },
          "metadata": {},
          "execution_count": 31
        }
      ]
    },
    {
      "cell_type": "code",
      "source": [
        "df[\"Neoadjuvant\"].unique()"
      ],
      "metadata": {
        "id": "i9KM44Hewj82",
        "colab": {
          "base_uri": "https://localhost:8080/"
        },
        "outputId": "64a8b077-2b08-4ff8-9e92-a524b08bccd6"
      },
      "execution_count": null,
      "outputs": [
        {
          "output_type": "execute_result",
          "data": {
            "text/plain": [
              "array(['negative', 'positive'], dtype=object)"
            ]
          },
          "metadata": {},
          "execution_count": 32
        }
      ]
    },
    {
      "cell_type": "code",
      "source": [
        "replace_values = {'negative':0, 'positive':1}\n",
        "\n",
        "df['Neoadjuvant'] = df['Neoadjuvant'].replace(replace_values)"
      ],
      "metadata": {
        "id": "kzOCAQBKwj_j",
        "colab": {
          "base_uri": "https://localhost:8080/"
        },
        "outputId": "4d9452e2-3cef-4cb6-b1c9-e60e96655ba1"
      },
      "execution_count": null,
      "outputs": [
        {
          "output_type": "stream",
          "name": "stderr",
          "text": [
            "<ipython-input-33-19ffb8767e4f>:3: FutureWarning: Downcasting behavior in `replace` is deprecated and will be removed in a future version. To retain the old behavior, explicitly call `result.infer_objects(copy=False)`. To opt-in to the future behavior, set `pd.set_option('future.no_silent_downcasting', True)`\n",
            "  df['Neoadjuvant'] = df['Neoadjuvant'].replace(replace_values)\n"
          ]
        }
      ]
    },
    {
      "cell_type": "code",
      "source": [
        "df[\"Neoadjuvant\"].unique()"
      ],
      "metadata": {
        "id": "9GQqSCuVwkCb",
        "colab": {
          "base_uri": "https://localhost:8080/"
        },
        "outputId": "a61f638d-3629-4f0d-dcee-fa7b2f540db6"
      },
      "execution_count": null,
      "outputs": [
        {
          "output_type": "execute_result",
          "data": {
            "text/plain": [
              "array([0, 1])"
            ]
          },
          "metadata": {},
          "execution_count": 34
        }
      ]
    },
    {
      "cell_type": "code",
      "source": [
        "df[\"Adjuvant\"].unique()"
      ],
      "metadata": {
        "id": "buPyCRTu0TrP",
        "colab": {
          "base_uri": "https://localhost:8080/"
        },
        "outputId": "18f6d713-20d5-4be1-c9f2-5b2f97689048"
      },
      "execution_count": null,
      "outputs": [
        {
          "output_type": "execute_result",
          "data": {
            "text/plain": [
              "array(['negative', 'positive'], dtype=object)"
            ]
          },
          "metadata": {},
          "execution_count": 35
        }
      ]
    },
    {
      "cell_type": "code",
      "source": [
        "replace_values = {'negative':0, 'positive':1}\n",
        "\n",
        "df['Adjuvant'] = df['Adjuvant'].replace(replace_values)"
      ],
      "metadata": {
        "id": "qc0VBEQC0TuK",
        "colab": {
          "base_uri": "https://localhost:8080/"
        },
        "outputId": "99933498-50e5-487b-e899-2ee4e4aabca0"
      },
      "execution_count": null,
      "outputs": [
        {
          "output_type": "stream",
          "name": "stderr",
          "text": [
            "<ipython-input-36-5a8fed724a3d>:3: FutureWarning: Downcasting behavior in `replace` is deprecated and will be removed in a future version. To retain the old behavior, explicitly call `result.infer_objects(copy=False)`. To opt-in to the future behavior, set `pd.set_option('future.no_silent_downcasting', True)`\n",
            "  df['Adjuvant'] = df['Adjuvant'].replace(replace_values)\n"
          ]
        }
      ]
    },
    {
      "cell_type": "code",
      "source": [
        "df[\"Adjuvant\"].unique()"
      ],
      "metadata": {
        "id": "H52b5hq40TxU",
        "colab": {
          "base_uri": "https://localhost:8080/"
        },
        "outputId": "fba6dd58-e0d8-4918-b474-9b69113c5f8b"
      },
      "execution_count": null,
      "outputs": [
        {
          "output_type": "execute_result",
          "data": {
            "text/plain": [
              "array([0, 1])"
            ]
          },
          "metadata": {},
          "execution_count": 37
        }
      ]
    },
    {
      "cell_type": "code",
      "source": [
        "df[\"Location\"].unique()"
      ],
      "metadata": {
        "id": "2z_euF7m0T0K",
        "colab": {
          "base_uri": "https://localhost:8080/"
        },
        "outputId": "d37590ea-9509-49dd-e2cd-e94e7457cd83"
      },
      "execution_count": null,
      "outputs": [
        {
          "output_type": "execute_result",
          "data": {
            "text/plain": [
              "array(['05_T', '07_S', '04_A', '03_C', '10_Rb', '09_Ra', '08_Rs', '06_D',\n",
              "       '11_P', '02_V'], dtype=object)"
            ]
          },
          "metadata": {},
          "execution_count": 38
        }
      ]
    },
    {
      "cell_type": "code",
      "source": [
        "df[\"Obstruction\"].unique()"
      ],
      "metadata": {
        "id": "mGg1QgpN0T27",
        "colab": {
          "base_uri": "https://localhost:8080/"
        },
        "outputId": "09847cef-b067-47a4-83b5-7870d575d9d2"
      },
      "execution_count": null,
      "outputs": [
        {
          "output_type": "execute_result",
          "data": {
            "text/plain": [
              "array(['unknown', 'below 2/3 circumferential',\n",
              "       'below 1/2 circumferential', 'below 1/3 circumferential',\n",
              "       'total circumferential', 'subtotal circumferential'], dtype=object)"
            ]
          },
          "metadata": {},
          "execution_count": 39
        }
      ]
    },
    {
      "cell_type": "code",
      "source": [
        "replace_values = { 'unknown':99, 'below 2/3 circumferential':1,\n",
        "       'below 1/2 circumferential':1, 'below 1/3 circumferential':1,\n",
        "       'total circumferential':2, 'subtotal circumferential':2}\n",
        "\n",
        "df['Obstruction'] = df['Obstruction'].replace(replace_values)"
      ],
      "metadata": {
        "id": "aVmfpX370T50",
        "colab": {
          "base_uri": "https://localhost:8080/"
        },
        "outputId": "d13b7fbe-0b93-4d7a-e23f-846da584bf28"
      },
      "execution_count": null,
      "outputs": [
        {
          "output_type": "stream",
          "name": "stderr",
          "text": [
            "<ipython-input-40-e104cbfa6b31>:5: FutureWarning: Downcasting behavior in `replace` is deprecated and will be removed in a future version. To retain the old behavior, explicitly call `result.infer_objects(copy=False)`. To opt-in to the future behavior, set `pd.set_option('future.no_silent_downcasting', True)`\n",
            "  df['Obstruction'] = df['Obstruction'].replace(replace_values)\n"
          ]
        }
      ]
    },
    {
      "cell_type": "code",
      "source": [
        "df[\"Obstruction\"].unique()"
      ],
      "metadata": {
        "id": "eCZAXyQg0T8e",
        "colab": {
          "base_uri": "https://localhost:8080/"
        },
        "outputId": "70488164-f8d9-45c3-e410-fa9224c5a447"
      },
      "execution_count": null,
      "outputs": [
        {
          "output_type": "execute_result",
          "data": {
            "text/plain": [
              "array([99,  1,  2])"
            ]
          },
          "metadata": {},
          "execution_count": 41
        }
      ]
    },
    {
      "cell_type": "code",
      "source": [
        "df = df[df['fStage'] == 2]"
      ],
      "metadata": {
        "id": "byexYJuQ0T_X"
      },
      "execution_count": null,
      "outputs": []
    },
    {
      "cell_type": "code",
      "source": [
        "len(df)"
      ],
      "metadata": {
        "id": "clO0y3ed0UCI",
        "colab": {
          "base_uri": "https://localhost:8080/"
        },
        "outputId": "549633ba-5f6e-45b9-8f3e-1ceced9f7ef7"
      },
      "execution_count": null,
      "outputs": [
        {
          "output_type": "execute_result",
          "data": {
            "text/plain": [
              "5458"
            ]
          },
          "metadata": {},
          "execution_count": 43
        }
      ]
    },
    {
      "cell_type": "code",
      "source": [
        "df = df[df['pDepth'].isin([4,5,6])]"
      ],
      "metadata": {
        "id": "u9j5Gwafwiae"
      },
      "execution_count": null,
      "outputs": []
    },
    {
      "cell_type": "code",
      "source": [
        "replace_values = {4:1, 5:2, 6:3}\n",
        "\n",
        "\n",
        "df['pDepth'] = df['pDepth'].replace(replace_values)"
      ],
      "metadata": {
        "id": "trNATuXGwwxs"
      },
      "execution_count": null,
      "outputs": []
    },
    {
      "cell_type": "code",
      "source": [
        "df['pDepth'].unique()"
      ],
      "metadata": {
        "id": "BOMTevJnwinN",
        "colab": {
          "base_uri": "https://localhost:8080/"
        },
        "outputId": "f7b2ce01-6660-4001-ef7e-831ae985693b"
      },
      "execution_count": null,
      "outputs": [
        {
          "output_type": "execute_result",
          "data": {
            "text/plain": [
              "array([1, 3, 2])"
            ]
          },
          "metadata": {},
          "execution_count": 46
        }
      ]
    },
    {
      "cell_type": "code",
      "source": [
        "values_to_keep = ['05_T', '07_S', '04_A', '03_C', '08_Rs', '06_D', '02_V']\n",
        "\n",
        "df = df[df['Location'].isin(values_to_keep)]\n"
      ],
      "metadata": {
        "id": "CCrei4b50UWQ"
      },
      "execution_count": null,
      "outputs": []
    },
    {
      "cell_type": "code",
      "source": [
        "replace_values = {'05_T':1, '07_S':2, '04_A':1, '03_C':1, '08_Rs':2, '06_D':2, '02_V':1}\n",
        "\n",
        "\n",
        "df['Location'] = df['Location'].replace(replace_values)"
      ],
      "metadata": {
        "id": "vic3iJ-VuFWt",
        "colab": {
          "base_uri": "https://localhost:8080/"
        },
        "outputId": "04eb0dcf-f61b-4dc2-80e1-b52fac68f304"
      },
      "execution_count": null,
      "outputs": [
        {
          "output_type": "stream",
          "name": "stderr",
          "text": [
            "<ipython-input-48-ad5478e99c6f>:4: FutureWarning: Downcasting behavior in `replace` is deprecated and will be removed in a future version. To retain the old behavior, explicitly call `result.infer_objects(copy=False)`. To opt-in to the future behavior, set `pd.set_option('future.no_silent_downcasting', True)`\n",
            "  df['Location'] = df['Location'].replace(replace_values)\n"
          ]
        }
      ]
    },
    {
      "cell_type": "code",
      "source": [
        "len(df)"
      ],
      "metadata": {
        "id": "9VteXFrv0UZ2",
        "colab": {
          "base_uri": "https://localhost:8080/"
        },
        "outputId": "db363263-f076-415e-8156-59d5e5977fab"
      },
      "execution_count": null,
      "outputs": [
        {
          "output_type": "execute_result",
          "data": {
            "text/plain": [
              "4460"
            ]
          },
          "metadata": {},
          "execution_count": 49
        }
      ]
    },
    {
      "cell_type": "code",
      "source": [
        "# Find rows where DFS exceeds 5 and Event is 2, then change Event to 1\n",
        "df.loc[(df['DFS'] > 5) & (df['Event'] == 2), 'Event'] = 1\n",
        "\n",
        "#find all rows where DFS exceeds 5, then change DFS to 5\n",
        "df.loc[df['DFS'] > 5, 'DFS'] = 5"
      ],
      "metadata": {
        "id": "hBZCyx0KwkFS"
      },
      "execution_count": null,
      "outputs": []
    },
    {
      "cell_type": "code",
      "source": [
        "# # If 'LN numbers' is greater than or equal to 12, change it to 1, otherwise change it to 2\n",
        "df['LN number'] = df['LN number'].apply(lambda x: 1 if x >= 12 else 2)\n"
      ],
      "metadata": {
        "id": "h_-Dx0U6_NsA"
      },
      "execution_count": null,
      "outputs": []
    },
    {
      "cell_type": "code",
      "source": [],
      "metadata": {
        "id": "7cad52rOaIfW"
      },
      "execution_count": null,
      "outputs": []
    },
    {
      "cell_type": "code",
      "source": [
        "df[\"Event\"].unique()\n",
        "#1: -,  2:  +\n",
        "\n",
        "\n",
        "replace_values = {1:1, 2:2}\n",
        "\n",
        "df['Event'] = df['Event'].replace(replace_values)\n"
      ],
      "metadata": {
        "id": "ew7SUjAeaIob"
      },
      "execution_count": null,
      "outputs": []
    },
    {
      "cell_type": "code",
      "source": [
        "df[\"Event\"].unique()"
      ],
      "metadata": {
        "colab": {
          "base_uri": "https://localhost:8080/"
        },
        "id": "NgpXYyNkaIw6",
        "outputId": "be0b5039-616f-4f68-cff3-f0d323811be7"
      },
      "execution_count": null,
      "outputs": [
        {
          "output_type": "execute_result",
          "data": {
            "text/plain": [
              "array([1, 2])"
            ]
          },
          "metadata": {},
          "execution_count": 53
        }
      ]
    },
    {
      "cell_type": "code",
      "source": [
        "# 1. Modify Event_in_details\n",
        "# Change value 2 to 1\n",
        "df['Event_in_details'] = df['Event_in_details'].replace(2, 1)\n",
        "\n",
        "# Change values 3, 4, 5 (e.g., 4_cancer death, 5_non-cancer death) to 3\n",
        "df['Event_in_details'] = df['Event_in_details'].replace([3, 4, 5, '4_他癌死', '5_非癌死'], 3)\n",
        "\n",
        "# 2. Create Event_caused_specific by copying the original Event column\n",
        "df['Event_caused_specific'] = df['Event']\n",
        "\n",
        "# For rows where Event is 2 and Event_in_details is 3, change Event_caused_specific to 1\n",
        "condition_cs = (df['Event'] == 2) & (df['Event_in_details'] == 3)\n",
        "df.loc[condition_cs, 'Event_caused_specific'] = 1\n",
        "\n",
        "# For all other Event == 2 rows, leave the value as 2\n",
        "\n",
        "# 3. Create Event_subdistribution by copying the original Event column\n",
        "df['Event_subdistribution'] = df['Event']\n",
        "\n",
        "# For rows where Event is 2 and Event_in_details is 3, change Event_subdistribution to 3\n",
        "condition_sd = (df['Event'] == 2) & (df['Event_in_details'] == 3)\n",
        "df.loc[condition_sd, 'Event_subdistribution'] = 3"
      ],
      "metadata": {
        "id": "n7AnSG6-aJCc"
      },
      "execution_count": null,
      "outputs": []
    },
    {
      "cell_type": "code",
      "source": [],
      "metadata": {
        "id": "0LmdlfDEiTUu"
      },
      "execution_count": null,
      "outputs": []
    },
    {
      "cell_type": "code",
      "source": [],
      "metadata": {
        "id": "4UFXP_ATiTau"
      },
      "execution_count": null,
      "outputs": []
    },
    {
      "cell_type": "code",
      "source": [],
      "metadata": {
        "id": "ANfBi0Z7iTeV"
      },
      "execution_count": null,
      "outputs": []
    },
    {
      "cell_type": "code",
      "source": [],
      "metadata": {
        "id": "t3yHIlA3iTk3"
      },
      "execution_count": null,
      "outputs": []
    },
    {
      "cell_type": "code",
      "source": [
        "df = df[df['Curability'] == 1]\n",
        "len(df)"
      ],
      "metadata": {
        "id": "XFjJRgdqiZBx",
        "colab": {
          "base_uri": "https://localhost:8080/"
        },
        "outputId": "e058bd54-a6da-4bac-eb3d-a782f788e372"
      },
      "execution_count": null,
      "outputs": [
        {
          "output_type": "execute_result",
          "data": {
            "text/plain": [
              "4256"
            ]
          },
          "metadata": {},
          "execution_count": 55
        }
      ]
    },
    {
      "cell_type": "code",
      "source": [
        "df = df[df['Neoadjuvant'] == 0]\n",
        "len(df)"
      ],
      "metadata": {
        "id": "4PfFIS7HiJcy",
        "colab": {
          "base_uri": "https://localhost:8080/"
        },
        "outputId": "02e0b2e3-72aa-4d0c-8644-74a92e87298c"
      },
      "execution_count": null,
      "outputs": [
        {
          "output_type": "execute_result",
          "data": {
            "text/plain": [
              "4232"
            ]
          },
          "metadata": {},
          "execution_count": 56
        }
      ]
    },
    {
      "cell_type": "code",
      "source": [
        "df = df[df['Adjuvant'] == 0]\n",
        "len(df)"
      ],
      "metadata": {
        "colab": {
          "base_uri": "https://localhost:8080/"
        },
        "id": "b2GQl8C5iJk5",
        "outputId": "d52e7cb3-a710-40bf-84b7-8f45d26964d7"
      },
      "execution_count": null,
      "outputs": [
        {
          "output_type": "execute_result",
          "data": {
            "text/plain": [
              "3255"
            ]
          },
          "metadata": {},
          "execution_count": 57
        }
      ]
    },
    {
      "cell_type": "code",
      "source": [
        "df['operation'].unique()"
      ],
      "metadata": {
        "id": "WAcy41cMiJo4",
        "colab": {
          "base_uri": "https://localhost:8080/"
        },
        "outputId": "13b42b62-84f3-434e-fd80-e11ba1d35cd9"
      },
      "execution_count": null,
      "outputs": [
        {
          "output_type": "execute_result",
          "data": {
            "text/plain": [
              "array(['sigmoidectomy', 'RHC', 'ileocecal resection', 'LAR', 'LHC',\n",
              "       'Partial colectomy', 'HAR', 'PE', '015_Hartmann',\n",
              "       'total colectomy', 'total proctocolectomy', 'APR'], dtype=object)"
            ]
          },
          "metadata": {},
          "execution_count": 58
        }
      ]
    },
    {
      "cell_type": "code",
      "source": [
        "replace_values = {'Partial colectomy':1, 'sigmoidectomy':5, 'RHC':3, 'ileocecal resection':2, 'APR':9,\n",
        "       'HAR':7, 'LAR':9, '015_Hartmann':6, 'LHC':4,\n",
        "       'PE':9, 'total colectomy':9, 'sLAR':9, 'total proctocolectomy':9, 'ISR':9}\n",
        "\n",
        "df['operation'] = df['operation'].replace(replace_values)\n",
        "df['operation'].unique()"
      ],
      "metadata": {
        "id": "aU2t5GjXpHhz",
        "colab": {
          "base_uri": "https://localhost:8080/"
        },
        "outputId": "1f4c16af-7207-46f1-fdf3-6b9ba7ad6aa6"
      },
      "execution_count": null,
      "outputs": [
        {
          "output_type": "stream",
          "name": "stderr",
          "text": [
            "<ipython-input-59-2567347a1abc>:5: FutureWarning: Downcasting behavior in `replace` is deprecated and will be removed in a future version. To retain the old behavior, explicitly call `result.infer_objects(copy=False)`. To opt-in to the future behavior, set `pd.set_option('future.no_silent_downcasting', True)`\n",
            "  df['operation'] = df['operation'].replace(replace_values)\n",
            "<ipython-input-59-2567347a1abc>:5: SettingWithCopyWarning: \n",
            "A value is trying to be set on a copy of a slice from a DataFrame.\n",
            "Try using .loc[row_indexer,col_indexer] = value instead\n",
            "\n",
            "See the caveats in the documentation: https://pandas.pydata.org/pandas-docs/stable/user_guide/indexing.html#returning-a-view-versus-a-copy\n",
            "  df['operation'] = df['operation'].replace(replace_values)\n"
          ]
        },
        {
          "output_type": "execute_result",
          "data": {
            "text/plain": [
              "array([5, 3, 2, 9, 4, 1, 7, 6])"
            ]
          },
          "metadata": {},
          "execution_count": 59
        }
      ]
    },
    {
      "cell_type": "code",
      "source": [
        "df = df[df['operation'].isin([1,2,3,4,5,6,7])]\n",
        "len(df)"
      ],
      "metadata": {
        "id": "cVRRAgS2pHoy",
        "colab": {
          "base_uri": "https://localhost:8080/"
        },
        "outputId": "5e1e658f-14b8-45d1-a057-bd884c0c9759"
      },
      "execution_count": null,
      "outputs": [
        {
          "output_type": "execute_result",
          "data": {
            "text/plain": [
              "2887"
            ]
          },
          "metadata": {},
          "execution_count": 60
        }
      ]
    },
    {
      "cell_type": "code",
      "source": [],
      "metadata": {
        "id": "iOf7-G3piJuF"
      },
      "execution_count": null,
      "outputs": []
    },
    {
      "cell_type": "code",
      "source": [],
      "metadata": {
        "id": "nlMTJwgMiJ08"
      },
      "execution_count": null,
      "outputs": []
    },
    {
      "cell_type": "code",
      "source": [
        "\n",
        "columns_to_remove = ['Neoadjuvant', 'Adjuvant', 'Curability', 'fStage']\n",
        "df = df.drop(columns=columns_to_remove)\n"
      ],
      "metadata": {
        "id": "OHlWxKi7CHui"
      },
      "execution_count": null,
      "outputs": []
    },
    {
      "cell_type": "code",
      "source": [
        "df = df[~((df['CEA'] == 1) & (df['ly'] == 1) & (df['v'] == 1) & (df['pDepth'] == 1) &\n",
        "          ((df['Pathology'] == 1) | (df['Pathology'] == 2)) & (df['LN number'] == 1) &\n",
        "          (df['Obstruction'] == 1))]\n",
        "\n",
        "len(df)\n"
      ],
      "metadata": {
        "id": "q6oysrzTCH73",
        "colab": {
          "base_uri": "https://localhost:8080/"
        },
        "outputId": "57e60daf-964a-4471-c806-a70bb56d90e5"
      },
      "execution_count": null,
      "outputs": [
        {
          "output_type": "execute_result",
          "data": {
            "text/plain": [
              "2769"
            ]
          },
          "metadata": {},
          "execution_count": 62
        }
      ]
    },
    {
      "cell_type": "code",
      "source": [
        "# Divide the data into three groups based on age\n",
        "#Delete entries where the value is above 80\n",
        "bins = [0, 65, 80, float('inf')]\n",
        "labels = ['1', '2', '3']\n",
        "df['age'] = pd.cut(df['age'], bins=bins, labels=labels, right=False)\n",
        "df = df[df['age'] != '3']\n"
      ],
      "metadata": {
        "id": "AYrCG1X2bMz8"
      },
      "execution_count": null,
      "outputs": []
    },
    {
      "cell_type": "code",
      "source": [
        "len(df)"
      ],
      "metadata": {
        "colab": {
          "base_uri": "https://localhost:8080/"
        },
        "id": "cLWQpYLzbM9l",
        "outputId": "cbd46700-2703-47d6-c2ba-20ebb9f3041e"
      },
      "execution_count": null,
      "outputs": [
        {
          "output_type": "execute_result",
          "data": {
            "text/plain": [
              "2208"
            ]
          },
          "metadata": {},
          "execution_count": 64
        }
      ]
    },
    {
      "cell_type": "code",
      "source": [],
      "metadata": {
        "id": "qFlNhslybNFM"
      },
      "execution_count": null,
      "outputs": []
    },
    {
      "cell_type": "code",
      "source": [
        "df['gender'].unique()"
      ],
      "metadata": {
        "id": "aQkNCE9L0FGy",
        "colab": {
          "base_uri": "https://localhost:8080/"
        },
        "outputId": "9efb7168-85e3-4103-eee6-8569fcc08a5f"
      },
      "execution_count": null,
      "outputs": [
        {
          "output_type": "execute_result",
          "data": {
            "text/plain": [
              "array(['02_F', '01_M'], dtype=object)"
            ]
          },
          "metadata": {},
          "execution_count": 65
        }
      ]
    },
    {
      "cell_type": "code",
      "source": [
        "replace_values = {'01_M':2, '02_F':1}\n",
        "\n",
        "\n",
        "df['gender'] = df['gender'].replace(replace_values)\n",
        "df['gender'].unique()"
      ],
      "metadata": {
        "id": "fzjBBfq-lQUJ",
        "colab": {
          "base_uri": "https://localhost:8080/"
        },
        "outputId": "24fd2e9a-7934-4db1-8e56-838cfc9f8bbf"
      },
      "execution_count": null,
      "outputs": [
        {
          "output_type": "stream",
          "name": "stderr",
          "text": [
            "<ipython-input-66-a0ab759d354a>:4: FutureWarning: Downcasting behavior in `replace` is deprecated and will be removed in a future version. To retain the old behavior, explicitly call `result.infer_objects(copy=False)`. To opt-in to the future behavior, set `pd.set_option('future.no_silent_downcasting', True)`\n",
            "  df['gender'] = df['gender'].replace(replace_values)\n"
          ]
        },
        {
          "output_type": "execute_result",
          "data": {
            "text/plain": [
              "array([1, 2])"
            ]
          },
          "metadata": {},
          "execution_count": 66
        }
      ]
    },
    {
      "cell_type": "code",
      "source": [
        "df['Approach'].unique()"
      ],
      "metadata": {
        "id": "QUvw5qHGlQXu",
        "colab": {
          "base_uri": "https://localhost:8080/"
        },
        "outputId": "401e613f-3fcb-429e-d59d-0e4d258297d7"
      },
      "execution_count": null,
      "outputs": [
        {
          "output_type": "execute_result",
          "data": {
            "text/plain": [
              "array(['laparoscopy + small incision', 'open', 'unknown', 'laparoscopy',\n",
              "       'peranal approach'], dtype=object)"
            ]
          },
          "metadata": {},
          "execution_count": 67
        }
      ]
    },
    {
      "cell_type": "code",
      "source": [
        "replace_values = {'open':2, 'laparoscopy + small incision':1, 'unknown':99, 'laparoscopy':1, 'laparoscopy':1, 'peranal approach':3}\n",
        "\n",
        "\n",
        "df['Approach'] = df['Approach'].replace(replace_values)\n",
        "df['Approach'].unique()"
      ],
      "metadata": {
        "id": "oJK2DB-blQbV",
        "colab": {
          "base_uri": "https://localhost:8080/"
        },
        "outputId": "dfb8426b-b5f9-4f29-c9a4-6b54e5b94f00"
      },
      "execution_count": null,
      "outputs": [
        {
          "output_type": "stream",
          "name": "stderr",
          "text": [
            "<ipython-input-68-8ec89ead8e79>:4: FutureWarning: Downcasting behavior in `replace` is deprecated and will be removed in a future version. To retain the old behavior, explicitly call `result.infer_objects(copy=False)`. To opt-in to the future behavior, set `pd.set_option('future.no_silent_downcasting', True)`\n",
            "  df['Approach'] = df['Approach'].replace(replace_values)\n"
          ]
        },
        {
          "output_type": "execute_result",
          "data": {
            "text/plain": [
              "array([ 1,  2, 99,  3])"
            ]
          },
          "metadata": {},
          "execution_count": 68
        }
      ]
    },
    {
      "cell_type": "code",
      "source": [
        "df = df[df['Approach'].isin([1,2,99])]\n",
        "len(df)"
      ],
      "metadata": {
        "id": "ZmujDTjmq4rS",
        "colab": {
          "base_uri": "https://localhost:8080/"
        },
        "outputId": "dac69dac-995e-4e0a-e39b-fee60e75e6f0"
      },
      "execution_count": null,
      "outputs": [
        {
          "output_type": "execute_result",
          "data": {
            "text/plain": [
              "2168"
            ]
          },
          "metadata": {},
          "execution_count": 69
        }
      ]
    },
    {
      "cell_type": "code",
      "source": [
        "df['Dissection Level'].unique()"
      ],
      "metadata": {
        "id": "Bjxzlmb1lQnW",
        "colab": {
          "base_uri": "https://localhost:8080/"
        },
        "outputId": "440d9251-9fd4-43dd-b898-29567131061a"
      },
      "execution_count": null,
      "outputs": [
        {
          "output_type": "execute_result",
          "data": {
            "text/plain": [
              "array(['01_D1', '03_D3', '02_D2'], dtype=object)"
            ]
          },
          "metadata": {},
          "execution_count": 70
        }
      ]
    },
    {
      "cell_type": "code",
      "source": [
        "replace_values = {'02_D2':2, '01_D1':3, '03_D3':1}\n",
        "\n",
        "df['Dissection Level'] = df['Dissection Level'].replace(replace_values)\n",
        "df['Dissection Level'].unique()"
      ],
      "metadata": {
        "id": "cuVxvBUClQq4",
        "colab": {
          "base_uri": "https://localhost:8080/"
        },
        "outputId": "a998fd74-7044-4193-c123-925181295eb5"
      },
      "execution_count": null,
      "outputs": [
        {
          "output_type": "stream",
          "name": "stderr",
          "text": [
            "<ipython-input-71-163aa5257dfe>:3: FutureWarning: Downcasting behavior in `replace` is deprecated and will be removed in a future version. To retain the old behavior, explicitly call `result.infer_objects(copy=False)`. To opt-in to the future behavior, set `pd.set_option('future.no_silent_downcasting', True)`\n",
            "  df['Dissection Level'] = df['Dissection Level'].replace(replace_values)\n"
          ]
        },
        {
          "output_type": "execute_result",
          "data": {
            "text/plain": [
              "array([3, 1, 2])"
            ]
          },
          "metadata": {},
          "execution_count": 71
        }
      ]
    },
    {
      "cell_type": "code",
      "source": [],
      "metadata": {
        "id": "sb09vjHarI2n"
      },
      "execution_count": null,
      "outputs": []
    },
    {
      "cell_type": "code",
      "source": [],
      "metadata": {
        "id": "wP3JWol7rI_M"
      },
      "execution_count": null,
      "outputs": []
    },
    {
      "cell_type": "code",
      "source": [
        "# Store the columns you want to clean in a list\n",
        "columns_to_clean = ['Pathology', 'pDepth', 'ly', 'v', 'CEA', 'LN number','gender','age','Dissection Level']\n",
        "\n",
        "# Remove the missing values from the specified columns\n",
        "df = df.dropna(subset=columns_to_clean)"
      ],
      "metadata": {
        "id": "1Z57T990lQtX"
      },
      "execution_count": null,
      "outputs": []
    },
    {
      "cell_type": "code",
      "source": [],
      "metadata": {
        "id": "JV5DpFR14MK4"
      },
      "execution_count": null,
      "outputs": []
    },
    {
      "cell_type": "code",
      "source": [
        "len(df)"
      ],
      "metadata": {
        "id": "iB7pu7YpsZdt",
        "colab": {
          "base_uri": "https://localhost:8080/"
        },
        "outputId": "7b7ee346-36df-4dd7-bd41-0fb7b5bb47ee"
      },
      "execution_count": null,
      "outputs": [
        {
          "output_type": "execute_result",
          "data": {
            "text/plain": [
              "1979"
            ]
          },
          "metadata": {},
          "execution_count": 73
        }
      ]
    },
    {
      "cell_type": "code",
      "source": [],
      "metadata": {
        "id": "ymVSWdfKsZr1"
      },
      "execution_count": null,
      "outputs": []
    },
    {
      "cell_type": "code",
      "source": [
        "df.to_excel(\"JSCCR fStageII CIF.xlsx\")"
      ],
      "metadata": {
        "id": "89usGZDm_N99"
      },
      "execution_count": null,
      "outputs": []
    },
    {
      "cell_type": "code",
      "source": [],
      "metadata": {
        "id": "HpAIJPR0fSYf"
      },
      "execution_count": null,
      "outputs": []
    },
    {
      "cell_type": "code",
      "source": [
        "category_variables = ['gender', 'age', 'Approach', 'operation', 'Dissection Level',\n",
        "                      'Pathology', 'pDepth', 'ly', 'v', 'CEA',\n",
        "                       'LN number', 'Event', 'Location', 'Obstruction']\n",
        "\n",
        "for variable in category_variables:\n",
        "    # Event vs  category cross table\n",
        "    cross_tab = pd.crosstab(df[variable], df['Event'], margins=True, margins_name='Total')\n",
        "\n",
        "    # percentage\n",
        "    cross_tab_percentage = cross_tab.div(cross_tab.loc['Total', :], axis=1).round(4) * 100\n",
        "\n",
        "    # result\n",
        "    print(f'--- {variable} vs Event ---')\n",
        "    print('Count:')\n",
        "    print(cross_tab)\n",
        "    print('Percentage:')\n",
        "    print(cross_tab_percentage)\n",
        "    print('\\n')"
      ],
      "metadata": {
        "colab": {
          "base_uri": "https://localhost:8080/"
        },
        "id": "f8m-HrM7D4nD",
        "outputId": "4e9c9355-0d5c-484f-d386-e636443159fa"
      },
      "execution_count": null,
      "outputs": [
        {
          "output_type": "stream",
          "name": "stdout",
          "text": [
            "--- gender vs Event ---\n",
            "Count:\n",
            "Event      1    2  Total\n",
            "gender                  \n",
            "1        771  101    872\n",
            "2        918  189   1107\n",
            "Total   1689  290   1979\n",
            "Percentage:\n",
            "Event        1       2   Total\n",
            "gender                        \n",
            "1        45.65   34.83   44.06\n",
            "2        54.35   65.17   55.94\n",
            "Total   100.00  100.00  100.00\n",
            "\n",
            "\n",
            "--- age vs Event ---\n",
            "Count:\n",
            "Event     1    2  Total\n",
            "age                    \n",
            "1       636   85    721\n",
            "2      1053  205   1258\n",
            "Total  1689  290   1979\n",
            "Percentage:\n",
            "Event       1       2   Total\n",
            "age                          \n",
            "1       37.66   29.31   36.43\n",
            "2       62.34   70.69   63.57\n",
            "Total  100.00  100.00  100.00\n",
            "\n",
            "\n",
            "--- Approach vs Event ---\n",
            "Count:\n",
            "Event        1    2  Total\n",
            "Approach                  \n",
            "1          255   38    293\n",
            "2         1360  243   1603\n",
            "99          74    9     83\n",
            "Total     1689  290   1979\n",
            "Percentage:\n",
            "Event          1       2   Total\n",
            "Approach                        \n",
            "1          15.10   13.10   14.81\n",
            "2          80.52   83.79   81.00\n",
            "99          4.38    3.10    4.19\n",
            "Total     100.00  100.00  100.00\n",
            "\n",
            "\n",
            "--- operation vs Event ---\n",
            "Count:\n",
            "Event         1    2  Total\n",
            "operation                  \n",
            "1           145   23    168\n",
            "2           121   18    139\n",
            "3           476   80    556\n",
            "4           126   22    148\n",
            "5           547  103    650\n",
            "6            22   12     34\n",
            "7           252   32    284\n",
            "Total      1689  290   1979\n",
            "Percentage:\n",
            "Event           1       2   Total\n",
            "operation                        \n",
            "1            8.58    7.93    8.49\n",
            "2            7.16    6.21    7.02\n",
            "3           28.18   27.59   28.09\n",
            "4            7.46    7.59    7.48\n",
            "5           32.39   35.52   32.84\n",
            "6            1.30    4.14    1.72\n",
            "7           14.92   11.03   14.35\n",
            "Total      100.00  100.00  100.00\n",
            "\n",
            "\n",
            "--- Dissection Level vs Event ---\n",
            "Count:\n",
            "Event                1    2  Total\n",
            "Dissection Level                  \n",
            "1                 1057  158   1215\n",
            "2                  520  110    630\n",
            "3                  112   22    134\n",
            "Total             1689  290   1979\n",
            "Percentage:\n",
            "Event                  1       2   Total\n",
            "Dissection Level                        \n",
            "1                  62.58   54.48   61.39\n",
            "2                  30.79   37.93   31.83\n",
            "3                   6.63    7.59    6.77\n",
            "Total             100.00  100.00  100.00\n",
            "\n",
            "\n",
            "--- Pathology vs Event ---\n",
            "Count:\n",
            "Event         1    2  Total\n",
            "Pathology                  \n",
            "1           813  136    949\n",
            "2           774  142    916\n",
            "3           102   12    114\n",
            "Total      1689  290   1979\n",
            "Percentage:\n",
            "Event           1       2   Total\n",
            "Pathology                        \n",
            "1           48.13   46.90   47.95\n",
            "2           45.83   48.97   46.29\n",
            "3            6.04    4.14    5.76\n",
            "Total      100.00  100.00  100.00\n",
            "\n",
            "\n",
            "--- pDepth vs Event ---\n",
            "Count:\n",
            "Event      1    2  Total\n",
            "pDepth                  \n",
            "1       1391  204   1595\n",
            "2        238   68    306\n",
            "3         60   18     78\n",
            "Total   1689  290   1979\n",
            "Percentage:\n",
            "Event        1       2   Total\n",
            "pDepth                        \n",
            "1        82.36   70.34   80.60\n",
            "2        14.09   23.45   15.46\n",
            "3         3.55    6.21    3.94\n",
            "Total   100.00  100.00  100.00\n",
            "\n",
            "\n",
            "--- ly vs Event ---\n",
            "Count:\n",
            "Event     1    2  Total\n",
            "ly                     \n",
            "1       715  122    837\n",
            "2       974  168   1142\n",
            "Total  1689  290   1979\n",
            "Percentage:\n",
            "Event       1       2   Total\n",
            "ly                           \n",
            "1       42.33   42.07   42.29\n",
            "2       57.67   57.93   57.71\n",
            "Total  100.00  100.00  100.00\n",
            "\n",
            "\n",
            "--- v vs Event ---\n",
            "Count:\n",
            "Event     1    2  Total\n",
            "v                      \n",
            "1       602   95    697\n",
            "2      1087  195   1282\n",
            "Total  1689  290   1979\n",
            "Percentage:\n",
            "Event       1       2   Total\n",
            "v                            \n",
            "1       35.64   32.76   35.22\n",
            "2       64.36   67.24   64.78\n",
            "Total  100.00  100.00  100.00\n",
            "\n",
            "\n",
            "--- CEA vs Event ---\n",
            "Count:\n",
            "Event     1    2  Total\n",
            "CEA                    \n",
            "1.0    1112  163   1275\n",
            "2.0     577  127    704\n",
            "Total  1689  290   1979\n",
            "Percentage:\n",
            "Event       1       2   Total\n",
            "CEA                          \n",
            "1.0     65.84   56.21   64.43\n",
            "2.0     34.16   43.79   35.57\n",
            "Total  100.00  100.00  100.00\n",
            "\n",
            "\n",
            "--- LN number vs Event ---\n",
            "Count:\n",
            "Event         1    2  Total\n",
            "LN number                  \n",
            "1          1229  204   1433\n",
            "2           460   86    546\n",
            "Total      1689  290   1979\n",
            "Percentage:\n",
            "Event           1       2   Total\n",
            "LN number                        \n",
            "1           72.76   70.34   72.41\n",
            "2           27.24   29.66   27.59\n",
            "Total      100.00  100.00  100.00\n",
            "\n",
            "\n",
            "--- Event vs Event ---\n",
            "Count:\n",
            "Event     1    2  Total\n",
            "Event                  \n",
            "1      1689    0   1689\n",
            "2         0  290    290\n",
            "Total  1689  290   1979\n",
            "Percentage:\n",
            "Event      1      2   Total\n",
            "Event                      \n",
            "1      100.0    0.0   85.35\n",
            "2        0.0  100.0   14.65\n",
            "Total  100.0  100.0  100.00\n",
            "\n",
            "\n",
            "--- Location vs Event ---\n",
            "Count:\n",
            "Event        1    2  Total\n",
            "Location                  \n",
            "1          769  128    897\n",
            "2          920  162   1082\n",
            "Total     1689  290   1979\n",
            "Percentage:\n",
            "Event          1       2   Total\n",
            "Location                        \n",
            "1          45.53   44.14   45.33\n",
            "2          54.47   55.86   54.67\n",
            "Total     100.00  100.00  100.00\n",
            "\n",
            "\n",
            "--- Obstruction vs Event ---\n",
            "Count:\n",
            "Event           1    2  Total\n",
            "Obstruction                  \n",
            "1             698   94    792\n",
            "2             885  175   1060\n",
            "99            106   21    127\n",
            "Total        1689  290   1979\n",
            "Percentage:\n",
            "Event             1       2   Total\n",
            "Obstruction                        \n",
            "1             41.33   32.41   40.02\n",
            "2             52.40   60.34   53.56\n",
            "99             6.28    7.24    6.42\n",
            "Total        100.00  100.00  100.00\n",
            "\n",
            "\n"
          ]
        }
      ]
    },
    {
      "cell_type": "code",
      "source": [],
      "metadata": {
        "id": "0K3_qLPnD4u_"
      },
      "execution_count": null,
      "outputs": []
    },
    {
      "cell_type": "code",
      "source": [
        "# Create a dummy dataframe, df. In practice, you would use your actual data.\n",
        "# This is just an example.\n",
        "\n",
        "# Path for the output Excel file\n",
        "output_path = 'JSCCR cross table.xlsx'\n",
        "\n",
        "# Use ExcelWriter to write to the file\n",
        "with pd.ExcelWriter(output_path) as writer:\n",
        "    for variable in category_variables:\n",
        "        # Cross table of Event vs category\n",
        "        cross_tab = pd.crosstab(df[variable], df['Event'], margins=True, margins_name='Total')\n",
        "\n",
        "        # Calculate percentage\n",
        "        cross_tab_percentage = cross_tab.div(cross_tab.loc['Total', :], axis=1).round(4) * 100\n",
        "\n",
        "        # Write count to an Excel sheet\n",
        "        cross_tab.to_excel(writer, sheet_name=f'{variable} Count')\n",
        "\n",
        "        # Write percentage to a different Excel sheet\n",
        "        cross_tab_percentage.to_excel(writer, sheet_name=f'{variable} Percentage')\n",
        "\n",
        "# If using Google Colab, download the created Excel file\n",
        "# from google.colab import files\n",
        "# files.download(output_path)\n"
      ],
      "metadata": {
        "id": "10bz_r3gfS4z"
      },
      "execution_count": null,
      "outputs": []
    },
    {
      "cell_type": "code",
      "source": [],
      "metadata": {
        "id": "yR8GwlzuDW6t"
      },
      "execution_count": null,
      "outputs": []
    },
    {
      "cell_type": "code",
      "source": [
        "category_variables = ['gender', 'age', 'Approach', 'operation', 'Dissection Level',\n",
        "                      'Pathology', 'pDepth', 'ly', 'v', 'CEA',\n",
        "                       'LN number', 'Event_caused_specific', 'Location', 'Obstruction']\n",
        "\n",
        "for variable in category_variables:\n",
        "    # Event vs  category cross table\n",
        "    cross_tab = pd.crosstab(df[variable], df['Event_caused_specific'], margins=True, margins_name='Total')\n",
        "\n",
        "    # percentage\n",
        "    cross_tab_percentage = cross_tab.div(cross_tab.loc['Total', :], axis=1).round(4) * 100\n",
        "\n",
        "    # result\n",
        "    print(f'--- {variable} vs Event_caused_specific ---')\n",
        "    print('Count:')\n",
        "    print(cross_tab)\n",
        "    print('Percentage:')\n",
        "    print(cross_tab_percentage)\n",
        "    print('\\n')"
      ],
      "metadata": {
        "colab": {
          "base_uri": "https://localhost:8080/"
        },
        "id": "b1wHyKOcldXV",
        "outputId": "1821c72b-89fa-4b38-e989-31eac87b1409"
      },
      "execution_count": null,
      "outputs": [
        {
          "output_type": "stream",
          "name": "stdout",
          "text": [
            "--- gender vs Event_caused_specific ---\n",
            "Count:\n",
            "Event_caused_specific     1    2  Total\n",
            "gender                                 \n",
            "1                       788   84    872\n",
            "2                       964  143   1107\n",
            "Total                  1752  227   1979\n",
            "Percentage:\n",
            "Event_caused_specific       1      2   Total\n",
            "gender                                      \n",
            "1                       44.98   37.0   44.06\n",
            "2                       55.02   63.0   55.94\n",
            "Total                  100.00  100.0  100.00\n",
            "\n",
            "\n",
            "--- age vs Event_caused_specific ---\n",
            "Count:\n",
            "Event_caused_specific     1    2  Total\n",
            "age                                    \n",
            "1                       647   74    721\n",
            "2                      1105  153   1258\n",
            "Total                  1752  227   1979\n",
            "Percentage:\n",
            "Event_caused_specific       1      2   Total\n",
            "age                                         \n",
            "1                       36.93   32.6   36.43\n",
            "2                       63.07   67.4   63.57\n",
            "Total                  100.00  100.0  100.00\n",
            "\n",
            "\n",
            "--- Approach vs Event_caused_specific ---\n",
            "Count:\n",
            "Event_caused_specific     1    2  Total\n",
            "Approach                               \n",
            "1                       261   32    293\n",
            "2                      1416  187   1603\n",
            "99                       75    8     83\n",
            "Total                  1752  227   1979\n",
            "Percentage:\n",
            "Event_caused_specific       1       2   Total\n",
            "Approach                                     \n",
            "1                       14.90   14.10   14.81\n",
            "2                       80.82   82.38   81.00\n",
            "99                       4.28    3.52    4.19\n",
            "Total                  100.00  100.00  100.00\n",
            "\n",
            "\n",
            "--- operation vs Event_caused_specific ---\n",
            "Count:\n",
            "Event_caused_specific     1    2  Total\n",
            "operation                              \n",
            "1                       148   20    168\n",
            "2                       126   13    139\n",
            "3                       496   60    556\n",
            "4                       128   20    148\n",
            "5                       568   82    650\n",
            "6                        25    9     34\n",
            "7                       261   23    284\n",
            "Total                  1752  227   1979\n",
            "Percentage:\n",
            "Event_caused_specific       1       2   Total\n",
            "operation                                    \n",
            "1                        8.45    8.81    8.49\n",
            "2                        7.19    5.73    7.02\n",
            "3                       28.31   26.43   28.09\n",
            "4                        7.31    8.81    7.48\n",
            "5                       32.42   36.12   32.84\n",
            "6                        1.43    3.96    1.72\n",
            "7                       14.90   10.13   14.35\n",
            "Total                  100.00  100.00  100.00\n",
            "\n",
            "\n",
            "--- Dissection Level vs Event_caused_specific ---\n",
            "Count:\n",
            "Event_caused_specific     1    2  Total\n",
            "Dissection Level                       \n",
            "1                      1087  128   1215\n",
            "2                       549   81    630\n",
            "3                       116   18    134\n",
            "Total                  1752  227   1979\n",
            "Percentage:\n",
            "Event_caused_specific       1       2   Total\n",
            "Dissection Level                             \n",
            "1                       62.04   56.39   61.39\n",
            "2                       31.34   35.68   31.83\n",
            "3                        6.62    7.93    6.77\n",
            "Total                  100.00  100.00  100.00\n",
            "\n",
            "\n",
            "--- Pathology vs Event_caused_specific ---\n",
            "Count:\n",
            "Event_caused_specific     1    2  Total\n",
            "Pathology                              \n",
            "1                       845  104    949\n",
            "2                       801  115    916\n",
            "3                       106    8    114\n",
            "Total                  1752  227   1979\n",
            "Percentage:\n",
            "Event_caused_specific       1       2   Total\n",
            "Pathology                                    \n",
            "1                       48.23   45.81   47.95\n",
            "2                       45.72   50.66   46.29\n",
            "3                        6.05    3.52    5.76\n",
            "Total                  100.00  100.00  100.00\n",
            "\n",
            "\n",
            "--- pDepth vs Event_caused_specific ---\n",
            "Count:\n",
            "Event_caused_specific     1    2  Total\n",
            "pDepth                                 \n",
            "1                      1442  153   1595\n",
            "2                       246   60    306\n",
            "3                        64   14     78\n",
            "Total                  1752  227   1979\n",
            "Percentage:\n",
            "Event_caused_specific       1       2   Total\n",
            "pDepth                                       \n",
            "1                       82.31   67.40   80.60\n",
            "2                       14.04   26.43   15.46\n",
            "3                        3.65    6.17    3.94\n",
            "Total                  100.00  100.00  100.00\n",
            "\n",
            "\n",
            "--- ly vs Event_caused_specific ---\n",
            "Count:\n",
            "Event_caused_specific     1    2  Total\n",
            "ly                                     \n",
            "1                       737  100    837\n",
            "2                      1015  127   1142\n",
            "Total                  1752  227   1979\n",
            "Percentage:\n",
            "Event_caused_specific       1       2   Total\n",
            "ly                                           \n",
            "1                       42.07   44.05   42.29\n",
            "2                       57.93   55.95   57.71\n",
            "Total                  100.00  100.00  100.00\n",
            "\n",
            "\n",
            "--- v vs Event_caused_specific ---\n",
            "Count:\n",
            "Event_caused_specific     1    2  Total\n",
            "v                                      \n",
            "1                       621   76    697\n",
            "2                      1131  151   1282\n",
            "Total                  1752  227   1979\n",
            "Percentage:\n",
            "Event_caused_specific       1       2   Total\n",
            "v                                            \n",
            "1                       35.45   33.48   35.22\n",
            "2                       64.55   66.52   64.78\n",
            "Total                  100.00  100.00  100.00\n",
            "\n",
            "\n",
            "--- CEA vs Event_caused_specific ---\n",
            "Count:\n",
            "Event_caused_specific     1    2  Total\n",
            "CEA                                    \n",
            "1.0                    1150  125   1275\n",
            "2.0                     602  102    704\n",
            "Total                  1752  227   1979\n",
            "Percentage:\n",
            "Event_caused_specific       1       2   Total\n",
            "CEA                                          \n",
            "1.0                     65.64   55.07   64.43\n",
            "2.0                     34.36   44.93   35.57\n",
            "Total                  100.00  100.00  100.00\n",
            "\n",
            "\n",
            "--- LN number vs Event_caused_specific ---\n",
            "Count:\n",
            "Event_caused_specific     1    2  Total\n",
            "LN number                              \n",
            "1                      1275  158   1433\n",
            "2                       477   69    546\n",
            "Total                  1752  227   1979\n",
            "Percentage:\n",
            "Event_caused_specific       1      2   Total\n",
            "LN number                                   \n",
            "1                       72.77   69.6   72.41\n",
            "2                       27.23   30.4   27.59\n",
            "Total                  100.00  100.0  100.00\n",
            "\n",
            "\n",
            "--- Event_caused_specific vs Event_caused_specific ---\n",
            "Count:\n",
            "Event_caused_specific     1    2  Total\n",
            "Event_caused_specific                  \n",
            "1                      1752    0   1752\n",
            "2                         0  227    227\n",
            "Total                  1752  227   1979\n",
            "Percentage:\n",
            "Event_caused_specific      1      2   Total\n",
            "Event_caused_specific                      \n",
            "1                      100.0    0.0   88.53\n",
            "2                        0.0  100.0   11.47\n",
            "Total                  100.0  100.0  100.00\n",
            "\n",
            "\n",
            "--- Location vs Event_caused_specific ---\n",
            "Count:\n",
            "Event_caused_specific     1    2  Total\n",
            "Location                               \n",
            "1                       797  100    897\n",
            "2                       955  127   1082\n",
            "Total                  1752  227   1979\n",
            "Percentage:\n",
            "Event_caused_specific       1       2   Total\n",
            "Location                                     \n",
            "1                       45.49   44.05   45.33\n",
            "2                       54.51   55.95   54.67\n",
            "Total                  100.00  100.00  100.00\n",
            "\n",
            "\n",
            "--- Obstruction vs Event_caused_specific ---\n",
            "Count:\n",
            "Event_caused_specific     1    2  Total\n",
            "Obstruction                            \n",
            "1                       718   74    792\n",
            "2                       924  136   1060\n",
            "99                      110   17    127\n",
            "Total                  1752  227   1979\n",
            "Percentage:\n",
            "Event_caused_specific       1       2   Total\n",
            "Obstruction                                  \n",
            "1                       40.98   32.60   40.02\n",
            "2                       52.74   59.91   53.56\n",
            "99                       6.28    7.49    6.42\n",
            "Total                  100.00  100.00  100.00\n",
            "\n",
            "\n"
          ]
        }
      ]
    },
    {
      "cell_type": "code",
      "source": [
        "# Create a dummy dataframe, df. In practice, you would use your actual data.\n",
        "# This is just an example.\n",
        "\n",
        "# Path for the output Excel file\n",
        "output_path = 'JSCCR cross table2.xlsx'\n",
        "\n",
        "# Use ExcelWriter to write to the file\n",
        "with pd.ExcelWriter(output_path) as writer:\n",
        "    for variable in category_variables:\n",
        "        # Cross table of Event vs category\n",
        "        cross_tab = pd.crosstab(df[variable], df['Event_caused_specific'], margins=True, margins_name='Total')\n",
        "\n",
        "        # Calculate percentage\n",
        "        cross_tab_percentage = cross_tab.div(cross_tab.loc['Total', :], axis=1).round(4) * 100\n",
        "\n",
        "        # Write count to an Excel sheet\n",
        "        cross_tab.to_excel(writer, sheet_name=f'{variable} Count')\n",
        "\n",
        "        # Write percentage to a different Excel sheet\n",
        "        cross_tab_percentage.to_excel(writer, sheet_name=f'{variable} Percentage')\n",
        "\n",
        "# If using Google Colab, download the created Excel file\n",
        "# from google.colab import files\n",
        "# files.download(output_path)"
      ],
      "metadata": {
        "colab": {
          "base_uri": "https://localhost:8080/"
        },
        "id": "1ltFgoPXldan",
        "outputId": "2fab0045-7e38-47a9-c151-6228b85c2e72"
      },
      "execution_count": null,
      "outputs": [
        {
          "output_type": "stream",
          "name": "stderr",
          "text": [
            "/usr/local/lib/python3.11/dist-packages/openpyxl/workbook/child.py:99: UserWarning: Title is more than 31 characters. Some applications may not be able to read the file\n",
            "  warnings.warn(\"Title is more than 31 characters. Some applications may not be able to read the file\")\n"
          ]
        }
      ]
    },
    {
      "cell_type": "code",
      "source": [],
      "metadata": {
        "id": "n11jVV-Elddt"
      },
      "execution_count": null,
      "outputs": []
    },
    {
      "cell_type": "code",
      "source": [
        "category_variables = ['gender', 'age', 'Approach', 'operation', 'Dissection Level',\n",
        "                      'Pathology', 'pDepth', 'ly', 'v', 'CEA',\n",
        "                       'LN number', 'Event_subdistribution', 'Location', 'Obstruction']\n",
        "\n",
        "for variable in category_variables:\n",
        "    # Event vs  category cross table\n",
        "    cross_tab = pd.crosstab(df[variable], df['Event_subdistribution'], margins=True, margins_name='Total')\n",
        "\n",
        "    # percentage\n",
        "    cross_tab_percentage = cross_tab.div(cross_tab.loc['Total', :], axis=1).round(4) * 100\n",
        "\n",
        "    # result\n",
        "    print(f'--- {variable} vs Event_subdistribution ---')\n",
        "    print('Count:')\n",
        "    print(cross_tab)\n",
        "    print('Percentage:')\n",
        "    print(cross_tab_percentage)\n",
        "    print('\\n')"
      ],
      "metadata": {
        "colab": {
          "base_uri": "https://localhost:8080/"
        },
        "id": "eAUboME_ldg3",
        "outputId": "d23dd70c-b6c3-4080-9be1-d3a59b2b80cf"
      },
      "execution_count": null,
      "outputs": [
        {
          "output_type": "stream",
          "name": "stdout",
          "text": [
            "--- gender vs Event_subdistribution ---\n",
            "Count:\n",
            "Event_subdistribution     1    2   3  Total\n",
            "gender                                     \n",
            "1                       771   84  17    872\n",
            "2                       918  143  46   1107\n",
            "Total                  1689  227  63   1979\n",
            "Percentage:\n",
            "Event_subdistribution       1      2       3   Total\n",
            "gender                                              \n",
            "1                       45.65   37.0   26.98   44.06\n",
            "2                       54.35   63.0   73.02   55.94\n",
            "Total                  100.00  100.0  100.00  100.00\n",
            "\n",
            "\n",
            "--- age vs Event_subdistribution ---\n",
            "Count:\n",
            "Event_subdistribution     1    2   3  Total\n",
            "age                                        \n",
            "1                       636   74  11    721\n",
            "2                      1053  153  52   1258\n",
            "Total                  1689  227  63   1979\n",
            "Percentage:\n",
            "Event_subdistribution       1      2       3   Total\n",
            "age                                                 \n",
            "1                       37.66   32.6   17.46   36.43\n",
            "2                       62.34   67.4   82.54   63.57\n",
            "Total                  100.00  100.0  100.00  100.00\n",
            "\n",
            "\n",
            "--- Approach vs Event_subdistribution ---\n",
            "Count:\n",
            "Event_subdistribution     1    2   3  Total\n",
            "Approach                                   \n",
            "1                       255   32   6    293\n",
            "2                      1360  187  56   1603\n",
            "99                       74    8   1     83\n",
            "Total                  1689  227  63   1979\n",
            "Percentage:\n",
            "Event_subdistribution       1       2       3   Total\n",
            "Approach                                             \n",
            "1                       15.10   14.10    9.52   14.81\n",
            "2                       80.52   82.38   88.89   81.00\n",
            "99                       4.38    3.52    1.59    4.19\n",
            "Total                  100.00  100.00  100.00  100.00\n",
            "\n",
            "\n",
            "--- operation vs Event_subdistribution ---\n",
            "Count:\n",
            "Event_subdistribution     1    2   3  Total\n",
            "operation                                  \n",
            "1                       145   20   3    168\n",
            "2                       121   13   5    139\n",
            "3                       476   60  20    556\n",
            "4                       126   20   2    148\n",
            "5                       547   82  21    650\n",
            "6                        22    9   3     34\n",
            "7                       252   23   9    284\n",
            "Total                  1689  227  63   1979\n",
            "Percentage:\n",
            "Event_subdistribution       1       2       3   Total\n",
            "operation                                            \n",
            "1                        8.58    8.81    4.76    8.49\n",
            "2                        7.16    5.73    7.94    7.02\n",
            "3                       28.18   26.43   31.75   28.09\n",
            "4                        7.46    8.81    3.17    7.48\n",
            "5                       32.39   36.12   33.33   32.84\n",
            "6                        1.30    3.96    4.76    1.72\n",
            "7                       14.92   10.13   14.29   14.35\n",
            "Total                  100.00  100.00  100.00  100.00\n",
            "\n",
            "\n",
            "--- Dissection Level vs Event_subdistribution ---\n",
            "Count:\n",
            "Event_subdistribution     1    2   3  Total\n",
            "Dissection Level                           \n",
            "1                      1057  128  30   1215\n",
            "2                       520   81  29    630\n",
            "3                       112   18   4    134\n",
            "Total                  1689  227  63   1979\n",
            "Percentage:\n",
            "Event_subdistribution       1       2       3   Total\n",
            "Dissection Level                                     \n",
            "1                       62.58   56.39   47.62   61.39\n",
            "2                       30.79   35.68   46.03   31.83\n",
            "3                        6.63    7.93    6.35    6.77\n",
            "Total                  100.00  100.00  100.00  100.00\n",
            "\n",
            "\n",
            "--- Pathology vs Event_subdistribution ---\n",
            "Count:\n",
            "Event_subdistribution     1    2   3  Total\n",
            "Pathology                                  \n",
            "1                       813  104  32    949\n",
            "2                       774  115  27    916\n",
            "3                       102    8   4    114\n",
            "Total                  1689  227  63   1979\n",
            "Percentage:\n",
            "Event_subdistribution       1       2       3   Total\n",
            "Pathology                                            \n",
            "1                       48.13   45.81   50.79   47.95\n",
            "2                       45.83   50.66   42.86   46.29\n",
            "3                        6.04    3.52    6.35    5.76\n",
            "Total                  100.00  100.00  100.00  100.00\n",
            "\n",
            "\n",
            "--- pDepth vs Event_subdistribution ---\n",
            "Count:\n",
            "Event_subdistribution     1    2   3  Total\n",
            "pDepth                                     \n",
            "1                      1391  153  51   1595\n",
            "2                       238   60   8    306\n",
            "3                        60   14   4     78\n",
            "Total                  1689  227  63   1979\n",
            "Percentage:\n",
            "Event_subdistribution       1       2       3   Total\n",
            "pDepth                                               \n",
            "1                       82.36   67.40   80.95   80.60\n",
            "2                       14.09   26.43   12.70   15.46\n",
            "3                        3.55    6.17    6.35    3.94\n",
            "Total                  100.00  100.00  100.00  100.00\n",
            "\n",
            "\n",
            "--- ly vs Event_subdistribution ---\n",
            "Count:\n",
            "Event_subdistribution     1    2   3  Total\n",
            "ly                                         \n",
            "1                       715  100  22    837\n",
            "2                       974  127  41   1142\n",
            "Total                  1689  227  63   1979\n",
            "Percentage:\n",
            "Event_subdistribution       1       2       3   Total\n",
            "ly                                                   \n",
            "1                       42.33   44.05   34.92   42.29\n",
            "2                       57.67   55.95   65.08   57.71\n",
            "Total                  100.00  100.00  100.00  100.00\n",
            "\n",
            "\n",
            "--- v vs Event_subdistribution ---\n",
            "Count:\n",
            "Event_subdistribution     1    2   3  Total\n",
            "v                                          \n",
            "1                       602   76  19    697\n",
            "2                      1087  151  44   1282\n",
            "Total                  1689  227  63   1979\n",
            "Percentage:\n",
            "Event_subdistribution       1       2       3   Total\n",
            "v                                                    \n",
            "1                       35.64   33.48   30.16   35.22\n",
            "2                       64.36   66.52   69.84   64.78\n",
            "Total                  100.00  100.00  100.00  100.00\n",
            "\n",
            "\n",
            "--- CEA vs Event_subdistribution ---\n",
            "Count:\n",
            "Event_subdistribution     1    2   3  Total\n",
            "CEA                                        \n",
            "1.0                    1112  125  38   1275\n",
            "2.0                     577  102  25    704\n",
            "Total                  1689  227  63   1979\n",
            "Percentage:\n",
            "Event_subdistribution       1       2       3   Total\n",
            "CEA                                                  \n",
            "1.0                     65.84   55.07   60.32   64.43\n",
            "2.0                     34.16   44.93   39.68   35.57\n",
            "Total                  100.00  100.00  100.00  100.00\n",
            "\n",
            "\n",
            "--- LN number vs Event_subdistribution ---\n",
            "Count:\n",
            "Event_subdistribution     1    2   3  Total\n",
            "LN number                                  \n",
            "1                      1229  158  46   1433\n",
            "2                       460   69  17    546\n",
            "Total                  1689  227  63   1979\n",
            "Percentage:\n",
            "Event_subdistribution       1      2       3   Total\n",
            "LN number                                           \n",
            "1                       72.76   69.6   73.02   72.41\n",
            "2                       27.24   30.4   26.98   27.59\n",
            "Total                  100.00  100.0  100.00  100.00\n",
            "\n",
            "\n",
            "--- Event_subdistribution vs Event_subdistribution ---\n",
            "Count:\n",
            "Event_subdistribution     1    2   3  Total\n",
            "Event_subdistribution                      \n",
            "1                      1689    0   0   1689\n",
            "2                         0  227   0    227\n",
            "3                         0    0  63     63\n",
            "Total                  1689  227  63   1979\n",
            "Percentage:\n",
            "Event_subdistribution      1      2      3   Total\n",
            "Event_subdistribution                             \n",
            "1                      100.0    0.0    0.0   85.35\n",
            "2                        0.0  100.0    0.0   11.47\n",
            "3                        0.0    0.0  100.0    3.18\n",
            "Total                  100.0  100.0  100.0  100.00\n",
            "\n",
            "\n",
            "--- Location vs Event_subdistribution ---\n",
            "Count:\n",
            "Event_subdistribution     1    2   3  Total\n",
            "Location                                   \n",
            "1                       769  100  28    897\n",
            "2                       920  127  35   1082\n",
            "Total                  1689  227  63   1979\n",
            "Percentage:\n",
            "Event_subdistribution       1       2       3   Total\n",
            "Location                                             \n",
            "1                       45.53   44.05   44.44   45.33\n",
            "2                       54.47   55.95   55.56   54.67\n",
            "Total                  100.00  100.00  100.00  100.00\n",
            "\n",
            "\n",
            "--- Obstruction vs Event_subdistribution ---\n",
            "Count:\n",
            "Event_subdistribution     1    2   3  Total\n",
            "Obstruction                                \n",
            "1                       698   74  20    792\n",
            "2                       885  136  39   1060\n",
            "99                      106   17   4    127\n",
            "Total                  1689  227  63   1979\n",
            "Percentage:\n",
            "Event_subdistribution       1       2       3   Total\n",
            "Obstruction                                          \n",
            "1                       41.33   32.60   31.75   40.02\n",
            "2                       52.40   59.91   61.90   53.56\n",
            "99                       6.28    7.49    6.35    6.42\n",
            "Total                  100.00  100.00  100.00  100.00\n",
            "\n",
            "\n"
          ]
        }
      ]
    },
    {
      "cell_type": "code",
      "source": [
        "# Create a dummy dataframe, df. In practice, you would use your actual data.\n",
        "# This is just an example.\n",
        "\n",
        "# Path for the output Excel file\n",
        "output_path = 'JSCCR cross table3.xlsx'\n",
        "\n",
        "# Use ExcelWriter to write to the file\n",
        "with pd.ExcelWriter(output_path) as writer:\n",
        "    for variable in category_variables:\n",
        "        # Cross table of Event vs category\n",
        "        cross_tab = pd.crosstab(df[variable], df['Event_subdistribution'], margins=True, margins_name='Total')\n",
        "\n",
        "        # Calculate percentage\n",
        "        cross_tab_percentage = cross_tab.div(cross_tab.loc['Total', :], axis=1).round(4) * 100\n",
        "\n",
        "        # Write count to an Excel sheet\n",
        "        cross_tab.to_excel(writer, sheet_name=f'{variable} Count')\n",
        "\n",
        "        # Write percentage to a different Excel sheet\n",
        "        cross_tab_percentage.to_excel(writer, sheet_name=f'{variable} Percentage')\n",
        "\n",
        "# If using Google Colab, download the created Excel file\n",
        "# from google.colab import files\n",
        "# files.download(output_path)"
      ],
      "metadata": {
        "colab": {
          "base_uri": "https://localhost:8080/"
        },
        "id": "WZVkrm2Kldju",
        "outputId": "f3ef41f4-5995-4155-a2ee-4922f03cb995"
      },
      "execution_count": null,
      "outputs": [
        {
          "output_type": "stream",
          "name": "stderr",
          "text": [
            "/usr/local/lib/python3.11/dist-packages/openpyxl/workbook/child.py:99: UserWarning: Title is more than 31 characters. Some applications may not be able to read the file\n",
            "  warnings.warn(\"Title is more than 31 characters. Some applications may not be able to read the file\")\n"
          ]
        }
      ]
    },
    {
      "cell_type": "code",
      "source": [],
      "metadata": {
        "id": "oixnaoMHldms"
      },
      "execution_count": null,
      "outputs": []
    },
    {
      "cell_type": "code",
      "source": [],
      "metadata": {
        "id": "jzU_5oJ7ldqN"
      },
      "execution_count": null,
      "outputs": []
    }
  ]
}